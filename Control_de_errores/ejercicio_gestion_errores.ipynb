{
 "cells": [
  {
   "attachments": {},
   "cell_type": "markdown",
   "metadata": {},
   "source": [
    "1) Localiza el error en el siguiente bloque de código. Crea una excepción para evitar que el programa se bloquee y además explica en un mensaje al usuario la causa y/o solución:\n",
    "\n",
    "resultado = 10/0\n"
   ]
  },
  {
   "cell_type": "code",
   "execution_count": 10,
   "metadata": {},
   "outputs": [
    {
     "name": "stdout",
     "output_type": "stream",
     "text": [
      "La division entre 0 no está definida. \n",
      " Prueba con un valor diferente a 0.\n"
     ]
    }
   ],
   "source": [
    "\"\"\"\n",
    "caso de prueba de error\n",
    "input: \n",
    "    valor1=10\n",
    "    valor2=0\n",
    "\n",
    "\"\"\"\n",
    "try:\n",
    "    valor1= int(input(\"Digite o primeiro valor: \"))\n",
    "    valor2= int(input(\"Digite o segundo valor: \"))\n",
    "    operacion= valor1 / valor2    \n",
    "    \n",
    "except:\n",
    "    print(\"La division entre 0 no está definida. \\n Prueba con un valor diferente a 0.\")\n",
    "    "
   ]
  },
  {
   "attachments": {},
   "cell_type": "markdown",
   "metadata": {},
   "source": [
    "2) Localiza el error en el siguiente bloque de código.  Crea una excepción para evitar que el programa se bloquee y además explica en un mensaje al usuario la causa y/o solución:**\n",
    "\n",
    "lista = [1, 2, 3, 4, 5]\n",
    "lista[10]\n"
   ]
  },
  {
   "cell_type": "code",
   "execution_count": 21,
   "metadata": {},
   "outputs": [
    {
     "data": {
      "text/plain": [
       "0"
      ]
     },
     "execution_count": 21,
     "metadata": {},
     "output_type": "execute_result"
    }
   ],
   "source": [
    "lista = [1, 2, 3, 4, 5]\n",
    "\n",
    "lista.index(eval(input(\"Ingrese el valor a buscar: \")))"
   ]
  },
  {
   "cell_type": "code",
   "execution_count": 25,
   "metadata": {},
   "outputs": [
    {
     "name": "stdout",
     "output_type": "stream",
     "text": [
      "Al parecer el valor de la posición está fuera de rango. \n",
      "          Intenta con un valor dentro de la longitud de la lista.\n"
     ]
    }
   ],
   "source": [
    "\"\"\"\n",
    "caso de prueba de error\n",
    "lista = [1, 2, 3, 4, 5]\n",
    "lista[10]\n",
    "\"\"\"\n",
    "\n",
    "try:\n",
    "    lista = [1, 2, 3, 4, 5]\n",
    "\n",
    "    lista[10]\n",
    "\n",
    "except:\n",
    "    print(\"\"\"Al parecer el valor de la posición está fuera de rango. \n",
    "          Intenta con un valor dentro de la longitud de la lista.\"\"\")"
   ]
  },
  {
   "attachments": {},
   "cell_type": "markdown",
   "metadata": {},
   "source": [
    "3) Localiza el error en el siguiente bloque de código.  Crea una excepción para evitar que el programa se bloquee y además explica en un mensaje al usuario la causa y/o solución:\n",
    "\n",
    "colores = { 'rojo':'red', 'verde':'green', 'negro':'black' }\n",
    "colores['blanco']\n"
   ]
  },
  {
   "cell_type": "code",
   "execution_count": 29,
   "metadata": {},
   "outputs": [
    {
     "name": "stdout",
     "output_type": "stream",
     "text": [
      "No se puede acceder a los valores de la colección. \n",
      "          La clave que buscas no se encuentra en el diccionario.\n"
     ]
    }
   ],
   "source": [
    "\"\"\"\n",
    "colores = { 'rojo':'red', 'verde':'green', 'negro':'black' }\n",
    "colores['blanco']\n",
    "\"\"\"\n",
    "\n",
    "try:\n",
    "    colores = { 'rojo':'red', 'verde':'green', 'negro':'black' }\n",
    "    colores['blanco']\n",
    "except:\n",
    "    print('''No se puede acceder a los valores de la colección. \n",
    "          La clave que buscas no se encuentra en el diccionario.''')"
   ]
  },
  {
   "attachments": {},
   "cell_type": "markdown",
   "metadata": {},
   "source": [
    "4) Localiza el error en el siguiente bloque de código.  Crea una excepción para evitar que el programa se bloquee y además explica en un mensaje al usuario la causa y/o solución:\n",
    "\n",
    "resultado = \"20\" + 15\n"
   ]
  },
  {
   "cell_type": "code",
   "execution_count": 33,
   "metadata": {},
   "outputs": [
    {
     "name": "stdout",
     "output_type": "stream",
     "text": [
      "No es posible concatenar un tipo de dato cadena con un entero. \n",
      "          Intenta colocar los dos valores en enteros o cadena.\n"
     ]
    }
   ],
   "source": [
    "try:\n",
    "    resultado = \"20\" + 15\n",
    "\n",
    "except:\n",
    "    print(\"\"\"No es posible concatenar un tipo de dato cadena con un entero. \n",
    "          Intenta colocar los dos valores en enteros o cadena.\"\"\")"
   ]
  },
  {
   "attachments": {},
   "cell_type": "markdown",
   "metadata": {},
   "source": [
    "5) Realiza una función llamada agregar_una_vez() que reciba una lista y un elemento. La función debe añadir el elemento al final de la lista con la condición de no repetir ningún elemento. Además si este elemento ya se encuentra en la lista se debe invocar un error de tipo ValueError que debes capturar y mostrar este mensaje en su lugar:"
   ]
  },
  {
   "cell_type": "code",
   "execution_count": 83,
   "metadata": {},
   "outputs": [
    {
     "name": "stdout",
     "output_type": "stream",
     "text": [
      "Ya existe el elemento 2\n",
      "La lista resultante es [1, 5, -1, 2]\n"
     ]
    }
   ],
   "source": [
    "#se crea la lista con los valores\n",
    "elementos= [1,5,-1]\n",
    "\n",
    "#define la funcion con los parametros\n",
    "def agregar_una_vez(lista_1, elemento):\n",
    "    #comprobamos si el elemento esta en la lista\n",
    "    if elemento in lista_1:\n",
    "        #lanzamos el error\n",
    "        raise ValueError(\"\"\"Ya existe el elemento {}\"\"\".\n",
    "                         format(elemento))\n",
    "    #sino almacenamos el elemento en la lista1\n",
    "    lista_1.append(elemento)\n",
    "        \n",
    "try:\n",
    "    #aqui llamamos a la funcion, la lista a agregar valor y el valor\n",
    "    agregar_una_vez(elementos, 2)\n",
    "    agregar_una_vez(elementos, 2)\n",
    "except ValueError as e:\n",
    "    print(e.args[0])\n",
    "\n",
    "#imprime esto si los resultados son correctos\n",
    "else:\n",
    "    print(\"Elementos agregados correctamente\")\n",
    "\n",
    "#finally imprimirá por defecto\n",
    "finally:\n",
    "    print(\"La lista resultante es {}\".format(elementos))"
   ]
  }
 ],
 "metadata": {
  "kernelspec": {
   "display_name": "Python 3",
   "language": "python",
   "name": "python3"
  },
  "language_info": {
   "codemirror_mode": {
    "name": "ipython",
    "version": 3
   },
   "file_extension": ".py",
   "mimetype": "text/x-python",
   "name": "python",
   "nbconvert_exporter": "python",
   "pygments_lexer": "ipython3",
   "version": "3.10.6"
  },
  "orig_nbformat": 4,
  "vscode": {
   "interpreter": {
    "hash": "916dbcbb3f70747c44a77c7bcd40155683ae19c65e1c03b4aa3499c5328201f1"
   }
  }
 },
 "nbformat": 4,
 "nbformat_minor": 2
}
