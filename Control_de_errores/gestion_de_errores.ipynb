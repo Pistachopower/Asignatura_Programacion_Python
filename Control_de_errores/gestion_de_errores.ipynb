{
 "cells": [
  {
   "attachments": {},
   "cell_type": "markdown",
   "metadata": {},
   "source": [
    "<pre>\n",
    "##Gestion de errores \n",
    "\n",
    "-Errores de sintaxis: SyntaxError\n",
    "\n",
    "<pre>"
   ]
  },
  {
   "cell_type": "code",
   "execution_count": 3,
   "metadata": {},
   "outputs": [
    {
     "ename": "SyntaxError",
     "evalue": "incomplete input (4054794001.py, line 1)",
     "output_type": "error",
     "traceback": [
      "\u001b[0;36m  Cell \u001b[0;32mIn[3], line 1\u001b[0;36m\u001b[0m\n\u001b[0;31m    print('hola'\u001b[0m\n\u001b[0m                ^\u001b[0m\n\u001b[0;31mSyntaxError\u001b[0m\u001b[0;31m:\u001b[0m incomplete input\n"
     ]
    }
   ],
   "source": [
    "print('hola'"
   ]
  },
  {
   "attachments": {},
   "cell_type": "markdown",
   "metadata": {},
   "source": [
    "<pre>\n",
    "<b>Avance de teoria con errores</b>\n",
    "\n",
    "##Gestion de errores \n",
    "\n",
    "-Errores de nombre: NameError\n",
    "\n",
    "<pre>\n"
   ]
  },
  {
   "cell_type": "code",
   "execution_count": null,
   "metadata": {},
   "outputs": [],
   "source": [
    "pint('hola')"
   ]
  },
  {
   "attachments": {},
   "cell_type": "markdown",
   "metadata": {},
   "source": [
    "<pre>\n",
    "##Errores semantico \n",
    "\n",
    "<pre>"
   ]
  },
  {
   "cell_type": "code",
   "execution_count": null,
   "metadata": {},
   "outputs": [],
   "source": [
    "l=[]\n",
    "l.pop()"
   ]
  },
  {
   "cell_type": "code",
   "execution_count": null,
   "metadata": {},
   "outputs": [],
   "source": [
    "#Este problema:\n",
    "\n",
    "l[2]"
   ]
  },
  {
   "cell_type": "code",
   "execution_count": null,
   "metadata": {},
   "outputs": [],
   "source": [
    "#Se soluciona asi:\n",
    "l=[1,2,3]\n",
    "if len(l) > 0:\n",
    "    l.pop()\n",
    "else:\n",
    "    print('l is empty')"
   ]
  },
  {
   "attachments": {},
   "cell_type": "markdown",
   "metadata": {},
   "source": [
    "##Errores de tipo: TypeError"
   ]
  },
  {
   "cell_type": "code",
   "execution_count": null,
   "metadata": {},
   "outputs": [],
   "source": [
    "#TypeError: unsupported operand type(s) for /: 'str' and 'int'\n",
    "#Solucion: n= float input('Introduce un numero: ') \n",
    "n= input('Introduce un numero: ')\n",
    "m= 4\n",
    "print('{} / {} = {}'.format(n,m,n/m))"
   ]
  },
  {
   "attachments": {},
   "cell_type": "markdown",
   "metadata": {},
   "source": [
    "#Errores de tipo: ValueError"
   ]
  },
  {
   "cell_type": "code",
   "execution_count": null,
   "metadata": {},
   "outputs": [],
   "source": [
    "int('kkkk')"
   ]
  },
  {
   "attachments": {},
   "cell_type": "markdown",
   "metadata": {},
   "source": [
    "###Excepciones \n",
    "\n",
    "Errores detectados durante la ejecucion de un programa. Podemos manejarlos en los programas. \n",
    "*Bloques try y except"
   ]
  },
  {
   "cell_type": "code",
   "execution_count": null,
   "metadata": {},
   "outputs": [],
   "source": [
    "try:\n",
    "    #n= int(input('Introduce un número: '))\n",
    "    n= input('Introduce un número: ')\n",
    "    m= 4\n",
    "    print(\"{} / {} = {}\".format(n,m, n/m))\n",
    "except:\n",
    "    print('Introduce bien el numero')"
   ]
  },
  {
   "cell_type": "code",
   "execution_count": null,
   "metadata": {},
   "outputs": [],
   "source": [
    "while (True):\n",
    "    try:\n",
    "        #n= int(input('Introduce un número: '))\n",
    "        n= int(input('Introduce un número: '))\n",
    "        m= 4\n",
    "        print(\"{} / {} = {}\".format(n,m, n/m))\n",
    "        break\n",
    "    except:\n",
    "        print('Introduce bien el numero')"
   ]
  },
  {
   "cell_type": "code",
   "execution_count": null,
   "metadata": {},
   "outputs": [],
   "source": [
    "while (True):\n",
    "    try:\n",
    "        #n= int(input('Introduce un número: '))\n",
    "        n= int(input('Introduce un número: '))\n",
    "        m= 4\n",
    "        print(\"{} / {} = {}\".format(n,m, n/m))\n",
    "        \n",
    "    except:\n",
    "        print('Introduce bien el numero')\n",
    "        \n",
    "    else:\n",
    "        print('Todo ha funcionado correctamente')\n",
    "        break"
   ]
  },
  {
   "cell_type": "code",
   "execution_count": null,
   "metadata": {},
   "outputs": [],
   "source": [
    "#ESTÉ O NO ESTÉ ERROR VA A SALTAR FINALLY\n",
    "while (True):\n",
    "    try:\n",
    "        #n= int(input('Introduce un número: '))\n",
    "        n= int(input('Introduce un número: '))\n",
    "        m= 4\n",
    "        print(\"{} / {} = {}\".format(n,m, n/m))\n",
    "        \n",
    "    except:\n",
    "        print('Introduce bien el numero')\n",
    "        \n",
    "    else:\n",
    "        print('Todo ha funcionado correctamente')\n",
    "        break\n",
    "    finally:\n",
    "        print('Fin de la iteracion')"
   ]
  },
  {
   "attachments": {},
   "cell_type": "markdown",
   "metadata": {},
   "source": [
    "###Excepciones multiples\n",
    "*Guardado de excepciones"
   ]
  },
  {
   "cell_type": "code",
   "execution_count": null,
   "metadata": {},
   "outputs": [],
   "source": [
    "try:\n",
    "    n= input(\"Introduce un número: \")\n",
    "    5/n\n",
    "except Exception as guardadorDeError:\n",
    "    print(type(guardadorDeError).__name__)\n",
    "#te aparece el tipo de error (podemos conocer a fonde el tipo de error)"
   ]
  },
  {
   "attachments": {},
   "cell_type": "markdown",
   "metadata": {},
   "source": [
    "#Excepciones encadenadas"
   ]
  },
  {
   "cell_type": "code",
   "execution_count": null,
   "metadata": {},
   "outputs": [],
   "source": [
    "try:\n",
    "    n= int(input(\"Introduce un número: \"))\n",
    "    5/n\n",
    "except TypeError:\n",
    "    print('No se puede dividir un número por una cadena')\n",
    "except ValueError:\n",
    "    print('Debes introduciruna cadena que sea número')\n",
    "except ZeroDivisionError:\n",
    "    print('No se puede dividir un número por una cero')\n",
    "except Exception as error:\n",
    "    print(type(error).__name__)"
   ]
  },
  {
   "cell_type": "code",
   "execution_count": null,
   "metadata": {},
   "outputs": [],
   "source": [
    "def mi_funcion(a=None):\n",
    "    if a is None:\n",
    "        print('Error, no se permite un valor nulo')\n",
    "        \n",
    "mi_funcion()"
   ]
  },
  {
   "cell_type": "code",
   "execution_count": null,
   "metadata": {},
   "outputs": [],
   "source": [
    "#raise ValueError: no tipos de errores controlados por nosotros\n",
    "def mi_funcion(a=None):\n",
    "    try:\n",
    "        if a is None:\n",
    "            raise ValueError ('Error, no se permite un valor nulo')\n",
    "        else:\n",
    "            print(\"Todo está correcto \")\n",
    "    except ValueError:\n",
    "        ('Error, no se permite un valor nulo(desde la excepcion)')\n",
    "\n",
    "mi_funcion(a=None)"
   ]
  },
  {
   "cell_type": "code",
   "execution_count": 1,
   "metadata": {},
   "outputs": [
    {
     "name": "stdout",
     "output_type": "stream",
     "text": [
      "ERROR: Imposible añadir elementos duplicados => [-2]\n",
      "La lista resultante es [1, 5, -2, 10]\n"
     ]
    }
   ],
   "source": [
    "elementos = [1, 5, -2]\n",
    "\n",
    "# Completa el ejercicio aquí\n",
    "def agregar_una_vez(lista, elemento):\n",
    "    if elemento in lista:\n",
    "        raise ValueError(\"ERROR: Imposible añadir elementos duplicados => [{}]\".format(elemento))\n",
    "    lista.append(elemento)\n",
    "    \n",
    "try:\n",
    "    agregar_una_vez(elementos, 10)\n",
    "    agregar_una_vez(elementos, -2)\n",
    "except ValueError as e:\n",
    "    print(e.args[0])\n",
    "else:\n",
    "    print(\"Elementos agregados correctamente\")\n",
    "finally:\n",
    "    print(\"La lista resultante es {}\".format(elementos))"
   ]
  },
  {
   "attachments": {},
   "cell_type": "markdown",
   "metadata": {},
   "source": [
    "Tema 07: Gestión de errores (Enunciados)\n",
    "1) Localiza el error en el siguiente bloque de código. Crea una excepción para evitar que el programa se bloquee y además explica en un mensaje al usuario la causa y/o solución:"
   ]
  },
  {
   "attachments": {},
   "cell_type": "markdown",
   "metadata": {},
   "source": [
    "https://notebook.community/CarlosUrda/Curso-Maestro-de-Python-3-Udemy/Fase%202%20-%20Manejo%20de%20datos%20y%20optimizacion/Tema%2007%20-%20Gestion%20de%20errores/Ejercicios/Enunciados\n"
   ]
  },
  {
   "cell_type": "code",
   "execution_count": null,
   "metadata": {},
   "outputs": [],
   "source": [
    "# Completa el ejercicio aquí\n",
    "try:\n",
    "    resultado = 10/0\n",
    "except ZeroDivisionError:\n",
    "    print(\"ERROR: división por cero\")\n",
    "else:\n",
    "    print(\"División realizada correctamente\")\n",
    "finally:\n",
    "    print(\"Fin del bloque try\")"
   ]
  },
  {
   "attachments": {},
   "cell_type": "markdown",
   "metadata": {},
   "source": [
    "2) Localiza el error en el siguiente bloque de código. Crea una excepción para evitar que el programa se bloquee y además explica en un mensaje al usuario la causa y/o solución:"
   ]
  },
  {
   "cell_type": "code",
   "execution_count": null,
   "metadata": {},
   "outputs": [],
   "source": [
    "# Completa el ejercicio aquí\n",
    "try:\n",
    "    lista = [1, 2, 3, 4, 5]\n",
    "    lista[10]\n",
    "except IndexError:\n",
    "    print(\"ERROR: acceso a índice incorrecto en lista\")\n",
    "else:\n",
    "    print(\"Manejo de listas correcto\")\n",
    "finally:\n",
    "    print(\"Fin del bloque try\")"
   ]
  },
  {
   "attachments": {},
   "cell_type": "markdown",
   "metadata": {},
   "source": [
    "3) Localiza el error en el siguiente bloque de código. Crea una excepción para evitar que el programa se bloquee y además explica en un mensaje al usuario la causa y/o solución:"
   ]
  },
  {
   "cell_type": "code",
   "execution_count": null,
   "metadata": {},
   "outputs": [],
   "source": [
    "\n",
    "\n",
    "# Completa el ejercicio aquí\n",
    "try:\n",
    "    colores = { 'rojo':'red', 'verde':'green', 'negro':'black' } \n",
    "    colores['blanco']\n",
    "except KeyError:\n",
    "    print(\"ERROR: acceso a clave incorrecta en diccionario\")\n",
    "else:\n",
    "    print(\"Manejo de diccionario correcto\")\n",
    "finally:\n",
    "    print(\"Fin del bloque try\")\n",
    "\n"
   ]
  },
  {
   "attachments": {},
   "cell_type": "markdown",
   "metadata": {},
   "source": [
    "4) Localiza el error en el siguiente bloque de código. Crea una excepción para evitar que el programa se bloquee y además explica en un mensaje al usuario la causa y/o solución:"
   ]
  },
  {
   "cell_type": "code",
   "execution_count": null,
   "metadata": {},
   "outputs": [],
   "source": [
    "\n",
    "\n",
    "\n",
    "# Completa el ejercicio aquí\n",
    "try:\n",
    "    resultado = 15 + \"20\"\n",
    "except TypeError:\n",
    "    print(\"ERROR: intento de suma de número y cadena\")\n",
    "else:\n",
    "    print(\"Operación realizada correctamente\")\n",
    "finally:\n",
    "    print(\"Fin del bloque try\")\n",
    "\n"
   ]
  },
  {
   "attachments": {},
   "cell_type": "markdown",
   "metadata": {},
   "source": [
    "\n",
    "5) Realiza una función llamada agregar_una_vez() que reciba una lista y un elemento. La función debe añadir el elemento al final de la lista con la condición de no repetir ningún elemento. Además si este elemento ya se encuentra en la lista se debe invocar un error de tipo ValueError que debes capturar y mostrar este mensaje en su lugar:\n",
    "\n",
    "Error: Imposible añadir elementos duplicados => [elemento].\n",
    "\n",
    "Prueba de agregar los elementos 10, -2, \"Hola\" a la lista de elementos con la función una vez la has creado y luego muestra su contenido.\n",
    "\n",
    "Nota: Puedes utilizar la sintaxis: elemento in lista"
   ]
  },
  {
   "cell_type": "code",
   "execution_count": 2,
   "metadata": {},
   "outputs": [
    {
     "name": "stdout",
     "output_type": "stream",
     "text": [
      "ERROR: Imposible añadir elementos duplicados => [-2]\n",
      "La lista resultante es [1, 5, -2, 10]\n"
     ]
    }
   ],
   "source": [
    "elementos = [1, 5, -2]\n",
    "\n",
    "# Completa el ejercicio aquí\n",
    "def agregar_una_vez(lista, elemento):\n",
    "    if elemento in lista:\n",
    "        raise ValueError(\"ERROR: Imposible añadir elementos duplicados => [{}]\".format(elemento))\n",
    "    lista.append(elemento)\n",
    "    \n",
    "try:\n",
    "    agregar_una_vez(elementos, 10)\n",
    "    agregar_una_vez(elementos, -2)\n",
    "except ValueError as e:\n",
    "    print(e.args[0])\n",
    "else:\n",
    "    print(\"Elementos agregados correctamente\")\n",
    "finally:\n",
    "    print(\"La lista resultante es {}\".format(elementos))"
   ]
  }
 ],
 "metadata": {
  "kernelspec": {
   "display_name": "Python 3",
   "language": "python",
   "name": "python3"
  },
  "language_info": {
   "codemirror_mode": {
    "name": "ipython",
    "version": 3
   },
   "file_extension": ".py",
   "mimetype": "text/x-python",
   "name": "python",
   "nbconvert_exporter": "python",
   "pygments_lexer": "ipython3",
   "version": "3.10.6"
  },
  "orig_nbformat": 4,
  "vscode": {
   "interpreter": {
    "hash": "916dbcbb3f70747c44a77c7bcd40155683ae19c65e1c03b4aa3499c5328201f1"
   }
  }
 },
 "nbformat": 4,
 "nbformat_minor": 2
}
