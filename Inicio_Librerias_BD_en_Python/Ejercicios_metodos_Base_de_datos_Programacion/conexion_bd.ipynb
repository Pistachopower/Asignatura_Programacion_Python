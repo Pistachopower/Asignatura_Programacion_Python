{
 "cells": [
  {
   "cell_type": "code",
   "execution_count": 14,
   "metadata": {},
   "outputs": [
    {
     "name": "stdout",
     "output_type": "stream",
     "text": [
      "/home/alumnado/Escritorio/Programacion/Programacion de Base de datos\n"
     ]
    }
   ],
   "source": [
    "import os \n",
    "\n",
    "dir= os.getcwd()\n",
    "\n",
    "print(dir)"
   ]
  },
  {
   "cell_type": "code",
   "execution_count": 15,
   "metadata": {},
   "outputs": [],
   "source": [
    "import sqlite3\n",
    "\n",
    "#crear conexion\n",
    "conexion= sqlite3.connect('bd1.db')\n",
    "\n",
    "#cierra base de datos\n",
    "conexion.close()"
   ]
  },
  {
   "cell_type": "code",
   "execution_count": 16,
   "metadata": {},
   "outputs": [],
   "source": [
    "import sqlite3\n",
    "conexion= sqlite3.connect('bd1.db')\n",
    "\n",
    "# Creamos el cursor\n",
    "cursor = conexion.cursor()\n",
    "\n",
    "# Ahora crearemos una tabla de usuarios con nombres, edades y emails\n",
    "cursor.execute(\"CREATE TABLE IF NOT EXISTS usuarios \" \\\n",
    "    \"(nombre VARCHAR(100), edad INTEGER, email VARCHAR(100))\")\n",
    "\n",
    "# Guardamos los cambios haciendo un commit\n",
    "conexion.commit()\n",
    "\n",
    "conexion.close()"
   ]
  },
  {
   "cell_type": "code",
   "execution_count": 22,
   "metadata": {},
   "outputs": [],
   "source": [
    "import sqlite3\n",
    "\n",
    "conexion = sqlite3.connect('db1.db')\n",
    "cursor = conexion.cursor()\n",
    "\n",
    "# Insertamos un registro en la tabla de usuarios\n",
    "cursor.execute(\"INSERT INTO usuarios VALUES('Hector', 27, 'hector@ejemplo.com')\")\n",
    "\n",
    "# Guardamos los cambios haciendo un commit\n",
    "conexion.commit()\n",
    "\n",
    "conexion.close()"
   ]
  },
  {
   "cell_type": "code",
   "execution_count": 26,
   "metadata": {},
   "outputs": [
    {
     "name": "stdout",
     "output_type": "stream",
     "text": [
      "<sqlite3.Cursor object at 0x7f693768f2d0>\n"
     ]
    }
   ],
   "source": [
    "import sqlite3\n",
    "\n",
    "conexion = sqlite3.connect('db1.db')\n",
    "cursor = conexion.cursor()\n",
    "\n",
    "# Recuperamos los registros de la tabla de usuarios\n",
    "cursor.execute(\"SELECT * FROM usuarios\")\n",
    "\n",
    "# Mostrar el cursos a ver que hay ?\n",
    "print(cursor)\n",
    "\n",
    "# Recorremos el primer registro con el método fetchone, devuelve una tupla\n",
    "usuario = cursor.fetchone()\n",
    "print(usuario)\n",
    "\n",
    "conexion.close()\n"
   ]
  },
  {
   "cell_type": "code",
   "execution_count": 27,
   "metadata": {},
   "outputs": [],
   "source": [
    "import sqlite3\n",
    "\n",
    "conexion = sqlite3.connect('db1.db')\n",
    "cursor = conexion.cursor()\n",
    "\n",
    "# Creamos una lista con varios usuarios\n",
    "usuarios = [('Mario', 51, 'mario@ejemplo.com'),\n",
    "            ('Mercedes', 38, 'mercedes@ejemplo.com'),\n",
    "            ('Juan', 19, 'juan@ejemplo.com')]\n",
    "\n",
    "# Ahora utilizamos el método executemany() para insertar varios\n",
    "cursor.executemany(\"INSERT INTO usuarios VALUES (?,?,?)\", usuarios)\n",
    "\n",
    "# Guardamos los cambios haciendo un commit\n",
    "conexion.commit()\n",
    "\n",
    "conexion.close()\n"
   ]
  },
  {
   "cell_type": "code",
   "execution_count": 29,
   "metadata": {},
   "outputs": [
    {
     "name": "stdout",
     "output_type": "stream",
     "text": [
      "('Hector', 27, 'hector@ejemplo.com')\n",
      "('Mario', 51, 'mario@ejemplo.com')\n",
      "('Mercedes', 38, 'mercedes@ejemplo.com')\n",
      "('Juan', 19, 'juan@ejemplo.com')\n"
     ]
    }
   ],
   "source": [
    "import sqlite3\n",
    "\n",
    "conexion = sqlite3.connect('db1.db')\n",
    "cursor = conexion.cursor()\n",
    "\n",
    "# Recuperamos los registros de la tabla de usuarios\n",
    "cursor.execute(\"SELECT * FROM usuarios\")\n",
    "\n",
    "# Recorremos todos los registros con fetchall\n",
    "# y los volcamos en una lista de usuarios\n",
    "usuarios = cursor.fetchall()\n",
    "\n",
    "# Ahora podemos recorrer todos los usuarios\n",
    "for usuario in usuarios:\n",
    "    print(usuario)\n",
    "\n",
    "conexion.close()\n"
   ]
  },
  {
   "attachments": {},
   "cell_type": "markdown",
   "metadata": {},
   "source": [
    "(CODIGO INTEGER PRIMARY KEY,\n",
    "NOMBRE VARCHAR2(20) NOT NULL,\n",
    "APELLIDOS VARCHAR2(50) NOT NULL,\n",
    "FECNAC DATE,\n",
    "CURSO VARCHAR2(10),\n",
    "SEXO CHAR(1),\n",
    "EDAD INTEGER);"
   ]
  },
  {
   "cell_type": "code",
   "execution_count": 34,
   "metadata": {},
   "outputs": [],
   "source": [
    "import sqlite3\n",
    "\n",
    "conexion= sqlite3.connect('tabla_empleado.db')\n",
    "\n",
    "cursor= conexion.cursor()\n",
    "\n",
    "cursor.execute(\n",
    "    \"CREATE TABLE IF NOT EXISTS  ALUMNOS \" \\\n",
    "        \"\"\"\n",
    "        (CODIGO INTEGER,\n",
    "        NOMBRE VARCHAR2(20),\n",
    "        APELLIDOS VARCHAR2(50),\n",
    "        FECNAC DATE,\n",
    "        CURSO VARCHAR2(10),\n",
    "        SEXO CHAR(1),\n",
    "        EDAD INTEGER)\n",
    "        \n",
    "        \"\"\"\n",
    ")\n",
    "\n",
    "conexion.commit()\n",
    "\n",
    "conexion.close()"
   ]
  },
  {
   "cell_type": "code",
   "execution_count": 36,
   "metadata": {},
   "outputs": [
    {
     "name": "stdout",
     "output_type": "stream",
     "text": [
      "data dropped successfully\n"
     ]
    }
   ],
   "source": [
    "# importing sqlite module\n",
    "import sqlite3\n",
    "  \n",
    "# create connection to the \n",
    "# database geek\n",
    "conexion = sqlite3.connect('tabla_empleado.db')\n",
    "cursor = conexion.cursor()\n",
    "  \n",
    "# drop table\n",
    "cursor.execute(\"DROP TABLE ALUMNOS\")\n",
    "  \n",
    "print(\"data dropped successfully\")\n",
    "  \n",
    "# close the connection\n",
    "conexion.close()"
   ]
  }
 ],
 "metadata": {
  "kernelspec": {
   "display_name": "Python 3",
   "language": "python",
   "name": "python3"
  },
  "language_info": {
   "codemirror_mode": {
    "name": "ipython",
    "version": 3
   },
   "file_extension": ".py",
   "mimetype": "text/x-python",
   "name": "python",
   "nbconvert_exporter": "python",
   "pygments_lexer": "ipython3",
   "version": "3.8.10"
  },
  "orig_nbformat": 4
 },
 "nbformat": 4,
 "nbformat_minor": 2
}
