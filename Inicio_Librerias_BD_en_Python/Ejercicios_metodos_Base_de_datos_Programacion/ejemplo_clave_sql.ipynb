{
 "cells": [
  {
   "cell_type": "code",
   "execution_count": null,
   "metadata": {},
   "outputs": [],
   "source": [
    "import sqlite3\n",
    "\n",
    "conexion = sqlite3.connect('usuarios.db')\n",
    "\n",
    "cursor = conexion.cursor()\n",
    "\n",
    "# Creamos un campo dni como clave primaria\n",
    "cursor.execute('''CREATE TABLE IF NOT EXISTS usuarios (\n",
    "                    dni VARCHAR(9) PRIMARY KEY,\n",
    "                    nombre VARCHAR(100), \n",
    "                    edad INTEGER,\n",
    "                    email VARCHAR(100))''')\n",
    "\n",
    "usuarios = [('11111111A', 'Hector', 27, 'hector@ejemplo.com'),\n",
    "            ('22222222B', 'Mario', 51, 'mario@ejemplo.com'),\n",
    "            ('33333333C', 'Mercedes', 38, 'mercedes@ejemplo.com'),\n",
    "            ('44444444D', 'Juan', 19, 'juan@ejemplo.com')]\n",
    "\n",
    "cursor.executemany(\"INSERT INTO usuarios VALUES (?,?,?,?)\", usuarios)\n",
    "\n",
    "conexion.commit()\n",
    "conexion.close()"
   ]
  },
  {
   "cell_type": "code",
   "execution_count": null,
   "metadata": {},
   "outputs": [],
   "source": [
    "import sqlite3\n",
    "\n",
    "conexion = sqlite3.connect('usuarios.db')\n",
    "\n",
    "cursor = conexion.cursor()\n",
    "\n",
    "cursor.execute(\"INSERT INTO usuarios VALUES \" \n",
    "    \"('11111111B', 'Fernando', 31, 'fernando@ejemplo.com')\")\n",
    "\n",
    "conexion.commit()\n",
    "conexion.close()"
   ]
  },
  {
   "cell_type": "code",
   "execution_count": null,
   "metadata": {},
   "outputs": [],
   "source": [
    "import sqlite3\n",
    "\n",
    "conexion = sqlite3.connect('productos.db')\n",
    "\n",
    "cursor = conexion.cursor()\n",
    "\n",
    "# Las cláusulas not null indican que no puede ser campos vacíos\n",
    "cursor.execute('''CREATE TABLE IF NOT EXISTS productos (\n",
    "                    id INTEGER PRIMARY KEY AUTOINCREMENT, \n",
    "                    nombre VARCHAR(100) NOT NULL, \n",
    "                    marca VARCHAR(50) NOT NULL, \n",
    "                    precio FLOAT NOT NULL)''')\n",
    "\n",
    "conexion.close()"
   ]
  },
  {
   "cell_type": "code",
   "execution_count": null,
   "metadata": {},
   "outputs": [],
   "source": [
    "import sqlite3\n",
    "\n",
    "conexion = sqlite3.connect('productos.db')\n",
    "cursor = conexion.cursor()\n",
    "\n",
    "# Recuperamos los registros de la tabla de usuarios\n",
    "cursor.execute(\"SELECT * FROM productos\")\n",
    "\n",
    "# Recorremos todos los registros con fetchall\n",
    "# y los volcamos en una lista de usuarios\n",
    "productos = cursor.fetchall()\n",
    "\n",
    "# Ahora podemos recorrer todos los productos\n",
    "for producto in productos:\n",
    "    print(producto)\n",
    "\n",
    "conexion.close()"
   ]
  },
  {
   "cell_type": "code",
   "execution_count": 20,
   "metadata": {},
   "outputs": [],
   "source": [
    "import sqlite3\n",
    "\n",
    "conexion = sqlite3.connect('usuarios_autoincremental.db')\n",
    "\n",
    "cursor = conexion.cursor()\n",
    "\n",
    "# Creamos un campo dni como clave primaria\n",
    "cursor.execute('''CREATE TABLE IF NOT EXISTS usuarios (\n",
    "                    id INTEGER PRIMARY KEY,\n",
    "                    dni VARCHAR(9) UNIQUE,\n",
    "                    nombre VARCHAR(100), \n",
    "                    edad INTEGER(3),\n",
    "                    email VARCHAR(100))''')\n",
    "\n",
    "usuarios = [('11111111A', 'Hector', 27, 'hector@ejemplo.com'),\n",
    "            ('22222222B', 'Mario', 51, 'mario@ejemplo.com'),\n",
    "            ('33333333C', 'Mercedes', 38, 'mercedes@ejemplo.com'),\n",
    "            ('44444444D', 'Juan', 19, 'juan@ejemplo.com')]\n",
    "\n",
    "cursor.executemany(\"INSERT INTO usuarios VALUES (null, ?,?,?,?)\", usuarios)\n",
    "\n",
    "conexion.commit()\n",
    "conexion.close()"
   ]
  },
  {
   "cell_type": "code",
   "execution_count": 21,
   "metadata": {},
   "outputs": [
    {
     "name": "stdout",
     "output_type": "stream",
     "text": [
      "(1, '11111111A', 'Hector', 27, 'hector@ejemplo.com')\n",
      "(2, '22222222B', 'Mario', 51, 'mario@ejemplo.com')\n",
      "(3, '33333333C', 'Mercedes', 38, 'mercedes@ejemplo.com')\n",
      "(4, '44444444D', 'Juan', 19, 'juan@ejemplo.com')\n"
     ]
    }
   ],
   "source": [
    "import sqlite3\n",
    "\n",
    "conexion = sqlite3.connect('usuarios_autoincremental.db')\n",
    "cursor = conexion.cursor()\n",
    "\n",
    "# Recuperamos los registros de la tabla de usuarios\n",
    "cursor.execute(\"SELECT * FROM usuarios\")\n",
    "\n",
    "# Recorremos todos los registros con fetchall\n",
    "# y los volcamos en una lista de usuarios\n",
    "usuarios = cursor.fetchall()\n",
    "\n",
    "# Ahora podemos recorrer todos los usuarios\n",
    "for usuario in usuarios:\n",
    "    print(usuario)\n",
    "\n",
    "conexion.close()"
   ]
  },
  {
   "cell_type": "code",
   "execution_count": 22,
   "metadata": {},
   "outputs": [
    {
     "name": "stdout",
     "output_type": "stream",
     "text": [
      "(1, '11111111A', 'Hector', 27, 'hector@ejemplo.com')\n"
     ]
    }
   ],
   "source": [
    "import sqlite3\n",
    "\n",
    "conexion = sqlite3.connect('usuarios_autoincremental.db')\n",
    "cursor = conexion.cursor()\n",
    "\n",
    "# Recuperamos un registro de la tabla de usuarios\n",
    "cursor.execute(\"SELECT * FROM usuarios WHERE id=1\")\n",
    "\n",
    "usuario = cursor.fetchone()\n",
    "print(usuario)\n",
    "\n",
    "conexion.close()\n"
   ]
  },
  {
   "cell_type": "code",
   "execution_count": 23,
   "metadata": {},
   "outputs": [
    {
     "name": "stdout",
     "output_type": "stream",
     "text": [
      "('Mario', 51, 'mario@ejemplo.com')\n"
     ]
    }
   ],
   "source": [
    "import sqlite3\n",
    "\n",
    "conexion = sqlite3.connect('usuarios_autoincremental.db')\n",
    "cursor = conexion.cursor()\n",
    "\n",
    "# Recuperamos un registro de la tabla de usuarios\n",
    "cursor.execute(\"SELECT nombre, edad, email FROM usuarios \" \n",
    "    \"WHERE dni='22222222B'\")\n",
    "\n",
    "usuario = cursor.fetchone()\n",
    "print(usuario)\n",
    "\n",
    "conexion.close()\n"
   ]
  },
  {
   "cell_type": "code",
   "execution_count": 24,
   "metadata": {},
   "outputs": [
    {
     "name": "stdout",
     "output_type": "stream",
     "text": [
      "(1, '11111111A', 'Hector Costa', 27, 'hector@ejemplo.com')\n"
     ]
    }
   ],
   "source": [
    "import sqlite3\n",
    "\n",
    "conexion = sqlite3.connect('usuarios_autoincremental.db')\n",
    "cursor = conexion.cursor()\n",
    "\n",
    "# Actualizamos un registro\n",
    "cursor.execute(\"UPDATE usuarios SET nombre='Hector Costa' \" \n",
    "    \"WHERE dni='11111111A'\")\n",
    "\n",
    "# Ahora lo consultamos de nuevo\n",
    "cursor.execute(\"SELECT * FROM usuarios WHERE dni='11111111A'\")\n",
    "usuario = cursor.fetchone()\n",
    "print(usuario)\n",
    "\n",
    "conexion.commit()\n",
    "conexion.close()\n"
   ]
  },
  {
   "cell_type": "code",
   "execution_count": 25,
   "metadata": {},
   "outputs": [
    {
     "name": "stdout",
     "output_type": "stream",
     "text": [
      "(1, '11111111A', 'Hector Costa', 27, 'hector@ejemplo.com')\n",
      "(2, '22222222B', 'Mario', 51, 'mario@ejemplo.com')\n",
      "(3, '33333333C', 'Mercedes', 38, 'mercedes@ejemplo.com')\n",
      "(4, '44444444D', 'Juan', 19, 'juan@ejemplo.com')\n",
      "(5, '55555555E', 'Fernando', 31, 'fernando@ejemplo.com')\n",
      "\n",
      "(1, '11111111A', 'Hector Costa', 27, 'hector@ejemplo.com')\n",
      "(2, '22222222B', 'Mario', 51, 'mario@ejemplo.com')\n",
      "(3, '33333333C', 'Mercedes', 38, 'mercedes@ejemplo.com')\n",
      "(4, '44444444D', 'Juan', 19, 'juan@ejemplo.com')\n"
     ]
    }
   ],
   "source": [
    "import sqlite3\n",
    "\n",
    "conexion = sqlite3.connect('usuarios_autoincremental.db')\n",
    "cursor = conexion.cursor()\n",
    "\n",
    "# Creamos un registro de prueba\n",
    "cursor.execute(\"INSERT INTO usuarios VALUES \" \n",
    "    \"(null, '55555555E', 'Fernando', 31, 'fernando@ejemplo.com')\")\n",
    "\n",
    "# Consultamos los usuarios\n",
    "for usuario in cursor.execute(\"SELECT * FROM usuarios\"):\n",
    "    print(usuario)\n",
    "\n",
    "# Ahora lo borramos\n",
    "cursor.execute(\"DELETE FROM usuarios WHERE dni='55555555E'\")\n",
    "\n",
    "print() # Espacio en blanco\n",
    "\n",
    "# Consultamos de nuevo los usuarios\n",
    "for usuario in cursor.execute(\"SELECT * FROM usuarios\"):\n",
    "    print(usuario)\n",
    "\n",
    "conexion.commit()\n",
    "conexion.close()\n"
   ]
  },
  {
   "cell_type": "code",
   "execution_count": 28,
   "metadata": {},
   "outputs": [
    {
     "name": "stdout",
     "output_type": "stream",
     "text": [
      "[]\n"
     ]
    }
   ],
   "source": [
    "import sqlite3\n",
    "\n",
    "conexion = sqlite3.connect('usuarios_autoincremental.db')\n",
    "cursor = conexion.cursor()\n",
    "\n",
    "# Borramos sin el WHERE\n",
    "cursor.execute(\"DELETE FROM usuarios\")\n",
    "\n",
    "# Consultamos de nuevo los usuarios\n",
    "usuarios = cursor.execute(\"SELECT * FROM usuarios\").fetchall()\n",
    "print(usuarios)\n",
    "\n",
    "conexion.commit()\n",
    "conexion.close()\n"
   ]
  }
 ],
 "metadata": {
  "kernelspec": {
   "display_name": "Python 3",
   "language": "python",
   "name": "python3"
  },
  "language_info": {
   "codemirror_mode": {
    "name": "ipython",
    "version": 3
   },
   "file_extension": ".py",
   "mimetype": "text/x-python",
   "name": "python",
   "nbconvert_exporter": "python",
   "pygments_lexer": "ipython3",
   "version": "3.10.6"
  },
  "orig_nbformat": 4
 },
 "nbformat": 4,
 "nbformat_minor": 2
}
