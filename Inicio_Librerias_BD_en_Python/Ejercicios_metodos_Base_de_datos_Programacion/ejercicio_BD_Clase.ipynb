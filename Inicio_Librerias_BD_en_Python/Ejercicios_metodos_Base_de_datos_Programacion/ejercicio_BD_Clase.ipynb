{
 "cells": [
  {
   "cell_type": "code",
   "execution_count": 1,
   "metadata": {},
   "outputs": [
    {
     "name": "stdout",
     "output_type": "stream",
     "text": [
      "/home/usuario/Escritorio/Programacion/Inicio_Librerias_BD_en_Python/Base_de_datos_Programacion\n"
     ]
    }
   ],
   "source": [
    "import os \n",
    "\n",
    "dir= os.getcwd()\n",
    "\n",
    "print(dir)"
   ]
  },
  {
   "attachments": {},
   "cell_type": "markdown",
   "metadata": {},
   "source": [
    "Ejercicio 1\n",
    "Por ahora debes empezar creando un script llamado restaurante.py y dentro una función crear_bd() que creará una pequeña base de datos restaurante.db con las siguientes dos tablas:"
   ]
  },
  {
   "cell_type": "code",
   "execution_count": 26,
   "metadata": {},
   "outputs": [
    {
     "name": "stdout",
     "output_type": "stream",
     "text": [
      "Base de datos creada exitosamente.\n"
     ]
    }
   ],
   "source": [
    "import sqlite3\n",
    "def crear_bd():\n",
    "    conexion = sqlite3.connect('/home/usuario/Escritorio/Programacion/Inicio_Librerias_BD_en_Python/Base_de_datos_Programacion/restaurante.db')\n",
    "\n",
    "    cursor = conexion.cursor()\n",
    "    try:\n",
    "        # Creamos un campo dni como clave primaria\n",
    "        cursor.execute('''CREATE TABLE IF NOT EXISTS categoria(\n",
    "        id INTEGER PRIMARY KEY AUTOINCREMENT,\n",
    "        nombre VARCHAR(100) UNIQUE NOT NULL)''')\n",
    "\n",
    "        cursor.execute('''CREATE TABLE IF NOT EXISTS plato(\n",
    "        id INTEGER PRIMARY KEY AUTOINCREMENT,\n",
    "        nombre VARCHAR(100) UNIQUE NOT NULL, \n",
    "        categoria_id INTEGER NOT NULL,\n",
    "        FOREIGN KEY(categoria_id) REFERENCES categoria(id))''')\n",
    "        \n",
    "    except sqlite3.OperationalError:\n",
    "        print(\"<<La tabla ya exite en la base de datos>>\")\n",
    "    \n",
    "     \n",
    "    conexion.commit()\n",
    "    conexion.close()\n",
    "\n",
    "    print(\"Base de datos creada exitosamente.\")\n",
    "\n",
    "    conexion.close()\n",
    "\n",
    "\n",
    "crear_bd()\n"
   ]
  },
  {
   "attachments": {},
   "cell_type": "markdown",
   "metadata": {},
   "source": [
    "Parte 2\n",
    "\n",
    "Crea una función llamada agregar_categoria() que pida al usuario un nombre de categoría y se encargue de crear la categoría en la base de datos (ten en cuenta que si ya existe dará un error, por que el nombre es UNIQUE).\n",
    "\n",
    "Luego crea un pequeño menú de opciones dentro del script, que te de la bienvenida al sistema y te permita Crear una categoría o Salir. Puedes hacerlo en una función mostrar_menu(). Añade las siguientes tres categorías utilizando este menú de opciones:\n",
    "\n",
    "    Primeros\n",
    "    Segundos\n",
    "    Postres\n"
   ]
  },
  {
   "cell_type": "code",
   "execution_count": 30,
   "metadata": {},
   "outputs": [
    {
     "name": "stdout",
     "output_type": "stream",
     "text": [
      "La categoría 'Primero' ya existe.\n"
     ]
    }
   ],
   "source": [
    "#input= 'Primeros', 'Segundos', 'Postres'  \n",
    "def agregar_categoria():\n",
    "\n",
    "\n",
    "    categoria= input('Introduce la categoría: \\n')\n",
    "\n",
    "    conexion = sqlite3.connect('/home/usuario/Escritorio/Programacion/Inicio_Librerias_BD_en_Python/Base_de_datos_Programacion/restaurante.db')\n",
    "\n",
    "    cursor = conexion.cursor()\n",
    "    try:\n",
    "        cursor.execute(\"\"\"INSERT INTO categoria VALUES (null, '{}')\n",
    "        \"\"\".format(categoria))\n",
    "        conexion.commit()\n",
    "\n",
    "        print(\"Categoría '{}' agregada exitosamente.\".format(categoria))\n",
    "    except sqlite3.IntegrityError:\n",
    "        print(\"La categoría '{}' ya existe.\".format(categoria))\n",
    "\n",
    "        \n",
    "\n",
    "        conexion.close()\n",
    "\n",
    "agregar_categoria()\n",
    "\n"
   ]
  },
  {
   "attachments": {},
   "cell_type": "markdown",
   "metadata": {},
   "source": [
    "Parte 3\n",
    "\n",
    "Crea una función llamada agregar_plato() que muestre al usuario las categorías disponibles y le permita escoger una (escribiendo un número).\n",
    "\n",
    "Luego le pedirá introducir el nombre del plato y lo añadirá a la base de datos, teniendo en cuenta que la categoria del plato concuerde con el id de la categoría y que el nombre del plato no puede repetirse (no es necesario comprobar si la categoría realmente existe, en ese caso simplemente no se insertará el plato).\n",
    "\n",
    "Agrega la nueva opción al menú de opciones y añade los siguientes platos:\n",
    "\n",
    "    Primeros: Ensalada del tiempo / Zumo de tomate\n",
    "    Segundos: Estofado de pescado / Pollo con patatas\n",
    "    Postres: Flan con nata / Fruta del tiempo\n"
   ]
  },
  {
   "cell_type": "code",
   "execution_count": 64,
   "metadata": {},
   "outputs": [
    {
     "name": "stdout",
     "output_type": "stream",
     "text": [
      "Selecciona una categoria para añadir el plato:\n",
      "1 - Primero\n",
      "2 - Segundo\n",
      "3 - Postres\n",
      "El plato 'Fruta del tiempo' ya existe.\n"
     ]
    }
   ],
   "source": [
    "def agregar_plato():\n",
    "    \n",
    "        conexion = sqlite3.connect('/home/usuario/Escritorio/Programacion/Inicio_Librerias_BD_en_Python/Base_de_datos_Programacion/restaurante.db')\n",
    "\n",
    "        cursor = conexion.cursor()\n",
    "        \n",
    "        # Obtenemos los datos de la tabla categoria\n",
    "        categorias = cursor.execute(\"SELECT * FROM categoria\")\n",
    "\n",
    "    \n",
    "        print(\"Selecciona una categoria para añadir el plato:\")\n",
    "        for categoria in categorias:\n",
    "            #categoria[0]= id\" en la tabla \"categoria\"\n",
    "            #categoria[1]= nombre\" en la tabla \"categoria\"\n",
    "            print(\"{} - {}\".format(categoria[0], categoria[1]))\n",
    "\n",
    "        #pedimos el numero de la categoría (id)\n",
    "        categoria_usuario= int(input(\"> \"))\n",
    "        \n",
    "        #pedimos el nombre del plato\n",
    "        plato= input('Introduce nombre del plato: ')\n",
    "\n",
    "        #guardamos los datos en la categoria\n",
    "        try:\n",
    "            cursor.execute(\"INSERT INTO plato VALUES (null, '{}','{}')\".format(plato,categoria_usuario))\n",
    "        except sqlite3.IntegrityError:\n",
    "            print(\"El plato '{}' ya existe.\".format(plato))\n",
    "        else:\n",
    "            print(\"Plato '{}' creado correctamente.\".format(plato))\n",
    "\n",
    "        conexion.commit()\n",
    "        conexion.close()\n",
    "        #recorremos cada fila de la tabla e imprimimos\n",
    "        \n",
    "\n",
    "        \n",
    "            \n",
    "agregar_plato()"
   ]
  },
  {
   "cell_type": "code",
   "execution_count": 72,
   "metadata": {},
   "outputs": [
    {
     "name": "stdout",
     "output_type": "stream",
     "text": [
      "Primero\n",
      "\tEnsalada del tiempo\n",
      "\tZumo de tomate\n",
      "Segundo\n",
      "\tEstofado de pescado\n",
      "\tPollo con patatas\n",
      "Postres\n",
      "\tFlan con nata\n",
      "\tFruta del tiempo\n"
     ]
    }
   ],
   "source": [
    "\n",
    "\n",
    "def mostrar_menu():\n",
    "        conexion = sqlite3.connect('/home/usuario/Escritorio/Programacion/Inicio_Librerias_BD_en_Python/Base_de_datos_Programacion/restaurante.db')\n",
    "\n",
    "        cursor = conexion.cursor()\n",
    "        categorias= cursor.execute(\"SELECT * FROM categoria\").fetchall()\n",
    "        \n",
    "        #RECUEDA QUE EN EL WHERE DEBES COLOCAR NOMBRE TABLA_NOMBRE COLUMNA \n",
    "        for categoria in categorias:\n",
    "            print(categoria[1])\n",
    "            platos= cursor.execute(\"SELECT * FROM plato WHERE categoria_id= {}\".format(categoria[0])).fetchall()\n",
    "\n",
    "            for plato in platos:\n",
    "                print(\"\\t{}\".format(plato[1]))\n",
    "\n",
    "        conexion.close()\n",
    "\n",
    "\n",
    "mostrar_menu()\n"
   ]
  },
  {
   "attachments": {},
   "cell_type": "markdown",
   "metadata": {},
   "source": [
    "Parte 4\n",
    "\n",
    "Crea una función llamada mostrar_menu() que muestre el menú con todos los platos de forma ordenada: los primeros, los segundos y los postres. Optativamente puedes adornar la forma en que muestras el menú por pantalla."
   ]
  },
  {
   "cell_type": "code",
   "execution_count": 73,
   "metadata": {},
   "outputs": [
    {
     "name": "stdout",
     "output_type": "stream",
     "text": [
      "\n",
      "Bienvenido al gestor del restaurante \n",
      "La categoría 'Primero' ya existe.\n",
      "\n",
      "Bienvenido al gestor del restaurante \n",
      "Selecciona una categoria para añadir el plato:\n",
      "1 - Primero\n",
      "2 - Segundo\n",
      "3 - Postres\n",
      "Plato 'Arepa' creado correctamente.\n",
      "\n",
      "Bienvenido al gestor del restaurante \n",
      "Nos vemos!\n"
     ]
    }
   ],
   "source": [
    "#Menú de opciones del programa \n",
    "while True:\n",
    "    print(\"\\nBienvenido al gestor del restaurante \")\n",
    "    opcion= input(\"\\nIntroduce una opcion: \\n[1] Agregar una categoría\\n[2] Agregar un plato\\n[3] Mostrar el menú\\n[4] Salir del programa\\n\\n> \")\n",
    "\n",
    "    if opcion == \"1\":\n",
    "        agregar_categoria()\n",
    "\n",
    "    elif opcion == \"2\":\n",
    "        agregar_plato()\n",
    "\n",
    "    elif opcion == \"3\":\n",
    "        mostrar_menu()\n",
    "\n",
    "    elif opcion == \"4\":\n",
    "        print(\"Nos vemos!\")\n",
    "        break\n",
    "\n",
    "    else:\n",
    "        print(\"Opción incorrecta\")"
   ]
  }
 ],
 "metadata": {
  "kernelspec": {
   "display_name": "Python 3",
   "language": "python",
   "name": "python3"
  },
  "language_info": {
   "codemirror_mode": {
    "name": "ipython",
    "version": 3
   },
   "file_extension": ".py",
   "mimetype": "text/x-python",
   "name": "python",
   "nbconvert_exporter": "python",
   "pygments_lexer": "ipython3",
   "version": "3.10.6"
  },
  "orig_nbformat": 4
 },
 "nbformat": 4,
 "nbformat_minor": 2
}
