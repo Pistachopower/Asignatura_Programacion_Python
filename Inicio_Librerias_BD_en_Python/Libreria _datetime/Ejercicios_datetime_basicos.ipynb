{
 "cells": [
  {
   "attachments": {},
   "cell_type": "markdown",
   "metadata": {},
   "source": [
    "datetime.date(year, month, day): crea un objeto de fecha con el año, mes y día especificados.\n",
    "\n",
    "Ejemplo:"
   ]
  },
  {
   "cell_type": "code",
   "execution_count": 1,
   "metadata": {},
   "outputs": [
    {
     "name": "stdout",
     "output_type": "stream",
     "text": [
      "2023-04-29\n"
     ]
    }
   ],
   "source": [
    "import datetime\n",
    "d = datetime.date(2023, 4, 29)\n",
    "print(d) # imprime 2023-04-29\n"
   ]
  },
  {
   "attachments": {},
   "cell_type": "markdown",
   "metadata": {},
   "source": [
    "datetime.datetime(year, month, day, hour=0, minute=0, second=0, microsecond=0): crea un objeto de fecha y hora con el año, mes, día, hora, minuto, segundo y microsegundo especificados.\n",
    "\n",
    "Ejemplo:"
   ]
  },
  {
   "cell_type": "code",
   "execution_count": 2,
   "metadata": {},
   "outputs": [
    {
     "name": "stdout",
     "output_type": "stream",
     "text": [
      "2023-04-29 12:00:00\n"
     ]
    }
   ],
   "source": [
    "import datetime\n",
    "dt = datetime.datetime(2023, 4, 29, 12, 0, 0)\n",
    "print(dt) # imprime 2023-04-29 12:00:00\n"
   ]
  },
  {
   "attachments": {},
   "cell_type": "markdown",
   "metadata": {},
   "source": [
    "datetime.time(hour=0, minute=0, second=0, microsecond=0): crea un objeto de tiempo con la hora, minuto, segundo y microsegundo especificados.\n",
    "\n",
    "Ejemplo:"
   ]
  },
  {
   "cell_type": "code",
   "execution_count": 3,
   "metadata": {},
   "outputs": [
    {
     "name": "stdout",
     "output_type": "stream",
     "text": [
      "12:00:00\n"
     ]
    }
   ],
   "source": [
    "import datetime\n",
    "t = datetime.time(12, 0, 0)\n",
    "print(t) # imprime 12:00:00\n"
   ]
  },
  {
   "attachments": {},
   "cell_type": "markdown",
   "metadata": {},
   "source": [
    "datetime.timedelta(days=0, seconds=0, microseconds=0, milliseconds=0, minutes=0, hours=0, weeks=0): representa un intervalo de tiempo.\n",
    "\n",
    "Ejemplo:"
   ]
  },
  {
   "cell_type": "code",
   "execution_count": 4,
   "metadata": {},
   "outputs": [
    {
     "name": "stdout",
     "output_type": "stream",
     "text": [
      "1 day, 0:00:00\n"
     ]
    }
   ],
   "source": [
    "import datetime\n",
    "t1 = datetime.datetime(2023, 4, 29, 12, 0, 0)\n",
    "t2 = datetime.datetime(2023, 4, 30, 12, 0, 0)\n",
    "delta = t2 - t1\n",
    "print(delta) # imprime 1 day, 0:00:00\n"
   ]
  },
  {
   "attachments": {},
   "cell_type": "markdown",
   "metadata": {},
   "source": [
    "datetime.datetime.now(): devuelve el objeto de fecha y hora actual.\n",
    "\n",
    "Ejemplo:"
   ]
  },
  {
   "cell_type": "code",
   "execution_count": 5,
   "metadata": {},
   "outputs": [
    {
     "name": "stdout",
     "output_type": "stream",
     "text": [
      "2023-04-29 21:19:14.453916\n"
     ]
    }
   ],
   "source": [
    "import datetime\n",
    "now = datetime.datetime.now()\n",
    "print(now) # imprime la fecha y hora actual\n"
   ]
  }
 ],
 "metadata": {
  "kernelspec": {
   "display_name": "Python 3",
   "language": "python",
   "name": "python3"
  },
  "language_info": {
   "codemirror_mode": {
    "name": "ipython",
    "version": 3
   },
   "file_extension": ".py",
   "mimetype": "text/x-python",
   "name": "python",
   "nbconvert_exporter": "python",
   "pygments_lexer": "ipython3",
   "version": "3.10.6"
  },
  "orig_nbformat": 4
 },
 "nbformat": 4,
 "nbformat_minor": 2
}
