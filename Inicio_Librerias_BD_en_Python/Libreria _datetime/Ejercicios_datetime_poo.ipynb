{
 "cells": [
  {
   "attachments": {},
   "cell_type": "markdown",
   "metadata": {},
   "source": [
    "Crea una clase Calendario que tenga una lista de objetos Evento. La clase Calendario debe tener un método agregar_evento que reciba como parámetro un objeto Evento y lo agregue a la lista de eventos. También debe tener un método mostrar_eventos que imprima los nombres y fechas de todos los eventos en la lista."
   ]
  },
  {
   "cell_type": "code",
   "execution_count": 27,
   "metadata": {},
   "outputs": [
    {
     "name": "stdout",
     "output_type": "stream",
     "text": [
      "Mi evento 1: 01 de mayo de 2023\n",
      "Mi evento 2: 15 de mayo de 2023\n"
     ]
    }
   ],
   "source": [
    "import datetime\n",
    "import locale\n",
    "# Establecer la configuración regional para español\n",
    "locale.setlocale(locale.LC_TIME, \"es_ES.UTF-8\")\n",
    "\n",
    "class Evento:\n",
    "    def __init__(self, nombre, fecha, hora):\n",
    "        self.nombre = nombre\n",
    "        self.fecha = fecha\n",
    "        self.hora = hora\n",
    "\n",
    "class Calendario:\n",
    "    def __init__(self):\n",
    "        self.eventos = []\n",
    "\n",
    "    def agregar_evento(self, evento):\n",
    "        self.eventos.append(evento)\n",
    "\n",
    "    def mostrar_eventos(self):\n",
    "        \"\"\"\n",
    "    evento.fecha.strftime(\"%d de %B de %Y\") es una llamada al método \n",
    "    strftime (string formatting time) del objeto datetime.date que \n",
    "    convierte la fecha en una cadena de caracteres con un formato \n",
    "    específico.\n",
    "\n",
    "    En este caso, \"%d de %B de %Y\" es una cadena de formato que indica \n",
    "    cómo queremos que se muestre la fecha. Las partes de la cadena que \n",
    "    empiezan con % se llaman códigos de formato y se reemplazan con la \n",
    "    información correspondiente de la fecha.\n",
    "\n",
    "        %d representa el día del mes con dos dígitos (por ejemplo, \"01\").\n",
    "        %B representa el nombre completo del mes (por ejemplo, \"mayo\").\n",
    "        %Y representa el año con cuatro dígitos (por ejemplo, \"2023\").\n",
    "\n",
    "    Entonces, evento.fecha.strftime(\"%d de %B de %Y\") devuelve una cadena \n",
    "    que representa la fecha del evento en el formato \"DD de mes de AAAA\", \n",
    "    donde DD es el día del mes, mes es el nombre completo del mes y AAAA \n",
    "    es el año con cuatro dígitos. Por ejemplo, \"01 de mayo de 2023\".\n",
    "\n",
    "\n",
    "        \"\"\"\n",
    "\n",
    "        for evento in self.eventos:\n",
    "            fecha_str = evento.fecha.strftime(\"%d de %B de %Y\")\n",
    "            print(f\"{evento.nombre}: {fecha_str}\")\n",
    "\n",
    "# Crea un objeto de Calendario y agrega algunos eventos\n",
    "calendario = Calendario()\n",
    "\n",
    "evento1 = Evento(\"Mi evento 1\", datetime.date(2023, 5, 1), datetime.time(10, 30, 0))\n",
    "calendario.agregar_evento(evento1)\n",
    "\n",
    "evento2 = Evento(\"Mi evento 2\", datetime.date(2023, 5, 15), datetime.time(15, 0, 0))\n",
    "calendario.agregar_evento(evento2)\n",
    "\n",
    "# Muestra los eventos del calendario\n",
    "calendario.mostrar_eventos()\n"
   ]
  }
 ],
 "metadata": {
  "kernelspec": {
   "display_name": "Python 3",
   "language": "python",
   "name": "python3"
  },
  "language_info": {
   "codemirror_mode": {
    "name": "ipython",
    "version": 3
   },
   "file_extension": ".py",
   "mimetype": "text/x-python",
   "name": "python",
   "nbconvert_exporter": "python",
   "pygments_lexer": "ipython3",
   "version": "3.10.6"
  },
  "orig_nbformat": 4
 },
 "nbformat": 4,
 "nbformat_minor": 2
}
