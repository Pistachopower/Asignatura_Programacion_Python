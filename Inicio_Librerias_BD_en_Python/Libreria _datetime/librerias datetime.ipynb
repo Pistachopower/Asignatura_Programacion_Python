{
 "cells": [
  {
   "cell_type": "code",
   "execution_count": 1,
   "metadata": {},
   "outputs": [],
   "source": [
    "import datetime"
   ]
  },
  {
   "cell_type": "code",
   "execution_count": 11,
   "metadata": {},
   "outputs": [
    {
     "name": "stdout",
     "output_type": "stream",
     "text": [
      "Fecha y hora actual:  2023-04-10 10:10:32.080326\n",
      "2023\n",
      "10\n",
      "32\n"
     ]
    }
   ],
   "source": [
    "#obtener la fecha y hora actual \n",
    "ahora= datetime.datetime.now()\n",
    "print('Fecha y hora actual: ', ahora)\n",
    "\n",
    "#obtener año, minutos segundos \n",
    "print(ahora.year)\n",
    "print(ahora.minute)\n",
    "print(ahora.second)"
   ]
  },
  {
   "cell_type": "code",
   "execution_count": 8,
   "metadata": {},
   "outputs": [
    {
     "name": "stdout",
     "output_type": "stream",
     "text": [
      "Fecha y hora actual:  2023-04-10\n"
     ]
    }
   ],
   "source": [
    "#obtener fecha\n",
    "ahora= datetime.date.today()\n",
    "print('Fecha y hora actual: ', ahora)"
   ]
  },
  {
   "cell_type": "code",
   "execution_count": null,
   "metadata": {},
   "outputs": [],
   "source": [
    "#obtener fecha especifica\n",
    "ahora= datetime.date()\n",
    "print('Fecha y hora actual: ', ahora)"
   ]
  }
 ],
 "metadata": {
  "kernelspec": {
   "display_name": "Python 3",
   "language": "python",
   "name": "python3"
  },
  "language_info": {
   "codemirror_mode": {
    "name": "ipython",
    "version": 3
   },
   "file_extension": ".py",
   "mimetype": "text/x-python",
   "name": "python",
   "nbconvert_exporter": "python",
   "pygments_lexer": "ipython3",
   "version": "3.8.10"
  },
  "orig_nbformat": 4,
  "vscode": {
   "interpreter": {
    "hash": "916dbcbb3f70747c44a77c7bcd40155683ae19c65e1c03b4aa3499c5328201f1"
   }
  }
 },
 "nbformat": 4,
 "nbformat_minor": 2
}
