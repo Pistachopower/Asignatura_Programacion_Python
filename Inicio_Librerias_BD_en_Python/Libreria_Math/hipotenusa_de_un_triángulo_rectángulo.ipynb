{
 "cells": [
  {
   "attachments": {},
   "cell_type": "markdown",
   "metadata": {},
   "source": [
    "métodos más comunes de la librería math en Python:    \n",
    "    math.sqrt(x): Devuelve la raíz cuadrada de x.\n",
    "    math.pow(x, y): Devuelve x elevado a la potencia y.\n",
    "    math.exp(x): Devuelve e elevado a la potencia x.\n",
    "    math.log(x): Devuelve el logaritmo natural de x.\n",
    "    math.log10(x): Devuelve el logaritmo base 10 de x.\n",
    "    math.sin(x): Devuelve el seno de x (x en radianes).\n",
    "    math.cos(x): Devuelve el coseno de x (x en radianes).\n",
    "    math.tan(x): Devuelve la tangente de x (x en radianes).\n",
    "    math.radians(x): Convierte el ángulo x de grados a radianes.\n",
    "    math.degrees(x): Convierte el ángulo x de radianes a grados.\n",
    "    math.pi: Devuelve el valor de pi (3.141592653589793).\n",
    "    math.e: Devuelve el valor de e (2.718281828459045)."
   ]
  },
  {
   "attachments": {},
   "cell_type": "markdown",
   "metadata": {},
   "source": [
    "Cálculo de la hipotenusa de un triángulo rectángulo\n",
    "En este ejemplo, usaremos la fórmula matemática para calcular la hipotenusa de un triángulo rectángulo. La fórmula es c = sqrt(a^2 + b^2), donde c es la hipotenusa y a y b son los dos lados del triángulo que forman el ángulo recto.\n",
    "\n",
    "En este ejemplo, definimos una clase llamada Triangulo que tiene dos atributos, a y b, que representan los lados del triángulo. La clase también tiene un método llamado hipotenusa que calcula y devuelve la hipotenusa del triángulo utilizando la fórmula matemática."
   ]
  },
  {
   "cell_type": "code",
   "execution_count": 1,
   "metadata": {},
   "outputs": [
    {
     "name": "stdout",
     "output_type": "stream",
     "text": [
      "5.0\n"
     ]
    }
   ],
   "source": [
    "import math\n",
    "\n",
    "class Triangulo:\n",
    "  def __init__(self, a, b):\n",
    "    self.a = a\n",
    "    self.b = b\n",
    "\n",
    "  def hipotenusa(self):\n",
    "    return math.sqrt(self.a ** 2 + self.b ** 2)\n",
    "\n",
    "# Ejemplo de uso\n",
    "triangulo = Triangulo(3, 4)\n",
    "print(triangulo.hipotenusa()) # Output: 5.0\n"
   ]
  },
  {
   "attachments": {},
   "cell_type": "markdown",
   "metadata": {},
   "source": [
    "Cálculo de la media y la desviación estándar de una lista de números\n",
    "En este ejemplo, usaremos las funciones mean y stdev de la librería math para calcular la media y la desviación estándar de una lista de números.\n",
    "\n",
    "En este ejemplo, definimos una clase llamada Estadistica que tiene un atributo llamado numeros que representa una lista de números. La clase también tiene dos métodos, media y desviacion_estandar, que utilizan las funciones mean y stdev de la librería math para calcular la media y la desviación estándar de los números de la lista."
   ]
  },
  {
   "cell_type": "code",
   "execution_count": null,
   "metadata": {},
   "outputs": [],
   "source": [
    "import math\n",
    "\n",
    "class Estadistica:\n",
    "  def __init__(self, numeros):\n",
    "    self.numeros = numeros\n",
    "\n",
    "  def media(self):\n",
    "    return math.mean(self.numeros)\n",
    "\n",
    "  def desviacion_estandar(self):\n",
    "    return math.stdev(self.numeros)\n",
    "\n",
    "# Ejemplo de uso\n",
    "numeros = [2, 4, 6, 8, 10]\n",
    "estadistica = Estadistica(numeros)\n",
    "print(estadistica.media()) # Output: 6.0\n",
    "print(estadistica.desviacion_estandar()) # Output: 2.8284271247461903\n"
   ]
  },
  {
   "attachments": {},
   "cell_type": "markdown",
   "metadata": {},
   "source": [
    "Cálculo del seno y coseno de un ángulo en grados\n",
    "En este ejemplo, usaremos las funciones sin y cos de la librería math para calcular el seno y el coseno de un ángulo en grados.\n",
    "\n",
    "En este ejemplo, definimos una clase llamada Trigonometria que tiene un atributo llamado angulo que representa el ángulo en grados. La clase también tiene dos métodos, seno y coseno, que utilizan las funciones sin y cos de la librería math para calcular el seno y el coseno del ángulo convertido a radianes mediante la función radians.\n"
   ]
  },
  {
   "cell_type": "code",
   "execution_count": 2,
   "metadata": {},
   "outputs": [
    {
     "name": "stdout",
     "output_type": "stream",
     "text": [
      "0.7071067811865475\n",
      "0.7071067811865476\n"
     ]
    }
   ],
   "source": [
    "import math\n",
    "\n",
    "class Trigonometria:\n",
    "  def __init__(self, angulo):\n",
    "    self.angulo = angulo\n",
    "\n",
    "  def seno(self):\n",
    "    return math.sin(math.radians(self.angulo))\n",
    "\n",
    "  def coseno(self):\n",
    "    return math.cos(math.radians(self.angulo))\n",
    "\n",
    "# Ejemplo de uso\n",
    "angulo = 45\n",
    "trigonometria = Trigonometria(angulo)\n",
    "print(trigonometria.seno()) # Output: 0.7071067811865475\n",
    "print(trigonometria.coseno()) # Output: 0.7071067811865476\n"
   ]
  }
 ],
 "metadata": {
  "kernelspec": {
   "display_name": "Python 3",
   "language": "python",
   "name": "python3"
  },
  "language_info": {
   "codemirror_mode": {
    "name": "ipython",
    "version": 3
   },
   "file_extension": ".py",
   "mimetype": "text/x-python",
   "name": "python",
   "nbconvert_exporter": "python",
   "pygments_lexer": "ipython3",
   "version": "3.10.6"
  },
  "orig_nbformat": 4
 },
 "nbformat": 4,
 "nbformat_minor": 2
}
