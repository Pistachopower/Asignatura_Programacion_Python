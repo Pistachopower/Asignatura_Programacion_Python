{
 "cells": [
  {
   "attachments": {},
   "cell_type": "markdown",
   "metadata": {},
   "source": [
    "A continuación te proporciono un resumen de los métodos más utilizados en la librería NumPy de Python:\n",
    "\n",
    "    Creación de arreglos NumPy:\n",
    "        numpy.array(): Crea un arreglo NumPy a partir de una lista o tupla.\n",
    "        numpy.zeros(): Crea un arreglo NumPy lleno de ceros.\n",
    "        numpy.ones(): Crea un arreglo NumPy lleno de unos.\n",
    "        numpy.arange(): Crea un arreglo NumPy con valores espaciados uniformemente dentro de un intervalo.\n",
    "        numpy.linspace(): Crea un arreglo NumPy con valores espaciados uniformemente entre dos límites.\n",
    "\n",
    "    Acceso a los elementos de un arreglo NumPy:\n",
    "        arreglo[index]: Accede a un elemento específico del arreglo.\n",
    "        arreglo[start:end:step]: Accede a un subconjunto del arreglo mediante el uso de slicing.\n",
    "\n",
    "    Operaciones matemáticas en arreglos NumPy:\n",
    "        numpy.add(): Suma dos arreglos NumPy.\n",
    "        numpy.subtract(): Resta dos arreglos NumPy.\n",
    "        numpy.multiply(): Multiplica dos arreglos NumPy.\n",
    "        numpy.divide(): Divide dos arreglos NumPy.\n",
    "        numpy.dot(): Calcula el producto punto entre dos arreglos NumPy.\n",
    "\n",
    "    Funciones matemáticas en arreglos NumPy:\n",
    "        numpy.sin(): Calcula el seno de cada elemento en un arreglo NumPy.\n",
    "        numpy.cos(): Calcula el coseno de cada elemento en un arreglo NumPy.\n",
    "        numpy.exp(): Calcula la exponencial de cada elemento en un arreglo NumPy.\n",
    "        numpy.log(): Calcula el logaritmo natural de cada elemento en un arreglo NumPy.\n",
    "\n",
    "    Manipulación de arreglos NumPy:\n",
    "        numpy.reshape(): Cambia la forma de un arreglo NumPy.\n",
    "        numpy.transpose(): Transpone un arreglo NumPy.\n",
    "        numpy.concatenate(): Combina dos arreglos NumPy a lo largo de un eje específico.\n",
    "\n",
    "    Estadísticas en arreglos NumPy:\n",
    "        numpy.mean(): Calcula la media de los elementos en un arreglo NumPy.\n",
    "        numpy.median(): Calcula la mediana de los elementos en un arreglo NumPy.\n",
    "        numpy.var(): Calcula la varianza de los elementos en un arreglo NumPy.\n",
    "        numpy.std(): Calcula la desviación estándar de los elementos en un arreglo NumPy."
   ]
  },
  {
   "attachments": {},
   "cell_type": "markdown",
   "metadata": {},
   "source": [
    "A continuación te proporciono algunos ejercicios utilizando métodos de la librería NumPy en programación orientada a objetos:\n",
    "\n",
    "    Crear una clase ArrayOperations que tenga los siguientes métodos:\n",
    "        __init__(self, array): Constructor que recibe un arreglo NumPy y lo asigna a una variable de instancia.\n",
    "        add(self, other_array): Método que recibe otro arreglo NumPy y devuelve un nuevo arreglo NumPy que es la suma del arreglo de la instancia y el arreglo recibido.\n",
    "        multiply(self, scalar): Método que recibe un escalar y devuelve un nuevo arreglo NumPy que es la multiplicación del arreglo de la instancia por el escalar recibido.\n",
    "\n",
    "    Ejemplo de uso:"
   ]
  },
  {
   "cell_type": "code",
   "execution_count": 1,
   "metadata": {},
   "outputs": [
    {
     "name": "stdout",
     "output_type": "stream",
     "text": [
      "[5 7 9]\n",
      "[2 4 6]\n"
     ]
    }
   ],
   "source": [
    "import numpy as np\n",
    "\n",
    "class Matriz_operacion:\n",
    "\n",
    "    def __init__(self, matriz) -> None:\n",
    "        self.matriz= np.array(matriz)\n",
    "\n",
    "    def sumar_matriz (self, agregar_matriz):\n",
    "        return self.matriz + agregar_matriz\n",
    "    \n",
    "    def multiplicar_matriz (self, matriz_m):\n",
    "        return np.dot(self.matriz, matriz_m.matriz)\n",
    "        \n",
    "\n",
    "matriz= Matriz_operacion([[1,2,3],\n",
    "                          [1,2,3],\n",
    "                          [1,2,3]])\n",
    "\n",
    "matriz_2= Matriz_operacion([[5,2,1],\n",
    "                            [0,3,1],\n",
    "                            [7,2,3]])\n",
    "\n",
    "matriz.sumar_matriz([[5,2,1],[0,3,1],[7,2,3]])\n",
    "\n",
    "#matriz.multiplicar_matriz(matriz_2)"
   ]
  },
  {
   "attachments": {},
   "cell_type": "markdown",
   "metadata": {},
   "source": [
    "Crear una clase Statistics que tenga los siguientes métodos:\n",
    "\n",
    "    __init__(self, array): Constructor que recibe un arreglo NumPy y lo asigna a una variable de instancia.\n",
    "    mean(self): Método que devuelve la media del arreglo de la instancia.\n",
    "    median(self): Método que devuelve la mediana del arreglo de la instancia.\n",
    "    variance(self): Método que devuelve la varianza del arreglo de la instancia.\n",
    "    std_deviation(self): Método que devuelve la desviación estándar del arreglo de la instancia.\n",
    "\n",
    "Ejemplo de uso:"
   ]
  },
  {
   "cell_type": "code",
   "execution_count": 2,
   "metadata": {},
   "outputs": [
    {
     "data": {
      "text/plain": [
       "0.816496580927726"
      ]
     },
     "execution_count": 2,
     "metadata": {},
     "output_type": "execute_result"
    }
   ],
   "source": [
    "import numpy as np\n",
    "class Operaciones_matrices:\n",
    "    def __init__(self, matriz):\n",
    "        self.matriz= np.array(matriz)\n",
    "\n",
    "    def matriz_media (self, matriz_2):\n",
    "        return np.mean(matriz_2.matriz)\n",
    "    \n",
    "    def matriz_mediana(self, matriz_2):\n",
    "        return np.median(matriz_2.matriz)\n",
    "    \n",
    "    def matriz_varianza(self, matriz_2):\n",
    "        return np.var(matriz_2.matriz)\n",
    "    \n",
    "    def matriz_desviacion (self, matriz_2):\n",
    "        return np.std(matriz_2.matriz)\n",
    "    \n",
    "\n",
    "\n",
    "matriz= Operaciones_matrices([[1,2,3],\n",
    "                          [1,2,3],\n",
    "                          [1,2,3]])\n",
    "\n",
    "matriz_2= Operaciones_matrices([[5,2,1],\n",
    "                            [0,3,1],\n",
    "                            [7,2,3]])\n",
    "\n",
    "matriz.matriz_media(matriz_2)\n",
    "\n",
    "matriz_2.matriz_mediana(matriz)\n",
    "\n",
    "matriz_2.matriz_varianza(matriz)\n",
    "\n",
    "matriz_2.matriz_desviacion(matriz)"
   ]
  },
  {
   "attachments": {},
   "cell_type": "markdown",
   "metadata": {},
   "source": [
    "Crear una clase MatrixOperations que tenga los siguientes métodos:\n",
    "\n",
    "    __init__(self, matrix): Constructor que recibe una matriz NumPy y la asigna a una variable de instancia.\n",
    "    transpose(self): Método que devuelve la matriz transpuesta del objeto de la instancia.\n",
    "    dot(self, other_matrix): Método que recibe otra matriz NumPy y devuelve el producto matricial entre la matriz de la instancia y la matriz recibida.\n",
    "\n",
    "Crear una clase MatrixOperations que tenga los siguientes métodos:\n",
    "\n",
    "    __init__(self, matrix): Constructor que recibe una matriz NumPy y la asigna a una variable de instancia.\n",
    "    transpose(self): Método que devuelve la matriz transpuesta del objeto de la instancia.\n",
    "    dot(self, other_matrix): Método que recibe otra matriz NumPy y devuelve el producto matricial entre la matriz de la instancia y la matriz recibida.\n",
    "\n",
    "Ejemplo de uso:Ejemplo de uso:"
   ]
  },
  {
   "cell_type": "code",
   "execution_count": 3,
   "metadata": {},
   "outputs": [
    {
     "data": {
      "text/plain": [
       "array([[1, 1, 1],\n",
       "       [2, 2, 2],\n",
       "       [3, 3, 3]])"
      ]
     },
     "execution_count": 3,
     "metadata": {},
     "output_type": "execute_result"
    }
   ],
   "source": [
    "import numpy as np\n",
    "\n",
    "class Operaciones_matrices:\n",
    "    def __init__(self, matriz):\n",
    "        self.matriz = np.array(matriz)\n",
    "    \n",
    "    \"\"\"\n",
    "    En el contexto de NumPy, T es un atributo que representa \n",
    "    la matriz transpuesta de un array. La propiedad T devuelve \n",
    "    la matriz transpuesta de la matriz o array en cuestión. \n",
    "    La transpuesta de una matriz intercambia sus filas por columnas, \n",
    "    es decir, refleja la matriz a lo largo de su diagonal principal.\n",
    "    \"\"\"\n",
    "    def trasponer(self):\n",
    "        return self.matriz.T\n",
    "    \n",
    "    def Producto_marcial(self, otra_matriz):\n",
    "        return np.dot(self.matriz, otra_matriz)\n",
    "    \n",
    "\n",
    "\n",
    "matriz= Operaciones_matrices([[1,2,3],\n",
    "                          [1,2,3],\n",
    "                          [1,2,3]])\n",
    "\n",
    "matriz_2= Operaciones_matrices([[5,2,1],\n",
    "                            [0,3,1],\n",
    "                            [7,2,3]])\n",
    "\n",
    "\n",
    "matriz.trasponer()\n",
    "\n",
    "#te puede salir este error\n",
    "#matriz.Producto_marcial(matriz_2)\n",
    "\n",
    "#corregido\n",
    "#matriz.Producto_marcial(matriz_2.matriz)"
   ]
  },
  {
   "attachments": {},
   "cell_type": "markdown",
   "metadata": {},
   "source": [
    "Crear una clase VectorOperations que tenga los siguientes métodos:\n",
    "\n",
    "    __init__(self, vector): Constructor que recibe un vector NumPy y lo asigna a una variable de instancia.\n",
    "    magnitude(self): Método que devuelve la magnitud (norma) del vector de la instancia.\n",
    "    dot(self, other_vector): Método que recibe otro vector NumPy y devuelve el producto escalar entre el vector de la instancia y el vector recibido.\n",
    "    angle(self, other_vector): Método que recibe otro vector NumPy y devuelve el ángulo (en radianes) entre el vector de la instancia y el vector recibido.\n",
    "\n",
    "Ejemplo de uso:"
   ]
  },
  {
   "cell_type": "code",
   "execution_count": null,
   "metadata": {},
   "outputs": [
    {
     "name": "stdout",
     "output_type": "stream",
     "text": [
      "3.7416573867739413\n",
      "32\n",
      "0.2257261285527342\n"
     ]
    }
   ],
   "source": [
    "import numpy as np\n",
    "\n",
    "class VectorOperations:\n",
    "    def __init__(self, vector):\n",
    "        self.vector = np.array(vector)\n",
    "    \n",
    "    def magnitude(self):\n",
    "        return np.linalg.norm(self.vector)\n",
    "    \n",
    "    def dot(self, other_vector):\n",
    "        return np.dot(self.vector, other_vector)\n",
    "    \n",
    "    def angle(self, other_vector):\n",
    "        return np.arccos(np.dot(self.vector, other_vector) / (np.linalg.norm(self.vector) * np.linalg.norm(other_vector)))\n",
    "\n",
    "vector1 = VectorOperations([1, 2, 3])\n",
    "vector2 = VectorOperations([4, 5, 6])\n",
    "\n",
    "print(vector1.magnitude())  # 3.7416573867739413\n",
    "print(vector1.dot(vector2.vector))  # 32\n",
    "print(vector1.angle(vector2.vector))  # 0.22572612855273395\n"
   ]
  }
 ],
 "metadata": {
  "kernelspec": {
   "display_name": "Python 3",
   "language": "python",
   "name": "python3"
  },
  "language_info": {
   "codemirror_mode": {
    "name": "ipython",
    "version": 3
   },
   "file_extension": ".py",
   "mimetype": "text/x-python",
   "name": "python",
   "nbconvert_exporter": "python",
   "pygments_lexer": "ipython3",
   "version": "3.10.6"
  },
  "orig_nbformat": 4
 },
 "nbformat": 4,
 "nbformat_minor": 2
}
