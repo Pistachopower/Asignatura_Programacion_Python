{
 "cells": [
  {
   "cell_type": "code",
   "execution_count": 35,
   "metadata": {},
   "outputs": [],
   "source": [
    "import numpy as np\n",
    "\n",
    "class Matriz_operacion:\n",
    "\n",
    "    def __init__(self, matriz) -> None:\n",
    "        self.matriz= np.array(matriz)\n",
    "\n",
    "    def sumar_matriz (self, agregar_matriz):\n",
    "        return self.matriz + agregar_matriz\n",
    "    \n",
    "    def multiplicar_matriz (self, matriz_m):\n",
    "        return np.dot(self.matriz, matriz_m.matriz)\n",
    "        \n",
    "\n"
   ]
  },
  {
   "cell_type": "code",
   "execution_count": 36,
   "metadata": {},
   "outputs": [
    {
     "data": {
      "text/plain": [
       "array([[6, 4, 4],\n",
       "       [1, 5, 4],\n",
       "       [8, 4, 6]])"
      ]
     },
     "execution_count": 36,
     "metadata": {},
     "output_type": "execute_result"
    }
   ],
   "source": [
    "\n",
    "matriz= Matriz_operacion([[1,2,3],\n",
    "                          [1,2,3],\n",
    "                          [1,2,3]])\n",
    "\n",
    "matriz_2= Matriz_operacion([[5,2,1],\n",
    "                            [0,3,1],\n",
    "                            [7,2,3]])\n",
    "\n",
    "matriz.sumar_matriz([[5,2,1],[0,3,1],[7,2,3]])\n",
    "\n",
    "#matriz.multiplicar_matriz(matriz_2)\n",
    "\n"
   ]
  },
  {
   "cell_type": "code",
   "execution_count": 76,
   "metadata": {},
   "outputs": [],
   "source": [
    "class Operaciones_matrices:\n",
    "    def __init__(self, matriz):\n",
    "        self.matriz = np.array(matriz)\n",
    "    \n",
    "    \"\"\"\n",
    "    En el contexto de NumPy, T es un atributo que representa \n",
    "    la matriz transpuesta de un array. La propiedad T devuelve \n",
    "    la matriz transpuesta de la matriz o array en cuestión. \n",
    "    La transpuesta de una matriz intercambia sus filas por columnas, \n",
    "    es decir, refleja la matriz a lo largo de su diagonal principal.\n",
    "    \"\"\"\n",
    "    def trasponer(self):\n",
    "        return self.matriz.T\n",
    "    \n",
    "    def Producto_marcial(self, otra_matriz):\n",
    "        return np.dot(self.matriz, otra_matriz)"
   ]
  },
  {
   "cell_type": "code",
   "execution_count": 77,
   "metadata": {},
   "outputs": [
    {
     "data": {
      "text/plain": [
       "array([[1, 1, 1],\n",
       "       [2, 2, 2],\n",
       "       [3, 3, 3]])"
      ]
     },
     "execution_count": 77,
     "metadata": {},
     "output_type": "execute_result"
    }
   ],
   "source": [
    "\n",
    "matriz= Operaciones_matrices([[1,2,3],\n",
    "                          [1,2,3],\n",
    "                          [1,2,3]])\n",
    "\n",
    "matriz_2= Operaciones_matrices([[5,2,1],\n",
    "                            [0,3,1],\n",
    "                            [7,2,3]])\n",
    "\n",
    "\n",
    "matriz.trasponer()\n",
    "\n",
    "#te puede salir este error\n",
    "#matriz.Producto_marcial(matriz_2)\n",
    "\n",
    "#corregido\n",
    "#matriz.Producto_marcial(matriz_2.matriz)"
   ]
  }
 ],
 "metadata": {
  "kernelspec": {
   "display_name": "Python 3",
   "language": "python",
   "name": "python3"
  },
  "language_info": {
   "codemirror_mode": {
    "name": "ipython",
    "version": 3
   },
   "file_extension": ".py",
   "mimetype": "text/x-python",
   "name": "python",
   "nbconvert_exporter": "python",
   "pygments_lexer": "ipython3",
   "version": "3.10.6"
  },
  "orig_nbformat": 4
 },
 "nbformat": 4,
 "nbformat_minor": 2
}
