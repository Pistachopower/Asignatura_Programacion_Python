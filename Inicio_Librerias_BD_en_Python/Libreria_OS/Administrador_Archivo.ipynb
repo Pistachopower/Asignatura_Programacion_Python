{
 "cells": [
  {
   "cell_type": "code",
   "execution_count": 2,
   "metadata": {},
   "outputs": [],
   "source": [
    "import os\n",
    "\n",
    "class Administrador_Archivo:\n",
    "    def __init__(self, ruta):\n",
    "        self.ruta = ruta\n",
    "\n",
    "    def crear_directorio(self, nombre_directorio):\n",
    "        nueva_ruta = os.path.join(self.ruta, nombre_directorio)\n",
    "\n",
    "        if os.path.exists(nueva_ruta):\n",
    "            print('El directorio ya existe: ', nueva_ruta)\n",
    "        else:\n",
    "            os.mkdir(nueva_ruta)\n",
    "            print('Se ha creado el directorio: ', nueva_ruta)\n",
    "\n",
    "    def listar_directorios(self):\n",
    "        ruta = os.listdir(self.ruta)\n",
    "        print('Archivos y directorios en ', ruta, ':')\n",
    "        for ruta in ruta:\n",
    "            print('-->', ruta)\n",
    "\n",
    "    def borrar_directorio(self, nombre_directorio):\n",
    "        dir_ruta = os.path.join(self.ruta, nombre_directorio)\n",
    "        try:\n",
    "            os.rmdir(dir_ruta)\n",
    "            print('El directorio ha sido borrado exitosamente')\n",
    "        except FileNotFoundError:\n",
    "            print('El directorio no existe')\n",
    "\n",
    "    def crear_archivo(self, nombre_archivo, content=''):\n",
    "        ruta_archivo = os.path.join(self.ruta, nombre_archivo)\n",
    "\n",
    "        if os.path.exists(ruta_archivo):\n",
    "            print('El archivo ya existe')\n",
    "        else:\n",
    "            with open(ruta_archivo, 'w') as f:\n",
    "                f.write(content)\n",
    "                print('Se ha creado el archivo: ', ruta_archivo)\n",
    "\n",
    "    def leer_archivo(self, nombre_archivo):\n",
    "        ruta_archivo = os.path.join(self.ruta, nombre_archivo)\n",
    "        \n",
    "        with open(ruta_archivo, 'r') as lector_archivo:\n",
    "            print('contenido del archivo -->')\n",
    "            return lector_archivo.read()\n",
    "\n",
    "    def borrar_archivo(self, nombre_archivo):\n",
    "        ruta_archivo = os.path.join(self.ruta, nombre_archivo)\n",
    "        try:\n",
    "            os.remove(ruta_archivo)\n",
    "            print(f\"El archivo {nombre_archivo} ha sido borrado exitosamente.\")\n",
    "        except FileNotFoundError:\n",
    "            print(f\"El archivo {nombre_archivo} no existe.\")\n",
    "\n"
   ]
  },
  {
   "cell_type": "code",
   "execution_count": 7,
   "metadata": {},
   "outputs": [
    {
     "name": "stdout",
     "output_type": "stream",
     "text": [
      "El directorio ya existe:  /home/usuario/Escritorio/Programacion/Inicio_Librerias_en_Python/Libreria_OS/ultrasecreto\n",
      "Archivos y directorios en  ['ultrasecreto', 'contrasenas.txt', 'libreria_os.ipynb', 'Administrador_Archivo.ipynb'] :\n",
      "--> ultrasecreto\n",
      "--> contrasenas.txt\n",
      "--> libreria_os.ipynb\n",
      "--> Administrador_Archivo.ipynb\n",
      "El directorio ha sido borrado exitosamente\n"
     ]
    }
   ],
   "source": [
    "administrador_archivo= Administrador_Archivo('/home/usuario/Escritorio/Programacion/Inicio_Librerias_en_Python/Libreria_OS')\n",
    "\n",
    "administrador_archivo.crear_directorio('ultrasecreto')\n",
    "#\n",
    "\n",
    "administrador_archivo.listar_directorios()\n",
    "#\n",
    "administrador_archivo.borrar_directorio('ultrasecreto')\n",
    "\n",
    "\n",
    "#administrador_archivo.crear_archivo('contrasenas.txt', 'administrador: juan, contrasena:ultra')\n",
    "\n",
    "\n",
    "#administrador_archivo.leer_archivo('contrasenas.txt')\n",
    "\n",
    "#administrador_archivo.borrar_archivo('contrasenas.txt')\n",
    "\n",
    "\n",
    "\n",
    "\n",
    "#administrador_archivo.borrar_directorio('ultra_secreto')\n",
    "\n",
    "\n"
   ]
  }
 ],
 "metadata": {
  "kernelspec": {
   "display_name": "Python 3",
   "language": "python",
   "name": "python3"
  },
  "language_info": {
   "codemirror_mode": {
    "name": "ipython",
    "version": 3
   },
   "file_extension": ".py",
   "mimetype": "text/x-python",
   "name": "python",
   "nbconvert_exporter": "python",
   "pygments_lexer": "ipython3",
   "version": "3.10.6"
  },
  "orig_nbformat": 4
 },
 "nbformat": 4,
 "nbformat_minor": 2
}
