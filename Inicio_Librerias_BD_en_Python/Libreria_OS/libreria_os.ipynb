{
 "cells": [
  {
   "cell_type": "code",
   "execution_count": 3,
   "metadata": {},
   "outputs": [],
   "source": [
    "#renombrar y mover un fichero a otra ruta\n",
    "# \n",
    "import os\n",
    "#ruta original\n",
    "ruta= '/home/usuario/Escritorio/Programacion/pythonCursoPro.txt'\n",
    "\n",
    "\n",
    "#ruta nueva\n",
    "nuevo_destino= '/home/usuario/pythonCursoPro_nuevo.txt'\n",
    "\n",
    "#cambia a la ruta nueva \n",
    "os.rename(ruta, nuevo_destino)\n",
    "\n"
   ]
  },
  {
   "cell_type": "code",
   "execution_count": 6,
   "metadata": {},
   "outputs": [],
   "source": [
    "import os\n",
    "#\n",
    "direccion= \"/home/usuario/Escritorio/ejemplo_borrar.txt\"\n",
    "#\n",
    "os.remove(direccion)\n"
   ]
  },
  {
   "cell_type": "code",
   "execution_count": 10,
   "metadata": {},
   "outputs": [
    {
     "name": "stdout",
     "output_type": "stream",
     "text": [
      "El fichero  /home/usuario/Escritorio/hola.txt no existe\n"
     ]
    }
   ],
   "source": [
    "#renombrar un fichero y controlar error\n",
    "import os\n",
    "#ruta del fichero actual\n",
    "ruta= '/home/usuario/Escritorio/hola.txt'\n",
    "\n",
    "#print(os.getcwd()+ '/' + documento) \n",
    "# #imprime el directorio donde se encuentra el archivo\n",
    "\n",
    "#verificamos si existe\n",
    "if os.path.isfile(ruta):\n",
    "    #ponemos la ruta original y la misma ruta pero con el nuevo nombre fichero\n",
    "    os.rename(ruta, '/home/usuario/Escritorio/modificacion_hola.txt') #renombrar\n",
    "\n",
    "else:\n",
    "    print('El fichero ', ruta, 'no existe')"
   ]
  },
  {
   "cell_type": "code",
   "execution_count": 12,
   "metadata": {},
   "outputs": [
    {
     "name": "stdout",
     "output_type": "stream",
     "text": [
      "El fichero  /home/usuario/Escritorio/modificacion_hola.txt no existe\n"
     ]
    }
   ],
   "source": [
    "import os \n",
    "ruta= '/home/usuario/Escritorio/modificacion_hola.txt'\n",
    "\n",
    "if os.path.isfile(ruta):\n",
    "    os.remove(ruta) #borrado de fichero\n",
    "\n",
    "else:\n",
    "    print('El fichero ', ruta, 'no existe')"
   ]
  },
  {
   "cell_type": "code",
   "execution_count": 18,
   "metadata": {},
   "outputs": [
    {
     "name": "stdout",
     "output_type": "stream",
     "text": [
      "Archivos y directorios en  /home/usuario/Escritorio/Programacion :\n",
      "--> pythonCursoPro_nuevo.txt\n",
      "--> Teoria diccionario\n",
      "--> Programacion modular\n",
      "--> Teoria de iniciacion\n",
      "--> Programacion orientada a objeto\n",
      "--> Inicio_Librerias_en_Python\n",
      "--> Control de errores\n",
      "--> Python \n"
     ]
    }
   ],
   "source": [
    "import os\n",
    "#ejemplo de listar archivos y directorios \n",
    "\n",
    "ruta= '/home/usuario/Escritorio/Programacion'\n",
    "\n",
    "archivos_directorios= os.listdir(ruta)\n",
    "\n",
    "print(\"Archivos y directorios en \", ruta, ':')\n",
    "for elemento in archivos_directorios:\n",
    "    print('-->', elemento)"
   ]
  },
  {
   "cell_type": "code",
   "execution_count": 20,
   "metadata": {},
   "outputs": [
    {
     "name": "stdout",
     "output_type": "stream",
     "text": [
      "Se ha creado el directorio /home/usuario/Escritorio/mi_nuevo_directorio\n"
     ]
    }
   ],
   "source": [
    "#crear un directorio \n",
    "ruta= '/home/usuario/Escritorio/'\n",
    "nuevo_directorio= 'mi_nuevo_directorio'\n",
    "\n",
    "os.mkdir(os.path.join(ruta,nuevo_directorio))\n",
    "\n",
    "print('Se ha creado el directorio', os.path.join(ruta,nuevo_directorio))"
   ]
  },
  {
   "cell_type": "code",
   "execution_count": 29,
   "metadata": {},
   "outputs": [
    {
     "name": "stdout",
     "output_type": "stream",
     "text": [
      "/home/usuario/Escritorio/Programacion/Inicio_Librerias_en_Python\n"
     ]
    }
   ],
   "source": [
    "#permite que en un directorio padre con varios hijos\n",
    "#puedas crear rutas relativas(en el mismo nivel que los otros hijos)\n",
    "#puedas guardar en una variable la ruta relativa cuando quieras \n",
    "#moverte de directorio sin cambiar el directorio de forma manual\n",
    "mostrar_directorio= os.getcwd()\n",
    "dir_actual= '/home/usuario/Escritorio/Programacion/Inicio_Librerias_en_Python/ejer_ficheros_python'\n",
    "dir_nuevo= '/home/usuario/Escritorio/Programacion/Inicio_Librerias_en_Python'\n",
    "#print(dir_actual)\n",
    "\n",
    "ruta_nueva= os.path.join(dir_actual, dir_nuevo)\n",
    "#\n",
    "os.chdir(ruta_nueva)\n",
    "print(ruta_nueva)\n",
    "\n",
    "\n"
   ]
  },
  {
   "cell_type": "code",
   "execution_count": 32,
   "metadata": {},
   "outputs": [
    {
     "name": "stdout",
     "output_type": "stream",
     "text": [
      "El directorio ha sido borrado\n"
     ]
    }
   ],
   "source": [
    "#borrar directorio vacio\n",
    "\n",
    "import os\n",
    "\n",
    "ruta= '/home/usuario/Escritorio/ejemplo_borrar_directorio'\n",
    "\n",
    "if os.path.exists(ruta):\n",
    "    os.rmdir(ruta)\n",
    "    print('El directorio ha sido borrado')\n",
    "else:\n",
    "    print('El directorio no exite')"
   ]
  }
 ],
 "metadata": {
  "kernelspec": {
   "display_name": "Python 3",
   "language": "python",
   "name": "python3"
  },
  "language_info": {
   "codemirror_mode": {
    "name": "ipython",
    "version": 3
   },
   "file_extension": ".py",
   "mimetype": "text/x-python",
   "name": "python",
   "nbconvert_exporter": "python",
   "pygments_lexer": "ipython3",
   "version": "3.10.6"
  },
  "orig_nbformat": 4
 },
 "nbformat": 4,
 "nbformat_minor": 2
}
