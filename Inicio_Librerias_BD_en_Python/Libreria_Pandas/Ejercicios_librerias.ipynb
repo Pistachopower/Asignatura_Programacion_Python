{
 "cells": [
  {
   "attachments": {},
   "cell_type": "markdown",
   "metadata": {},
   "source": [
    "1.Cálculo del área y perímetro de un círculo: Utilizando la función pi de la librería math, puedes calcular el área y el perímetro de un círculo con un radio dado."
   ]
  },
  {
   "cell_type": "code",
   "execution_count": 9,
   "metadata": {},
   "outputs": [
    {
     "name": "stdout",
     "output_type": "stream",
     "text": [
      "El area es 78.53981633974483El perimetro es 31.41592653589793\n"
     ]
    }
   ],
   "source": [
    "#from math import *  otra manera de llamar a math\n",
    "import math\n",
    "class clase_circulo:\n",
    "    def __init__(self, radio):\n",
    "        self.radio = radio\n",
    "\n",
    "    def calcular_area(self):\n",
    "        area= math.pi * self.radio ** 2\n",
    "        return 'El area es ' + str(area)\n",
    "    \n",
    "    def calcular_perimetro(self):\n",
    "        perimetro= 2 * math.pi * self.radio\n",
    "        return 'El perimetro es ' + str(perimetro)\n",
    "\n",
    "\n",
    "        \n",
    "\n",
    "\n",
    "circulo= clase_circulo(5)\n",
    "\n",
    "circulo.calcular_area()\n",
    "circulo.calcular_perimetro()\n",
    "\n",
    "final= circulo.calcular_area() + circulo.calcular_perimetro()\n",
    "\n",
    "print(final)\n"
   ]
  },
  {
   "attachments": {},
   "cell_type": "markdown",
   "metadata": {},
   "source": [
    "2. Cálculo del seno, coseno y tangente de un ángulo: La librería math también tiene funciones para calcular el seno, coseno y tangente de un ángulo en radianes.\n"
   ]
  },
  {
   "cell_type": "code",
   "execution_count": 10,
   "metadata": {},
   "outputs": [
    {
     "name": "stdout",
     "output_type": "stream",
     "text": [
      "El seno es -0.9589242746631385 y El coseno es 0.28366218546322625La tangente es -3.380515006246586\n"
     ]
    }
   ],
   "source": [
    "#seno valor: 5 resultado= -0.9589242...\n",
    "#\n",
    "import math\n",
    "class clase_angulo:\n",
    "    def __init__(self, angulo):\n",
    "        self.angulo = angulo\n",
    "\n",
    "    def calcular_seno(self):\n",
    "        seno= math.sin(self.angulo)\n",
    "        return 'El seno es ' + str(seno)\n",
    "    \n",
    "    def calcular_coseno(self):\n",
    "        coseno= math.cos(self.angulo)\n",
    "        return 'El coseno es ' + str(coseno)\n",
    "    \n",
    "    def calcular_tangente(self):\n",
    "        tangente= math.tan(self.angulo)\n",
    "        return 'La tangente es ' + str(tangente)\n",
    "\n",
    "angulo= clase_angulo(5)\n",
    "\n",
    "angulo.calcular_seno()\n",
    "angulo.calcular_coseno()\n",
    "angulo.calcular_tangente()\n",
    "\n",
    "resultado_angulo= angulo.calcular_seno() + ' y '+ angulo.calcular_coseno() + angulo.calcular_tangente()\n",
    "\n",
    "print(resultado_angulo)"
   ]
  },
  {
   "attachments": {},
   "cell_type": "markdown",
   "metadata": {},
   "source": [
    "3. Cálculo del logaritmo natural y exponencial: La librería math también tiene funciones para calcular el logaritmo natural y exponencial de un número."
   ]
  },
  {
   "cell_type": "code",
   "execution_count": 11,
   "metadata": {},
   "outputs": [
    {
     "data": {
      "text/plain": [
       "'El logaritmo natural es 2.0'"
      ]
     },
     "execution_count": 11,
     "metadata": {},
     "output_type": "execute_result"
    }
   ],
   "source": [
    "import math\n",
    "#valor= 100 resultado= 2.0\n",
    "\n",
    "class clase_logaritmo:\n",
    "    def __init__(self, logaritmo):\n",
    "        self.logaritmo = logaritmo\n",
    "\n",
    "    def calcular_logaritmo(self):\n",
    "        exponencial= 10\n",
    "        logaritmo= math.log(self.logaritmo, exponencial)\n",
    "        return 'El logaritmo natural es ' + str(logaritmo)\n",
    "    \n",
    "loga_final= clase_logaritmo(100)\n",
    "\n",
    "loga_final.calcular_logaritmo()\n"
   ]
  },
  {
   "attachments": {},
   "cell_type": "markdown",
   "metadata": {},
   "source": [
    "4. Creación de una matriz: Para crear una matriz en Numpy, puedes utilizar la función array."
   ]
  },
  {
   "cell_type": "code",
   "execution_count": 12,
   "metadata": {},
   "outputs": [
    {
     "name": "stdout",
     "output_type": "stream",
     "text": [
      "[[1 2 3 4]\n",
      " [1 5 7 8]]\n"
     ]
    }
   ],
   "source": [
    "import numpy as np\n",
    "\n",
    "matriz= np.array([[1,2,3,4], [1,5,7,8]])\n",
    "\n",
    "print(matriz)\n",
    "\n"
   ]
  },
  {
   "attachments": {},
   "cell_type": "markdown",
   "metadata": {},
   "source": [
    "5. Operaciones aritméticas con matrices: Numpy te permite realizar operaciones aritméticas con matrices, como sumarlas, restarlas o multiplicarlas.\n",
    "5.1. Suma de matrices: Para sumar dos matrices en Numpy, simplemente utiliza el operador +. Es importante que ambas matrices tengan las mismas dimensiones.\n",
    "5.2. Resta de matrices: Para restar dos matrices en Numpy, simplemente utiliza el operador -. Al igual que con la suma, ambas matrices deben tener las mismas dimensiones.\n",
    "5.3 Multiplicación de matrices: Para multiplicar dos matrices en Numpy, utiliza la función dot. Es importante que las dimensiones de las matrices sean compatibles para realizar la operación.\n",
    "5.4. División de matrices: Para dividir dos matrices en Numpy, utiliza el operador /.\n"
   ]
  },
  {
   "cell_type": "code",
   "execution_count": 13,
   "metadata": {},
   "outputs": [
    {
     "name": "stdout",
     "output_type": "stream",
     "text": [
      "La suma es \n",
      "[[ 2  4  6]\n",
      " [ 2 10 14]\n",
      " [ 4  8 12]]\n",
      "La resta es \n",
      "[[0 0 0]\n",
      " [0 0 0]\n",
      " [0 0 0]]\n",
      "La multiplicacion es \n",
      " [[ 9 24 35]\n",
      " [20 55 80]\n",
      " [18 48 70]]\n",
      "La division es \n",
      "[[1. 1. 1.]\n",
      " [1. 1. 1.]\n",
      " [1. 1. 1.]]\n"
     ]
    }
   ],
   "source": [
    "import numpy as np\n",
    "\n",
    "matriz_1= np.array([[1,2,3], [1,5,7], [2,4,6]])\n",
    "#                        |           |\n",
    "#                        v           v\n",
    "matriz_2= np.array([[1,2,3], [1,5,7], [2,4,6]])\n",
    "\n",
    "\n",
    "suma= matriz_1 + matriz_2\n",
    "resta= matriz_1 - matriz_2\n",
    "\n",
    "multiplicacion= np.dot(matriz_1,matriz_2)\n",
    "\n",
    "\n",
    "division= matriz_1 / matriz_2\n",
    "\n",
    "print(\"La suma es \\n{}\".format(suma))\n",
    "print(\"La resta es \\n{}\".format(resta)) \n",
    "print(\"La multiplicacion es \\n {}\".format(multiplicacion))\n",
    "print(\"La division es \\n{}\".format(division))\n"
   ]
  },
  {
   "attachments": {},
   "cell_type": "markdown",
   "metadata": {},
   "source": [
    "6. Creación de un arreglo de números aleatorios: Numpy también tiene funciones para generar arreglos de números aleatorios. Por ejemplo, puedes utilizar la función random para crear un arreglo de 10 números aleatorios entre 0 y 1."
   ]
  },
  {
   "cell_type": "code",
   "execution_count": 14,
   "metadata": {},
   "outputs": [
    {
     "name": "stdout",
     "output_type": "stream",
     "text": [
      "[[[0 2 3 3 8 1 1 0 5 4]]\n",
      "\n",
      " [[0 2 3 3 8 1 1 0 5 4]]\n",
      "\n",
      " [[0 2 3 3 8 1 1 0 5 4]]]\n"
     ]
    }
   ],
   "source": [
    "import numpy as np\n",
    "#randint(minimo,maximo, total de elementos)\n",
    "\n",
    "arreglo_aleatorio= np.random.randint(0,10,10)\n",
    "\n",
    "matriz= np.array([[arreglo_aleatorio],[arreglo_aleatorio],[arreglo_aleatorio]])\n",
    "print(matriz)"
   ]
  },
  {
   "cell_type": "code",
   "execution_count": 15,
   "metadata": {},
   "outputs": [],
   "source": [
    "import pandas as pd \n",
    "data= pd.read_csv(\"ubicaciones.csv\")"
   ]
  },
  {
   "cell_type": "code",
   "execution_count": 30,
   "metadata": {},
   "outputs": [
    {
     "data": {
      "text/html": [
       "<div>\n",
       "<style scoped>\n",
       "    .dataframe tbody tr th:only-of-type {\n",
       "        vertical-align: middle;\n",
       "    }\n",
       "\n",
       "    .dataframe tbody tr th {\n",
       "        vertical-align: top;\n",
       "    }\n",
       "\n",
       "    .dataframe thead th {\n",
       "        text-align: right;\n",
       "    }\n",
       "</style>\n",
       "<table border=\"1\" class=\"dataframe\">\n",
       "  <thead>\n",
       "    <tr style=\"text-align: right;\">\n",
       "      <th></th>\n",
       "      <th>Nombre</th>\n",
       "      <th>Latitud</th>\n",
       "      <th>Longitud</th>\n",
       "    </tr>\n",
       "  </thead>\n",
       "  <tbody>\n",
       "    <tr>\n",
       "      <th>0</th>\n",
       "      <td>Ciudad de México</td>\n",
       "      <td>19.4326</td>\n",
       "      <td>-99.1332</td>\n",
       "    </tr>\n",
       "    <tr>\n",
       "      <th>1</th>\n",
       "      <td>Guadalajara</td>\n",
       "      <td>20.6736</td>\n",
       "      <td>-103.3440</td>\n",
       "    </tr>\n",
       "    <tr>\n",
       "      <th>2</th>\n",
       "      <td>Monterrey</td>\n",
       "      <td>25.6866</td>\n",
       "      <td>-100.3161</td>\n",
       "    </tr>\n",
       "  </tbody>\n",
       "</table>\n",
       "</div>"
      ],
      "text/plain": [
       "             Nombre  Latitud  Longitud\n",
       "0  Ciudad de México  19.4326  -99.1332\n",
       "1       Guadalajara  20.6736 -103.3440\n",
       "2         Monterrey  25.6866 -100.3161"
      ]
     },
     "execution_count": 30,
     "metadata": {},
     "output_type": "execute_result"
    }
   ],
   "source": [
    "data"
   ]
  },
  {
   "attachments": {},
   "cell_type": "markdown",
   "metadata": {},
   "source": [
    "7. Cargar el archivo CSV “ubicaciones.csv” y mostrar los 2 primeros registros usando la librería pandas."
   ]
  },
  {
   "cell_type": "code",
   "execution_count": 17,
   "metadata": {},
   "outputs": [
    {
     "data": {
      "text/html": [
       "<div>\n",
       "<style scoped>\n",
       "    .dataframe tbody tr th:only-of-type {\n",
       "        vertical-align: middle;\n",
       "    }\n",
       "\n",
       "    .dataframe tbody tr th {\n",
       "        vertical-align: top;\n",
       "    }\n",
       "\n",
       "    .dataframe thead th {\n",
       "        text-align: right;\n",
       "    }\n",
       "</style>\n",
       "<table border=\"1\" class=\"dataframe\">\n",
       "  <thead>\n",
       "    <tr style=\"text-align: right;\">\n",
       "      <th></th>\n",
       "      <th>Nombre</th>\n",
       "      <th>Latitud</th>\n",
       "      <th>Longitud</th>\n",
       "    </tr>\n",
       "  </thead>\n",
       "  <tbody>\n",
       "    <tr>\n",
       "      <th>0</th>\n",
       "      <td>Ciudad de México</td>\n",
       "      <td>19.4326</td>\n",
       "      <td>-99.1332</td>\n",
       "    </tr>\n",
       "    <tr>\n",
       "      <th>1</th>\n",
       "      <td>Guadalajara</td>\n",
       "      <td>20.6736</td>\n",
       "      <td>-103.3440</td>\n",
       "    </tr>\n",
       "  </tbody>\n",
       "</table>\n",
       "</div>"
      ],
      "text/plain": [
       "             Nombre  Latitud  Longitud\n",
       "0  Ciudad de México  19.4326  -99.1332\n",
       "1       Guadalajara  20.6736 -103.3440"
      ]
     },
     "execution_count": 17,
     "metadata": {},
     "output_type": "execute_result"
    }
   ],
   "source": [
    "data.head(2)"
   ]
  },
  {
   "attachments": {},
   "cell_type": "markdown",
   "metadata": {},
   "source": [
    "8. Seleccionar una columna del DataFrame creado al cargar el archivo “ubicaciones.csv” con la librería pandas."
   ]
  },
  {
   "cell_type": "code",
   "execution_count": 18,
   "metadata": {},
   "outputs": [
    {
     "data": {
      "text/plain": [
       "0    Ciudad de México\n",
       "1         Guadalajara\n",
       "2           Monterrey\n",
       "Name: Nombre, dtype: object"
      ]
     },
     "execution_count": 18,
     "metadata": {},
     "output_type": "execute_result"
    }
   ],
   "source": [
    "data[\"Nombre\"]"
   ]
  },
  {
   "attachments": {},
   "cell_type": "markdown",
   "metadata": {},
   "source": [
    "9. Crear un nuevo DataFrame a partir del anterior con filtros de latitud > 20."
   ]
  },
  {
   "cell_type": "code",
   "execution_count": 19,
   "metadata": {},
   "outputs": [
    {
     "name": "stdout",
     "output_type": "stream",
     "text": [
      "        Nombre  Latitud  Longitud\n",
      "1  Guadalajara  20.6736 -103.3440\n",
      "2    Monterrey  25.6866 -100.3161\n"
     ]
    }
   ],
   "source": [
    "data20= data[data.Latitud>20]\n",
    "print(data20)"
   ]
  },
  {
   "attachments": {},
   "cell_type": "markdown",
   "metadata": {},
   "source": [
    "10. Graficar una función matemática simple con matplotlib. Utilizar los métodos plot y show.\n",
    "importar matplotlib.pyplot\n"
   ]
  },
  {
   "cell_type": "code",
   "execution_count": 20,
   "metadata": {},
   "outputs": [
    {
     "data": {
      "image/png": "[encoded data removed]",
      "text/plain": [
       "<Figure size 640x480 with 1 Axes>"
      ]
     },
     "metadata": {},
     "output_type": "display_data"
    }
   ],
   "source": [
    "import matplotlib.pyplot as plt\n",
    "\n",
    "plt.plot([2,3,4,8])\n",
    "plt.ylabel('lineas')\n",
    "plt.show()\n"
   ]
  },
  {
   "attachments": {},
   "cell_type": "markdown",
   "metadata": {},
   "source": [
    "11. Crear un histograma con matplotlib. Generar 1000 números aleatorios con random.randn y crear el histograma con estos datos.\n",
    "importar matplotlib.pyplot"
   ]
  },
  {
   "cell_type": "code",
   "execution_count": 21,
   "metadata": {},
   "outputs": [
    {
     "data": {
      "image/png": "[encoded data removed]",
      "text/plain": [
       "<Figure size 640x480 with 1 Axes>"
      ]
     },
     "metadata": {},
     "output_type": "display_data"
    }
   ],
   "source": [
    "import numpy as np\n",
    "import matplotlib.pyplot as plt\n",
    "\n",
    "dato= np.random.RandomState(0).randn(1000)\n",
    "\n",
    "(counts, bins, patches) = plt.hist(dato)\n",
    "plt.xlabel(\"Datos\")\n",
    "plt.ylabel(\"Eventos\")\n",
    "plt.show()"
   ]
  },
  {
   "attachments": {},
   "cell_type": "markdown",
   "metadata": {},
   "source": [
    "12. Generar múltiples líneas en una sola gráfica."
   ]
  },
  {
   "cell_type": "code",
   "execution_count": 22,
   "metadata": {},
   "outputs": [
    {
     "data": {
      "text/plain": [
       "<matplotlib.legend.Legend at 0x7f023bb01870>"
      ]
     },
     "execution_count": 22,
     "metadata": {},
     "output_type": "execute_result"
    },
    {
     "data": {
      "image/png": "[encoded data removed]",
      "text/plain": [
       "<Figure size 640x480 with 1 Axes>"
      ]
     },
     "metadata": {},
     "output_type": "display_data"
    }
   ],
   "source": [
    "import numpy as np\n",
    "import matplotlib.pyplot as plt\n",
    "\n",
    "\n",
    "fig = plt.figure()\n",
    "x = np.arange(10)\n",
    "y = 2.5 * np.sin(x / 20 * np.pi)\n",
    "yerr = np.linspace(0.05, 0.2, 10)\n",
    "\n",
    "plt.errorbar(x, y + 3, yerr=yerr, label='ambos limites (default)')\n",
    "\n",
    "plt.errorbar(x, y + 2, yerr=yerr, uplims=True, label='uplims=True')\n",
    "\n",
    "plt.errorbar(x, y + 1, yerr=yerr, uplims=True, lolims=True,\n",
    "             label='uplims=True, lolims=True')\n",
    "\n",
    "upperlimits = [True, False] * 5\n",
    "lowerlimits = [False, True] * 5\n",
    "plt.errorbar(x, y, yerr=yerr, uplims=upperlimits, lolims=lowerlimits,\n",
    "             label='subsets of uplims and lolims')\n",
    "\n",
    "plt.legend(loc='lower right')"
   ]
  },
  {
   "attachments": {},
   "cell_type": "markdown",
   "metadata": {},
   "source": [
    "13. Crear un mapa básico centrado en el IES Polígono Sur con la librería folium."
   ]
  },
  {
   "cell_type": "code",
   "execution_count": 23,
   "metadata": {},
   "outputs": [],
   "source": [
    "import folium\n",
    "\n",
    "\n",
    "m = folium.Map(location=[37.36070984797239, -5.964213716588408],zoom_start=30)\n",
    "\n"
   ]
  },
  {
   "cell_type": "code",
   "execution_count": 24,
   "metadata": {},
   "outputs": [
    {
     "data": {
      "text/html": [
       "<div style=\"width:100%;\"><div style=\"position:relative;width:100%;height:0;padding-bottom:60%;\"><span style=\"color:#565656\">Make this Notebook Trusted to load map: File -> Trust Notebook</span><iframe srcdoc=\"&lt;!DOCTYPE html&gt;\n",
       "&lt;html&gt;\n",
       "&lt;head&gt;\n",
       "    \n",
       "    &lt;meta http-equiv=&quot;content-type&quot; content=&quot;text/html; charset=UTF-8&quot; /&gt;\n",
       "    \n",
       "        &lt;script&gt;\n",
       "            L_NO_TOUCH = false;\n",
       "            L_DISABLE_3D = false;\n",
       "        &lt;/script&gt;\n",
       "    \n",
       "    &lt;style&gt;html, body {width: 100%;height: 100%;margin: 0;padding: 0;}&lt;/style&gt;\n",
       "    &lt;style&gt;#map {position:absolute;top:0;bottom:0;right:0;left:0;}&lt;/style&gt;\n",
       "    &lt;script src=&quot;https://cdn.jsdelivr.net/npm/leaflet@1.9.3/dist/leaflet.js&quot;&gt;&lt;/script&gt;\n",
       "    &lt;script src=&quot;https://code.jquery.com/jquery-1.12.4.min.js&quot;&gt;&lt;/script&gt;\n",
       "    &lt;script src=&quot;https://cdn.jsdelivr.net/npm/bootstrap@5.2.2/dist/js/bootstrap.bundle.min.js&quot;&gt;&lt;/script&gt;\n",
       "    &lt;script src=&quot;https://cdnjs.cloudflare.com/ajax/libs/Leaflet.awesome-markers/2.0.2/leaflet.awesome-markers.js&quot;&gt;&lt;/script&gt;\n",
       "    &lt;link rel=&quot;stylesheet&quot; href=&quot;https://cdn.jsdelivr.net/npm/leaflet@1.9.3/dist/leaflet.css&quot;/&gt;\n",
       "    &lt;link rel=&quot;stylesheet&quot; href=&quot;https://cdn.jsdelivr.net/npm/bootstrap@5.2.2/dist/css/bootstrap.min.css&quot;/&gt;\n",
       "    &lt;link rel=&quot;stylesheet&quot; href=&quot;https://netdna.bootstrapcdn.com/bootstrap/3.0.0/css/bootstrap.min.css&quot;/&gt;\n",
       "    &lt;link rel=&quot;stylesheet&quot; href=&quot;https://cdn.jsdelivr.net/npm/@fortawesome/fontawesome-free@6.2.0/css/all.min.css&quot;/&gt;\n",
       "    &lt;link rel=&quot;stylesheet&quot; href=&quot;https://cdnjs.cloudflare.com/ajax/libs/Leaflet.awesome-markers/2.0.2/leaflet.awesome-markers.css&quot;/&gt;\n",
       "    &lt;link rel=&quot;stylesheet&quot; href=&quot;https://cdn.jsdelivr.net/gh/python-visualization/folium/folium/templates/leaflet.awesome.rotate.min.css&quot;/&gt;\n",
       "    \n",
       "            &lt;meta name=&quot;viewport&quot; content=&quot;width=device-width,\n",
       "                initial-scale=1.0, maximum-scale=1.0, user-scalable=no&quot; /&gt;\n",
       "            &lt;style&gt;\n",
       "                #map_06114df22416432f7072f798bd5315ac {\n",
       "                    position: relative;\n",
       "                    width: 100.0%;\n",
       "                    height: 100.0%;\n",
       "                    left: 0.0%;\n",
       "                    top: 0.0%;\n",
       "                }\n",
       "                .leaflet-container { font-size: 1rem; }\n",
       "            &lt;/style&gt;\n",
       "        \n",
       "&lt;/head&gt;\n",
       "&lt;body&gt;\n",
       "    \n",
       "    \n",
       "            &lt;div class=&quot;folium-map&quot; id=&quot;map_06114df22416432f7072f798bd5315ac&quot; &gt;&lt;/div&gt;\n",
       "        \n",
       "&lt;/body&gt;\n",
       "&lt;script&gt;\n",
       "    \n",
       "    \n",
       "            var map_06114df22416432f7072f798bd5315ac = L.map(\n",
       "                &quot;map_06114df22416432f7072f798bd5315ac&quot;,\n",
       "                {\n",
       "                    center: [37.36070984797239, -5.964213716588408],\n",
       "                    crs: L.CRS.EPSG3857,\n",
       "                    zoom: 30,\n",
       "                    zoomControl: true,\n",
       "                    preferCanvas: false,\n",
       "                }\n",
       "            );\n",
       "\n",
       "            \n",
       "\n",
       "        \n",
       "    \n",
       "            var tile_layer_4a32d57c0e3e5e43340085e039f9a358 = L.tileLayer(\n",
       "                &quot;https://{s}.tile.openstreetmap.org/{z}/{x}/{y}.png&quot;,\n",
       "                {&quot;attribution&quot;: &quot;Data by \\u0026copy; \\u003ca target=\\&quot;_blank\\&quot; href=\\&quot;http://openstreetmap.org\\&quot;\\u003eOpenStreetMap\\u003c/a\\u003e, under \\u003ca target=\\&quot;_blank\\&quot; href=\\&quot;http://www.openstreetmap.org/copyright\\&quot;\\u003eODbL\\u003c/a\\u003e.&quot;, &quot;detectRetina&quot;: false, &quot;maxNativeZoom&quot;: 18, &quot;maxZoom&quot;: 18, &quot;minZoom&quot;: 0, &quot;noWrap&quot;: false, &quot;opacity&quot;: 1, &quot;subdomains&quot;: &quot;abc&quot;, &quot;tms&quot;: false}\n",
       "            ).addTo(map_06114df22416432f7072f798bd5315ac);\n",
       "        \n",
       "&lt;/script&gt;\n",
       "&lt;/html&gt;\" style=\"position:absolute;width:100%;height:100%;left:0;top:0;border:none !important;\" allowfullscreen webkitallowfullscreen mozallowfullscreen></iframe></div></div>"
      ],
      "text/plain": [
       "<folium.folium.Map at 0x7f023ba8ba60>"
      ]
     },
     "execution_count": 24,
     "metadata": {},
     "output_type": "execute_result"
    }
   ],
   "source": [
    "m\n"
   ]
  },
  {
   "attachments": {},
   "cell_type": "markdown",
   "metadata": {},
   "source": [
    "14. Agregar marcadores al mapa con las ubicaciones del Colegio Público Manuel Altolaguirre, IES Antonio Dominguez Ortiz y Factoría Cultural - ICAS."
   ]
  },
  {
   "cell_type": "code",
   "execution_count": 25,
   "metadata": {},
   "outputs": [
    {
     "data": {
      "text/html": [
       "<div style=\"width:100%;\"><div style=\"position:relative;width:100%;height:0;padding-bottom:60%;\"><span style=\"color:#565656\">Make this Notebook Trusted to load map: File -> Trust Notebook</span><iframe srcdoc=\"&lt;!DOCTYPE html&gt;\n",
       "&lt;html&gt;\n",
       "&lt;head&gt;\n",
       "    \n",
       "    &lt;meta http-equiv=&quot;content-type&quot; content=&quot;text/html; charset=UTF-8&quot; /&gt;\n",
       "    \n",
       "        &lt;script&gt;\n",
       "            L_NO_TOUCH = false;\n",
       "            L_DISABLE_3D = false;\n",
       "        &lt;/script&gt;\n",
       "    \n",
       "    &lt;style&gt;html, body {width: 100%;height: 100%;margin: 0;padding: 0;}&lt;/style&gt;\n",
       "    &lt;style&gt;#map {position:absolute;top:0;bottom:0;right:0;left:0;}&lt;/style&gt;\n",
       "    &lt;script src=&quot;https://cdn.jsdelivr.net/npm/leaflet@1.9.3/dist/leaflet.js&quot;&gt;&lt;/script&gt;\n",
       "    &lt;script src=&quot;https://code.jquery.com/jquery-1.12.4.min.js&quot;&gt;&lt;/script&gt;\n",
       "    &lt;script src=&quot;https://cdn.jsdelivr.net/npm/bootstrap@5.2.2/dist/js/bootstrap.bundle.min.js&quot;&gt;&lt;/script&gt;\n",
       "    &lt;script src=&quot;https://cdnjs.cloudflare.com/ajax/libs/Leaflet.awesome-markers/2.0.2/leaflet.awesome-markers.js&quot;&gt;&lt;/script&gt;\n",
       "    &lt;link rel=&quot;stylesheet&quot; href=&quot;https://cdn.jsdelivr.net/npm/leaflet@1.9.3/dist/leaflet.css&quot;/&gt;\n",
       "    &lt;link rel=&quot;stylesheet&quot; href=&quot;https://cdn.jsdelivr.net/npm/bootstrap@5.2.2/dist/css/bootstrap.min.css&quot;/&gt;\n",
       "    &lt;link rel=&quot;stylesheet&quot; href=&quot;https://netdna.bootstrapcdn.com/bootstrap/3.0.0/css/bootstrap.min.css&quot;/&gt;\n",
       "    &lt;link rel=&quot;stylesheet&quot; href=&quot;https://cdn.jsdelivr.net/npm/@fortawesome/fontawesome-free@6.2.0/css/all.min.css&quot;/&gt;\n",
       "    &lt;link rel=&quot;stylesheet&quot; href=&quot;https://cdnjs.cloudflare.com/ajax/libs/Leaflet.awesome-markers/2.0.2/leaflet.awesome-markers.css&quot;/&gt;\n",
       "    &lt;link rel=&quot;stylesheet&quot; href=&quot;https://cdn.jsdelivr.net/gh/python-visualization/folium/folium/templates/leaflet.awesome.rotate.min.css&quot;/&gt;\n",
       "    \n",
       "            &lt;meta name=&quot;viewport&quot; content=&quot;width=device-width,\n",
       "                initial-scale=1.0, maximum-scale=1.0, user-scalable=no&quot; /&gt;\n",
       "            &lt;style&gt;\n",
       "                #map_ca12e250bc4412a566e856d77acefb3a {\n",
       "                    position: relative;\n",
       "                    width: 100.0%;\n",
       "                    height: 100.0%;\n",
       "                    left: 0.0%;\n",
       "                    top: 0.0%;\n",
       "                }\n",
       "                .leaflet-container { font-size: 1rem; }\n",
       "            &lt;/style&gt;\n",
       "        \n",
       "&lt;/head&gt;\n",
       "&lt;body&gt;\n",
       "    \n",
       "    \n",
       "            &lt;div class=&quot;folium-map&quot; id=&quot;map_ca12e250bc4412a566e856d77acefb3a&quot; &gt;&lt;/div&gt;\n",
       "        \n",
       "&lt;/body&gt;\n",
       "&lt;script&gt;\n",
       "    \n",
       "    \n",
       "            var map_ca12e250bc4412a566e856d77acefb3a = L.map(\n",
       "                &quot;map_ca12e250bc4412a566e856d77acefb3a&quot;,\n",
       "                {\n",
       "                    center: [37.38259939206849, -5.963486778922565],\n",
       "                    crs: L.CRS.EPSG3857,\n",
       "                    zoom: 12,\n",
       "                    zoomControl: true,\n",
       "                    preferCanvas: false,\n",
       "                }\n",
       "            );\n",
       "\n",
       "            \n",
       "\n",
       "        \n",
       "    \n",
       "            var tile_layer_4876e5c72f50eb309ec12af84878edf8 = L.tileLayer(\n",
       "                &quot;https://stamen-tiles-{s}.a.ssl.fastly.net/terrain/{z}/{x}/{y}.jpg&quot;,\n",
       "                {&quot;attribution&quot;: &quot;Map tiles by \\u003ca target=\\&quot;_blank\\&quot; href=\\&quot;http://stamen.com\\&quot;\\u003eStamen Design\\u003c/a\\u003e, under \\u003ca target=\\&quot;_blank\\&quot; href=\\&quot;http://creativecommons.org/licenses/by/3.0\\&quot;\\u003eCC BY 3.0\\u003c/a\\u003e. Data by \\u0026copy; \\u003ca target=\\&quot;_blank\\&quot; href=\\&quot;http://openstreetmap.org\\&quot;\\u003eOpenStreetMap\\u003c/a\\u003e, under \\u003ca target=\\&quot;_blank\\&quot; href=\\&quot;http://creativecommons.org/licenses/by-sa/3.0\\&quot;\\u003eCC BY SA\\u003c/a\\u003e.&quot;, &quot;detectRetina&quot;: false, &quot;maxNativeZoom&quot;: 18, &quot;maxZoom&quot;: 18, &quot;minZoom&quot;: 0, &quot;noWrap&quot;: false, &quot;opacity&quot;: 1, &quot;subdomains&quot;: &quot;abc&quot;, &quot;tms&quot;: false}\n",
       "            ).addTo(map_ca12e250bc4412a566e856d77acefb3a);\n",
       "        \n",
       "    \n",
       "            var marker_3b6fbc7058ae045539b1a52c13af9331 = L.marker(\n",
       "                [37.35979630008516, -5.963812080682746],\n",
       "                {}\n",
       "            ).addTo(map_ca12e250bc4412a566e856d77acefb3a);\n",
       "        \n",
       "    \n",
       "        var popup_9413b6367097598b28fc14b0872c123d = L.popup({&quot;maxWidth&quot;: &quot;100%&quot;});\n",
       "\n",
       "        \n",
       "            \n",
       "                var html_512b34761001a4e2a67d267d84c99fb3 = $(`&lt;div id=&quot;html_512b34761001a4e2a67d267d84c99fb3&quot; style=&quot;width: 100.0%; height: 100.0%;&quot;&gt;&lt;i&gt;Mt. Hood Meadows&lt;/i&gt;&lt;/div&gt;`)[0];\n",
       "                popup_9413b6367097598b28fc14b0872c123d.setContent(html_512b34761001a4e2a67d267d84c99fb3);\n",
       "            \n",
       "        \n",
       "\n",
       "        marker_3b6fbc7058ae045539b1a52c13af9331.bindPopup(popup_9413b6367097598b28fc14b0872c123d)\n",
       "        ;\n",
       "\n",
       "        \n",
       "    \n",
       "    \n",
       "            marker_3b6fbc7058ae045539b1a52c13af9331.bindTooltip(\n",
       "                `&lt;div&gt;\n",
       "                     Click me!\n",
       "                 &lt;/div&gt;`,\n",
       "                {&quot;sticky&quot;: true}\n",
       "            );\n",
       "        \n",
       "    \n",
       "            var marker_aaff4a13c411d88512414325e8373439 = L.marker(\n",
       "                [37.362390624390216, -5.965390736995618],\n",
       "                {}\n",
       "            ).addTo(map_ca12e250bc4412a566e856d77acefb3a);\n",
       "        \n",
       "    \n",
       "        var popup_c1dc53f95f588957cac9746f18252506 = L.popup({&quot;maxWidth&quot;: &quot;100%&quot;});\n",
       "\n",
       "        \n",
       "            \n",
       "                var html_37fcc69b9b3e39766d4669bb37a7886e = $(`&lt;div id=&quot;html_37fcc69b9b3e39766d4669bb37a7886e&quot; style=&quot;width: 100.0%; height: 100.0%;&quot;&gt;&lt;b&gt;Timberline Lodge&lt;/b&gt;&lt;/div&gt;`)[0];\n",
       "                popup_c1dc53f95f588957cac9746f18252506.setContent(html_37fcc69b9b3e39766d4669bb37a7886e);\n",
       "            \n",
       "        \n",
       "\n",
       "        marker_aaff4a13c411d88512414325e8373439.bindPopup(popup_c1dc53f95f588957cac9746f18252506)\n",
       "        ;\n",
       "\n",
       "        \n",
       "    \n",
       "    \n",
       "            marker_aaff4a13c411d88512414325e8373439.bindTooltip(\n",
       "                `&lt;div&gt;\n",
       "                     Click me!\n",
       "                 &lt;/div&gt;`,\n",
       "                {&quot;sticky&quot;: true}\n",
       "            );\n",
       "        \n",
       "    \n",
       "            var marker_e337ed08db4b81ab32acba5e8e11bab1 = L.marker(\n",
       "                [37.358702353588164, -5.964686083143709],\n",
       "                {}\n",
       "            ).addTo(map_ca12e250bc4412a566e856d77acefb3a);\n",
       "        \n",
       "    \n",
       "        var popup_7caceaef1de61d08ac5729ffe1c3b52f = L.popup({&quot;maxWidth&quot;: &quot;100%&quot;});\n",
       "\n",
       "        \n",
       "            \n",
       "                var html_8a7960f35d25b5778e5a51b9c677b9a9 = $(`&lt;div id=&quot;html_8a7960f35d25b5778e5a51b9c677b9a9&quot; style=&quot;width: 100.0%; height: 100.0%;&quot;&gt;&lt;b&gt;Timberline Lodge&lt;/b&gt;&lt;/div&gt;`)[0];\n",
       "                popup_7caceaef1de61d08ac5729ffe1c3b52f.setContent(html_8a7960f35d25b5778e5a51b9c677b9a9);\n",
       "            \n",
       "        \n",
       "\n",
       "        marker_e337ed08db4b81ab32acba5e8e11bab1.bindPopup(popup_7caceaef1de61d08ac5729ffe1c3b52f)\n",
       "        ;\n",
       "\n",
       "        \n",
       "    \n",
       "    \n",
       "            marker_e337ed08db4b81ab32acba5e8e11bab1.bindTooltip(\n",
       "                `&lt;div&gt;\n",
       "                     Click me!\n",
       "                 &lt;/div&gt;`,\n",
       "                {&quot;sticky&quot;: true}\n",
       "            );\n",
       "        \n",
       "&lt;/script&gt;\n",
       "&lt;/html&gt;\" style=\"position:absolute;width:100%;height:100%;left:0;top:0;border:none !important;\" allowfullscreen webkitallowfullscreen mozallowfullscreen></iframe></div></div>"
      ],
      "text/plain": [
       "<folium.folium.Map at 0x7f023b4e09a0>"
      ]
     },
     "execution_count": 25,
     "metadata": {},
     "output_type": "execute_result"
    }
   ],
   "source": [
    "m = folium.Map(location=[37.38259939206849, -5.963486778922565], zoom_start=12, tiles=\"Stamen Terrain\")\n",
    "\n",
    "tooltip = \"Click me!\"\n",
    "\n",
    "folium.Marker(\n",
    "    [37.35979630008516, -5.963812080682746], popup=\"<i>Mt. Hood Meadows</i>\", tooltip=tooltip\n",
    ").add_to(m)\n",
    "\n",
    "folium.Marker(\n",
    "    [37.362390624390216, -5.965390736995618], popup=\"<b>Timberline Lodge</b>\", tooltip=tooltip\n",
    ").add_to(m)\n",
    "\n",
    "folium.Marker(\n",
    "    [37.358702353588164, -5.964686083143709], popup=\"<b>Timberline Lodge</b>\", tooltip=tooltip\n",
    ").add_to(m)\n",
    "\n",
    "m"
   ]
  },
  {
   "cell_type": "code",
   "execution_count": 26,
   "metadata": {},
   "outputs": [
    {
     "data": {
      "text/html": [
       "<div style=\"width:100%;\"><div style=\"position:relative;width:100%;height:0;padding-bottom:60%;\"><span style=\"color:#565656\">Make this Notebook Trusted to load map: File -> Trust Notebook</span><iframe srcdoc=\"&lt;!DOCTYPE html&gt;\n",
       "&lt;html&gt;\n",
       "&lt;head&gt;\n",
       "    \n",
       "    &lt;meta http-equiv=&quot;content-type&quot; content=&quot;text/html; charset=UTF-8&quot; /&gt;\n",
       "    \n",
       "        &lt;script&gt;\n",
       "            L_NO_TOUCH = false;\n",
       "            L_DISABLE_3D = false;\n",
       "        &lt;/script&gt;\n",
       "    \n",
       "    &lt;style&gt;html, body {width: 100%;height: 100%;margin: 0;padding: 0;}&lt;/style&gt;\n",
       "    &lt;style&gt;#map {position:absolute;top:0;bottom:0;right:0;left:0;}&lt;/style&gt;\n",
       "    &lt;script src=&quot;https://cdn.jsdelivr.net/npm/leaflet@1.9.3/dist/leaflet.js&quot;&gt;&lt;/script&gt;\n",
       "    &lt;script src=&quot;https://code.jquery.com/jquery-1.12.4.min.js&quot;&gt;&lt;/script&gt;\n",
       "    &lt;script src=&quot;https://cdn.jsdelivr.net/npm/bootstrap@5.2.2/dist/js/bootstrap.bundle.min.js&quot;&gt;&lt;/script&gt;\n",
       "    &lt;script src=&quot;https://cdnjs.cloudflare.com/ajax/libs/Leaflet.awesome-markers/2.0.2/leaflet.awesome-markers.js&quot;&gt;&lt;/script&gt;\n",
       "    &lt;link rel=&quot;stylesheet&quot; href=&quot;https://cdn.jsdelivr.net/npm/leaflet@1.9.3/dist/leaflet.css&quot;/&gt;\n",
       "    &lt;link rel=&quot;stylesheet&quot; href=&quot;https://cdn.jsdelivr.net/npm/bootstrap@5.2.2/dist/css/bootstrap.min.css&quot;/&gt;\n",
       "    &lt;link rel=&quot;stylesheet&quot; href=&quot;https://netdna.bootstrapcdn.com/bootstrap/3.0.0/css/bootstrap.min.css&quot;/&gt;\n",
       "    &lt;link rel=&quot;stylesheet&quot; href=&quot;https://cdn.jsdelivr.net/npm/@fortawesome/fontawesome-free@6.2.0/css/all.min.css&quot;/&gt;\n",
       "    &lt;link rel=&quot;stylesheet&quot; href=&quot;https://cdnjs.cloudflare.com/ajax/libs/Leaflet.awesome-markers/2.0.2/leaflet.awesome-markers.css&quot;/&gt;\n",
       "    &lt;link rel=&quot;stylesheet&quot; href=&quot;https://cdn.jsdelivr.net/gh/python-visualization/folium/folium/templates/leaflet.awesome.rotate.min.css&quot;/&gt;\n",
       "    \n",
       "            &lt;meta name=&quot;viewport&quot; content=&quot;width=device-width,\n",
       "                initial-scale=1.0, maximum-scale=1.0, user-scalable=no&quot; /&gt;\n",
       "            &lt;style&gt;\n",
       "                #map_a80235aabe5b6dfe96c417b3751802d5 {\n",
       "                    position: relative;\n",
       "                    width: 100.0%;\n",
       "                    height: 100.0%;\n",
       "                    left: 0.0%;\n",
       "                    top: 0.0%;\n",
       "                }\n",
       "                .leaflet-container { font-size: 1rem; }\n",
       "            &lt;/style&gt;\n",
       "        \n",
       "&lt;/head&gt;\n",
       "&lt;body&gt;\n",
       "    \n",
       "    \n",
       "            &lt;div class=&quot;folium-map&quot; id=&quot;map_a80235aabe5b6dfe96c417b3751802d5&quot; &gt;&lt;/div&gt;\n",
       "        \n",
       "&lt;/body&gt;\n",
       "&lt;script&gt;\n",
       "    \n",
       "    \n",
       "            var map_a80235aabe5b6dfe96c417b3751802d5 = L.map(\n",
       "                &quot;map_a80235aabe5b6dfe96c417b3751802d5&quot;,\n",
       "                {\n",
       "                    center: [19.4326, -99.1332],\n",
       "                    crs: L.CRS.EPSG3857,\n",
       "                    zoom: 5,\n",
       "                    zoomControl: true,\n",
       "                    preferCanvas: false,\n",
       "                }\n",
       "            );\n",
       "\n",
       "            \n",
       "\n",
       "        \n",
       "    \n",
       "            var tile_layer_39031dc63a075818f62efad8f2971e73 = L.tileLayer(\n",
       "                &quot;https://{s}.tile.openstreetmap.org/{z}/{x}/{y}.png&quot;,\n",
       "                {&quot;attribution&quot;: &quot;Data by \\u0026copy; \\u003ca target=\\&quot;_blank\\&quot; href=\\&quot;http://openstreetmap.org\\&quot;\\u003eOpenStreetMap\\u003c/a\\u003e, under \\u003ca target=\\&quot;_blank\\&quot; href=\\&quot;http://www.openstreetmap.org/copyright\\&quot;\\u003eODbL\\u003c/a\\u003e.&quot;, &quot;detectRetina&quot;: false, &quot;maxNativeZoom&quot;: 18, &quot;maxZoom&quot;: 18, &quot;minZoom&quot;: 0, &quot;noWrap&quot;: false, &quot;opacity&quot;: 1, &quot;subdomains&quot;: &quot;abc&quot;, &quot;tms&quot;: false}\n",
       "            ).addTo(map_a80235aabe5b6dfe96c417b3751802d5);\n",
       "        \n",
       "    \n",
       "            var marker_355d3037e2f719cac6cc5ec03bb5f0a8 = L.marker(\n",
       "                [19.4326, -99.1332],\n",
       "                {}\n",
       "            ).addTo(map_a80235aabe5b6dfe96c417b3751802d5);\n",
       "        \n",
       "    \n",
       "            marker_355d3037e2f719cac6cc5ec03bb5f0a8.bindTooltip(\n",
       "                `&lt;div&gt;\n",
       "                     Ubicación\n",
       "                 &lt;/div&gt;`,\n",
       "                {&quot;sticky&quot;: true}\n",
       "            );\n",
       "        \n",
       "    \n",
       "            var marker_d7fd7aea8a3082024f1a6cde10d65837 = L.marker(\n",
       "                [20.6736, -103.344],\n",
       "                {}\n",
       "            ).addTo(map_a80235aabe5b6dfe96c417b3751802d5);\n",
       "        \n",
       "    \n",
       "            marker_d7fd7aea8a3082024f1a6cde10d65837.bindTooltip(\n",
       "                `&lt;div&gt;\n",
       "                     Ubicación\n",
       "                 &lt;/div&gt;`,\n",
       "                {&quot;sticky&quot;: true}\n",
       "            );\n",
       "        \n",
       "    \n",
       "            var marker_915fa6254109bbc3ba19962ff2f1c41a = L.marker(\n",
       "                [25.6866, -100.3161],\n",
       "                {}\n",
       "            ).addTo(map_a80235aabe5b6dfe96c417b3751802d5);\n",
       "        \n",
       "    \n",
       "            marker_915fa6254109bbc3ba19962ff2f1c41a.bindTooltip(\n",
       "                `&lt;div&gt;\n",
       "                     Ubicación\n",
       "                 &lt;/div&gt;`,\n",
       "                {&quot;sticky&quot;: true}\n",
       "            );\n",
       "        \n",
       "&lt;/script&gt;\n",
       "&lt;/html&gt;\" style=\"position:absolute;width:100%;height:100%;left:0;top:0;border:none !important;\" allowfullscreen webkitallowfullscreen mozallowfullscreen></iframe></div></div>"
      ],
      "text/plain": [
       "<folium.folium.Map at 0x7f023b4e3580>"
      ]
     },
     "execution_count": 26,
     "metadata": {},
     "output_type": "execute_result"
    }
   ],
   "source": [
    "#definimos la locacion\n",
    "#creamos el objeto y le indicamos la posicion de inicio (latitud, longitud)\n",
    "m = folium.Map(location=[19.4326, -99.1332],zoom_start=5)\n",
    "tooltip = \"Ubicación\"\n",
    "\n",
    "\n",
    "#se carga un archivo CSV llamado 'ubicaciones.csv' utilizando la biblioteca \n",
    "#pandas. Los datos del archivo CSV se almacenan en un DataFrame llamado df.\n",
    "df = pd.read_csv('ubicaciones.csv')\n",
    "\n",
    "\n",
    "\n",
    "\"\"\"\n",
    "Dentro del segundo bucle for, se verifica si el índice i es igual al índice \n",
    "j. Si son iguales, significa que se está procesando la misma ubicación en \n",
    "las columnas \"Latitud\" y \"Longitud\". En este caso, se crea un marcador en\n",
    "el mapa utilizando la función folium.Marker(). Las coordenadas del marcador\n",
    "se toman de las columnas \"Latitud\" y \"Longitud\" correspondientes al índice\n",
    "actual (df[\"Latitud\"][i] y df[\"Longitud\"][j]). También se agrega el texto \n",
    "emergente utilizando el parámetro tooltip. Finalmente, el marcador se agrega\n",
    " al mapa m utilizando el método add_to().\n",
    "\n",
    "Después de que se completan ambos bucles for, el mapa m se muestra y se \n",
    "genera como resultado.\n",
    "\n",
    "\n",
    "\"\"\"\n",
    "for i in range(len(df[\"Latitud\"])):\n",
    "    for j in range(len(df[\"Longitud\"])):\n",
    "        if i == j:\n",
    "            folium.Marker([df[\"Latitud\"][i], df[\"Longitud\"][j]], \n",
    "                          tooltip=tooltip).add_to(m)\n",
    "m"
   ]
  }
 ],
 "metadata": {
  "kernelspec": {
   "display_name": "Python 3 (ipykernel)",
   "language": "python",
   "name": "python3"
  },
  "language_info": {
   "codemirror_mode": {
    "name": "ipython",
    "version": 3
   },
   "file_extension": ".py",
   "mimetype": "text/x-python",
   "name": "python",
   "nbconvert_exporter": "python",
   "pygments_lexer": "ipython3",
   "version": "3.10.6"
  }
 },
 "nbformat": 4,
 "nbformat_minor": 2
}
