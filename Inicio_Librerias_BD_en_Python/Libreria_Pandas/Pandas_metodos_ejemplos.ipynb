{
 "cells": [
  {
   "attachments": {},
   "cell_type": "markdown",
   "metadata": {},
   "source": [
    "Aquí tienes un resumen de los métodos más utilizados en la librería de pandas:\n",
    "\n",
    "    read_csv(): Lee un archivo CSV y lo convierte en un objeto DataFrame.\n",
    "\n",
    "    head(): Muestra las primeras filas de un DataFrame (por defecto, las primeras cinco filas).\n",
    "\n",
    "    tail(): Muestra las últimas filas de un DataFrame (por defecto, las últimas cinco filas).\n",
    "\n",
    "    info(): Proporciona información sobre un DataFrame, incluyendo su tamaño, número de columnas, tipo de datos y uso de memoria.\n",
    "\n",
    "    describe(): Proporciona estadísticas descriptivas de un DataFrame, incluyendo la media, la mediana, el máximo, el mínimo y los cuartiles.\n",
    "\n",
    "    drop(): Elimina una o varias filas o columnas de un DataFrame.\n",
    "    fillna(): Rellena los valores perdidos (NaN) con un valor específico o con un método de interpolación.\n",
    "\n",
    "    groupby(): Agrupa un DataFrame por una o varias columnas y aplica una función de agregación a cada grupo.\n",
    "\n",
    "    sort_values(): Ordena un DataFrame por los valores de una o varias columnas.\n",
    "\n",
    "    merge(): Combina dos o más DataFrames en función de una o varias columnas en común.\n",
    "\n",
    "    pivot_table(): Crea una tabla dinámica que resume los datos de un DataFrame en función de una o varias columnas.\n",
    "\n",
    "    apply(): Aplica una función a cada fila o columna de un DataFrame.\n",
    "\n",
    "    set_index(): Establece una columna como el índice del DataFrame.\n",
    "\n",
    "    reset_index(): Restablece el índice de un DataFrame a un rango de valores continuos.\n",
    "    \n",
    "    to_csv(): Escribe un objeto DataFrame en un archivo CSV."
   ]
  },
  {
   "attachments": {},
   "cell_type": "markdown",
   "metadata": {},
   "source": [
    "Ejercicio 1: Cargar un archivo CSV y mostrar las primeras 5 filas utilizando un objeto DataFrame"
   ]
  },
  {
   "cell_type": "code",
   "execution_count": 35,
   "metadata": {},
   "outputs": [
    {
     "data": {
      "text/html": [
       "<div>\n",
       "<style scoped>\n",
       "    .dataframe tbody tr th:only-of-type {\n",
       "        vertical-align: middle;\n",
       "    }\n",
       "\n",
       "    .dataframe tbody tr th {\n",
       "        vertical-align: top;\n",
       "    }\n",
       "\n",
       "    .dataframe thead th {\n",
       "        text-align: right;\n",
       "    }\n",
       "</style>\n",
       "<table border=\"1\" class=\"dataframe\">\n",
       "  <thead>\n",
       "    <tr style=\"text-align: right;\">\n",
       "      <th></th>\n",
       "      <th>id</th>\n",
       "      <th>nombre</th>\n",
       "      <th>edad</th>\n",
       "      <th>genero</th>\n",
       "      <th>ciudad</th>\n",
       "    </tr>\n",
       "  </thead>\n",
       "  <tbody>\n",
       "    <tr>\n",
       "      <th>0</th>\n",
       "      <td>1</td>\n",
       "      <td>Ana</td>\n",
       "      <td>25</td>\n",
       "      <td>Femenino</td>\n",
       "      <td>Madrid</td>\n",
       "    </tr>\n",
       "    <tr>\n",
       "      <th>1</th>\n",
       "      <td>2</td>\n",
       "      <td>Luis</td>\n",
       "      <td>30</td>\n",
       "      <td>Masculino</td>\n",
       "      <td>Barcelona</td>\n",
       "    </tr>\n",
       "    <tr>\n",
       "      <th>2</th>\n",
       "      <td>3</td>\n",
       "      <td>Maria</td>\n",
       "      <td>22</td>\n",
       "      <td>Femenino</td>\n",
       "      <td>Valencia</td>\n",
       "    </tr>\n",
       "    <tr>\n",
       "      <th>3</th>\n",
       "      <td>4</td>\n",
       "      <td>Jose</td>\n",
       "      <td>28</td>\n",
       "      <td>Masculino</td>\n",
       "      <td>Sevilla</td>\n",
       "    </tr>\n",
       "    <tr>\n",
       "      <th>4</th>\n",
       "      <td>5</td>\n",
       "      <td>Lucia</td>\n",
       "      <td>26</td>\n",
       "      <td>Femenino</td>\n",
       "      <td>Bilbao</td>\n",
       "    </tr>\n",
       "  </tbody>\n",
       "</table>\n",
       "</div>"
      ],
      "text/plain": [
       "   id  nombre   edad      genero      ciudad\n",
       "0   1     Ana     25    Femenino      Madrid\n",
       "1   2    Luis     30   Masculino   Barcelona\n",
       "2   3   Maria     22    Femenino    Valencia\n",
       "3   4    Jose     28   Masculino     Sevilla\n",
       "4   5   Lucia     26    Femenino      Bilbao"
      ]
     },
     "execution_count": 35,
     "metadata": {},
     "output_type": "execute_result"
    }
   ],
   "source": [
    "import pandas as pd\n",
    "\n",
    "class Mostrar_dataframe:\n",
    "    def __init__(self, archivo_ruta):\n",
    "        self.archivo = archivo_ruta\n",
    "\n",
    "    def mostrar_dataframe(self):\n",
    "        df = pd.read_csv(self.archivo)\n",
    "        return df\n",
    "\n",
    "    def mostrar_cinco_primeras_filas(self):\n",
    "        df = self.mostrar_dataframe()\n",
    "        #head: muestra las 5 primeras filas\n",
    "        return df.head()\n",
    "\n",
    "pandas_ejercicio = Mostrar_dataframe('ejer_1.csv')\n",
    "\n",
    "\n",
    "pandas_ejercicio.mostrar_dataframe()\n",
    "pandas_ejercicio.mostrar_cinco_primeras_filas()\n"
   ]
  },
  {
   "attachments": {},
   "cell_type": "markdown",
   "metadata": {},
   "source": [
    "Calcular la media y la desviación estándar de una columna en un DataFrame"
   ]
  },
  {
   "cell_type": "code",
   "execution_count": 36,
   "metadata": {},
   "outputs": [
    {
     "data": {
      "text/plain": [
       "12.240302283849038"
      ]
     },
     "execution_count": 36,
     "metadata": {},
     "output_type": "execute_result"
    }
   ],
   "source": [
    "import pandas as pd\n",
    "\n",
    "class Calcular:\n",
    "    def __init__(self, ruta_archivo, nombre_columna):\n",
    "        self.ruta_archivo = ruta_archivo\n",
    "        self.nombre_columna = nombre_columna\n",
    "\n",
    "    def mostrar_archivo(self):\n",
    "        df = pd.read_csv(self.ruta_archivo)\n",
    "        return df\n",
    "\n",
    "    def calcular_promedio(self):\n",
    "        df = self.mostrar_archivo()\n",
    "        mean = df[self.nombre_columna].mean()\n",
    "        return mean\n",
    "\n",
    "    def calcular_desviacion(self):\n",
    "        df = self.mostrar_archivo()\n",
    "        std = df[self.nombre_columna].std()\n",
    "        return std\n",
    "\n",
    "pandas_ejercicio2 = Calcular('ejer_2.csv', 'nombre')\n",
    "promedio= Calcular('ejer_2.csv', 'altura')\n",
    "desviacion= Calcular('ejer_2.csv', 'peso')\n",
    "\n",
    "pandas_ejercicio2.mostrar_archivo()\n",
    "promedio.calcular_promedio()\n",
    "desviacion.calcular_desviacion()\n",
    "\n",
    "\n"
   ]
  },
  {
   "attachments": {},
   "cell_type": "markdown",
   "metadata": {},
   "source": [
    "Agrupar un DataFrame por una columna y calcular la media de otra columna\n",
    "\n",
    "Solución:"
   ]
  },
  {
   "cell_type": "code",
   "execution_count": 52,
   "metadata": {},
   "outputs": [
    {
     "data": {
      "text/plain": [
       "Categoría\n",
       "Camisas       200.000000\n",
       "Pantalones    133.333333\n",
       "Zapatos        90.000000\n",
       "Name: Ventas_diarias, dtype: float64"
      ]
     },
     "execution_count": 52,
     "metadata": {},
     "output_type": "execute_result"
    }
   ],
   "source": [
    "import pandas as pd\n",
    "\n",
    "class Tienda:\n",
    "    def __init__(self, archivo, columna_agrupacion, columna_promedio):\n",
    "        self.ruta_archivo = archivo\n",
    "        self.columna_agrupacion = columna_agrupacion\n",
    "        self.columna_promedio = columna_promedio\n",
    "\n",
    "    def Mostrar_dataframe(self):\n",
    "        df = pd.read_csv(self.ruta_archivo)\n",
    "        return df\n",
    "\n",
    "    def Mostrar_promedio_articulos(self):\n",
    "        df = self.Mostrar_dataframe()\n",
    "        dataframe_agrupado = df.groupby(self.columna_agrupacion)[self.columna_promedio].mean()\n",
    "        return dataframe_agrupado\n",
    "\n",
    "tabla = Tienda('ejer_3.csv', 'Categoría', 'Ventas_diarias')\n",
    "#print(pandas_exercise.group_by_and_mean())\n",
    "\n",
    "tabla.Mostrar_dataframe()\n",
    "tabla.Mostrar_promedio_articulos()"
   ]
  }
 ],
 "metadata": {
  "kernelspec": {
   "display_name": "Python 3",
   "language": "python",
   "name": "python3"
  },
  "language_info": {
   "codemirror_mode": {
    "name": "ipython",
    "version": 3
   },
   "file_extension": ".py",
   "mimetype": "text/x-python",
   "name": "python",
   "nbconvert_exporter": "python",
   "pygments_lexer": "ipython3",
   "version": "3.10.6"
  },
  "orig_nbformat": 4
 },
 "nbformat": 4,
 "nbformat_minor": 2
}
