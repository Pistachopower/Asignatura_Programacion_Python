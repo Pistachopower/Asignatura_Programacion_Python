{
 "cells": [
  {
   "cell_type": "code",
   "execution_count": 18,
   "metadata": {},
   "outputs": [
    {
     "name": "stdout",
     "output_type": "stream",
     "text": [
      "3.323350970447842\n"
     ]
    }
   ],
   "source": [
    "#import math as pepe\n",
    "from math import *\n",
    "x= 3.5\n",
    "\n",
    "f= gamma(x)\n",
    "\n",
    "print(f)"
   ]
  },
  {
   "cell_type": "code",
   "execution_count": 72,
   "metadata": {},
   "outputs": [
    {
     "name": "stdout",
     "output_type": "stream",
     "text": [
      "   columna1 columna2\n",
      "0         1        a\n",
      "1         2        b\n",
      "2         3        c\n",
      "3         4        d\n"
     ]
    },
    {
     "data": {
      "text/plain": [
       "(4, 2)"
      ]
     },
     "execution_count": 72,
     "metadata": {},
     "output_type": "execute_result"
    }
   ],
   "source": [
    "#from pandas import *\n",
    "import pandas as pd\n",
    "\n",
    "#crear una matriz con sus indices\n",
    "serie= pd.Series([1,2,3,4])\n",
    "\n",
    "#cambiar el nombre de la lista\n",
    "serie.name= 'matriz'\n",
    "\n",
    "#crear dataframe\n",
    "df= pd.DataFrame({\n",
    "    'columna1': [1,2,3,4], \n",
    "    'columna2': ['a','b','c','d'] \n",
    "})\n",
    "\n",
    "print(df)\n",
    "\n",
    "#saber el tamaño del dataframe\n",
    "df.shape #output: (filas, columnas)\n",
    "\n",
    "\n"
   ]
  },
  {
   "cell_type": "code",
   "execution_count": 125,
   "metadata": {},
   "outputs": [],
   "source": [
    "df= pd.read_csv('/home/usuario/Escritorio/Programacion/Inicio_Librerias_en_Python/ubicaciones.csv')\n",
    "\n",
    "#mostrar el numero de filas que queremos con head\n",
    "#df.head()\n",
    "#\n",
    "##mostrar las columnas\n",
    "#df.columns\n",
    "#\n",
    "##tener informacion de los indices del dataframe\n",
    "#df.index\n",
    "\n",
    "#contar los datos de un campo o columnas\n",
    "#df['Nombre'].value_counts()\n",
    "\n",
    "#trasponer el datafram\n",
    "#df.T\n",
    "\n",
    "#ordenar los valores de orden ascendente y descendente\n",
    "#df.sort_values('Latitud')\n",
    "#df.sort_values('Latitud',  ascending= False)\n",
    "\n",
    "#acceder a filas y columnas\n",
    "#df.iloc[1,0]\n",
    "\n",
    "#hacer operaciones con las columnas\n",
    "#df['Latitud'] - df['Longitud']\n",
    "\n",
    "#sacar la media de una columna\n",
    "#df['Latitud'].mean()\n",
    "\n",
    "#funciones de agrupaciones\n",
    "#df.groupby #necesitas mas datos para agrupar\n",
    "\n"
   ]
  }
 ],
 "metadata": {
  "kernelspec": {
   "display_name": "Python 3",
   "language": "python",
   "name": "python3"
  },
  "language_info": {
   "codemirror_mode": {
    "name": "ipython",
    "version": 3
   },
   "file_extension": ".py",
   "mimetype": "text/x-python",
   "name": "python",
   "nbconvert_exporter": "python",
   "pygments_lexer": "ipython3",
   "version": "3.10.6"
  },
  "orig_nbformat": 4
 },
 "nbformat": 4,
 "nbformat_minor": 2
}
