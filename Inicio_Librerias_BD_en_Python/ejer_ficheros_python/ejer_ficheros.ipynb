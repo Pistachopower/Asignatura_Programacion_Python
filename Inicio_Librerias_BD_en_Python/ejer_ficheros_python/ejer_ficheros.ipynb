{
 "cells": [
  {
   "attachments": {},
   "cell_type": "markdown",
   "metadata": {},
   "source": [
    "1. Escriba un programa que cree un archivo de texto llamado \"ejercicio1.txt\" y escriba en él la cadena \"Hola Mundo\". Luego, lea el archivo y muestre su contenido en la consola."
   ]
  },
  {
   "cell_type": "code",
   "execution_count": 1,
   "metadata": {},
   "outputs": [
    {
     "name": "stdout",
     "output_type": "stream",
     "text": [
      "HOLA MUNDO\n"
     ]
    }
   ],
   "source": [
    "\n",
    "fichero= open('ejercicio.txt', 'w')\n",
    "fichero.write(\"HOLA MUNDO\")\n",
    "fichero.close()\n",
    "\n",
    "fichero= open('ejercicio.txt', 'r')\n",
    "print(fichero.read())\n",
    "fichero.close()"
   ]
  },
  {
   "attachments": {},
   "cell_type": "markdown",
   "metadata": {},
   "source": [
    "2. Escriba un programa que cree un archivo de texto llamado \"ejercicio2.txt\" y escriba en él las siguientes líneas: \"Primera línea\", \"Segunda línea\", \"Tercera línea\". Luego, lea el archivo y muestre su contenido en la consola línea por línea usando el método \"readline\"."
   ]
  },
  {
   "cell_type": "code",
   "execution_count": 37,
   "metadata": {},
   "outputs": [
    {
     "name": "stdout",
     "output_type": "stream",
     "text": [
      "primera linea\n",
      "\n",
      "segunda linea\n",
      "\n",
      "tercera linea\n"
     ]
    }
   ],
   "source": [
    "fichero2= open('ejercicio2.txt', 'w')\n",
    "fichero2.write(\"primera linea\")\n",
    "fichero2.write(\"\\nsegunda linea\")\n",
    "fichero2.write(\"\\ntercera linea\")\n",
    "\n",
    "fichero2.close\n",
    "\n",
    "fichero2= open('ejercicio2.txt', 'r')\n",
    "\n",
    "#print(fichero2.readline())\n",
    "#print(fichero2.readline())\n",
    "#print(fichero2.readline())\n",
    "lineas= fichero2.readlines()\n",
    "\n",
    "for i in lineas:\n",
    "    print(i)\n",
    "\n",
    "fichero2.close()\n"
   ]
  },
  {
   "attachments": {},
   "cell_type": "markdown",
   "metadata": {},
   "source": [
    "3. Crear un programa que abra un archivo llamado \"datos.txt\", lea las primeras 1000 bytes del archivo, mueva el puntero a la posición 2000, lea los siguientes 500 bytes y luego imprima la posición actual del puntero.\n"
   ]
  },
  {
   "cell_type": "code",
   "execution_count": 38,
   "metadata": {},
   "outputs": [
    {
     "name": "stdout",
     "output_type": "stream",
     "text": [
      " Lorem ipsum dolor sit amet, consectetur adipiscing elit. Nunc fermentum convallis blandit. Nulla id luctus enim. Vivamus condimentum tortor quis malesuada tempor. Fusce eu faucibus nibh, ut congue elit. Pellentesque cursus sem nec arcu vulputate porta. Pellentesque efficitur arcu non hendrerit tincidunt. Donec eu fermentum eros, sit amet tincidunt elit. Aenean facilisis quam elementum semper scelerisque. Pellentesque et commodo nunc, nec posuere est. Fusce at erat dolor. Ut vitae nibh justo.\n",
      "\n",
      "Curabitur eget blandit massa, ac fringilla ex. Lorem ipsum dolor sit amet, consectetur adipiscing elit. Pellentesque id arcu vel turpis luctus posuere nec posuere ligula. Nunc finibus felis in aliquam lobortis. Vestibulum mi orci, ultricies quis enim eget, placerat pellentesque velit. Sed eleifend diam quis neque pretium, id facilisis turpis finibus. Praesent sed finibus ligula, et volutpat sapien. Pellentesque et libero turpis. Nullam iaculis sem nulla, non laoreet nisi volutpat at.\n",
      "\n",
      "Pellentesqu\n",
      "Posicion actual del puntero:  2500\n"
     ]
    }
   ],
   "source": [
    "fichero3= open(\"Lorem.txt\", 'r')\n",
    "contenido= fichero3.read(1000)\n",
    "print(contenido)\n",
    "\n",
    "#movemos el puntero a la posición 2000 \n",
    "fichero3.seek(2000)\n",
    "\n",
    "contenido2= fichero3.read(500)\n",
    "posicion_actual= fichero3.tell()\n",
    "print(\"Posicion actual del puntero: \", posicion_actual)\n",
    "\n",
    "\n"
   ]
  },
  {
   "attachments": {},
   "cell_type": "markdown",
   "metadata": {},
   "source": [
    "4. Crear un programa que abra un archivo llamado \"Lorem.txt\" en modo lectura y muestre la codificación de caracteres del archivo."
   ]
  },
  {
   "cell_type": "code",
   "execution_count": 39,
   "metadata": {},
   "outputs": [
    {
     "name": "stdout",
     "output_type": "stream",
     "text": [
      "UTF-8\n"
     ]
    }
   ],
   "source": [
    "fichero4= open(\"Lorem.txt\", \"r\")\n",
    "print(fichero4.encoding)\n",
    "fichero4.close()\n",
    "\n",
    "\n"
   ]
  },
  {
   "attachments": {},
   "cell_type": "markdown",
   "metadata": {},
   "source": [
    "5. Abre un archivo en modo escritura, escribe algunos datos en él, mueve el puntero a una posición anterior, lee los últimos 10 bytes a partir de esa posición y cierra el archivo. REVISAR"
   ]
  },
  {
   "cell_type": "code",
   "execution_count": 64,
   "metadata": {},
   "outputs": [
    {
     "name": "stdout",
     "output_type": "stream",
     "text": [
      "45\n",
      "35\n",
      "35\n"
     ]
    }
   ],
   "source": [
    "\n",
    "#r= lee y escribe el texto a la posicion al final \n",
    "#recuerda que si colocas w sobreescribe el texto\n",
    "with open(\"Lorem.txt\", \"r+\") as texto_modificar:\n",
    "    texto_modificar.write(\"Este es el ejercicio 5 con la estructura with\")\n",
    "    #me situo en la posicion actual\n",
    "    posicion_actual= texto_modificar.tell() #45\n",
    "    print(posicion_actual)\n",
    "\n",
    "    #me muevo 5 posicion a la izquierda \n",
    "    print(texto_modificar.seek(posicion_actual - 10)) #35\n",
    "\n",
    "    #leo los últimos 10 bytes a partir de esa posición\n",
    "    texto_modificar.seek(posicion_actual -10 )\n",
    "    #lectura_final= texto_modificar.read(10)\n",
    "    #print(lectura_final) "
   ]
  },
  {
   "attachments": {},
   "cell_type": "markdown",
   "metadata": {},
   "source": [
    "6. Abre un archivo (hola.txt), lee todas las líneas del archivo y escribe las líneas que contienen la palabra \"Hola\" en un archivo nuevo."
   ]
  },
  {
   "cell_type": "code",
   "execution_count": 87,
   "metadata": {},
   "outputs": [],
   "source": [
    "with open(\"hola.txt\", \"r\") as archivo_lectura:\n",
    "    mostrar= archivo_lectura.readlines()\n",
    "\n",
    "    #for i in mostrar:\n",
    "    #    print(i)\n",
    "\n",
    "\n",
    "\n",
    "    #crear un archivo nuevo escritura\n",
    "with open(\"hola_nuevo.txt\", \"w\") as archivo_escritura:\n",
    "    #abres el archivo original \n",
    "    with open(\"hola.txt\", \"r\") as archivo_lectura:\n",
    "        #recorremos el archivo original\n",
    "        for linea in archivo_lectura:\n",
    "            #si en linea está la palabra Hola \n",
    "            if \"Hola\" in linea:\n",
    "                #escribimos el texto linea en el archivo de escritura\n",
    "                archivo_escritura.write(linea)\n",
    "\n",
    "\n",
    "\n"
   ]
  },
  {
   "attachments": {},
   "cell_type": "markdown",
   "metadata": {},
   "source": [
    "7. Escribir un programa en Python que lea un archivo de texto y cuente el número de palabras y líneas en él. Luego, imprimir el resultado por pantalla. (utilizar el archivo Lorem.txt).\n",
    "utilizar la función split () para contar las palabras\n",
    "https://www.w3schools.com/python/ref_string_split.asp\n"
   ]
  },
  {
   "attachments": {},
   "cell_type": "markdown",
   "metadata": {},
   "source": [
    "with open('Lorem.txt','r') as file:\n",
    "    a = file.read()\n",
    "    lista = a.split(' ')\n",
    "    print(len(lista))\n",
    "    \n",
    "with open('Lorem.txt','r') as file:\n",
    "    print(len(file.readlines()))"
   ]
  },
  {
   "cell_type": "code",
   "execution_count": 102,
   "metadata": {},
   "outputs": [
    {
     "name": "stdout",
     "output_type": "stream",
     "text": [
      "Numero de palabras:  1842\n",
      "Numero de lineas:  39\n"
     ]
    }
   ],
   "source": [
    "with open(\"Lorem.txt\", \"r\") as conteo_palabras:\n",
    "    #leo el contenido completo del archivo en una cadena.\n",
    "    contenido= conteo_palabras.read()\n",
    "    #print(contenido)\n",
    "\n",
    "    #dividimos cada palabra y la guardamos en una lista\n",
    "    palabras= contenido.split()\n",
    "    #print(total_palabras)\n",
    "\n",
    "    #dividir la cadena en una lista de líneas.\n",
    "    lineas= contenido.splitlines()\n",
    "\n",
    "    numero_palabras= len(palabras)\n",
    "    numero_lineas= len(lineas)\n",
    "\n",
    "    print(\"Numero de palabras: \", numero_palabras)\n",
    "    print(\"Numero de lineas: \", numero_lineas)\n"
   ]
  },
  {
   "attachments": {},
   "cell_type": "markdown",
   "metadata": {},
   "source": [
    "8. Escribir un programa en Python que lea un archivo de texto y reemplace todas las ocurrencias de una palabra (“Hola”) por otra (“Adios”). Luego, guardar los cambios en el archivo. (utilizar el archivo hola.txt)."
   ]
  },
  {
   "cell_type": "code",
   "execution_count": 113,
   "metadata": {},
   "outputs": [],
   "source": [
    "with open(\"hola.txt\", \"r+\") as texto_modificar:\n",
    "    #leemos el texto\n",
    "    texto= texto_modificar.read()\n",
    "    #print(texto)\n",
    "\n",
    "    #replace ponemos la palabra a modificar por la nueva\n",
    "    texto_cambiado= texto.replace(\"Hola\", \"Adios\")\n",
    "    #print(texto_cambiado)\n",
    "\n",
    "    #nos situamos al inicio del fichero original\n",
    "    texto_modificar.seek(0)\n",
    "\n",
    "    #sobrescribimos el texto original con los cambios del texto cambiado\n",
    "    texto_modificar.write(texto_cambiado)\n",
    "\n",
    "    \n",
    "\n",
    "    "
   ]
  },
  {
   "attachments": {},
   "cell_type": "markdown",
   "metadata": {},
   "source": [
    "9. Escribir un programa en Python que lea un archivo de texto y cuente el número de caracteres distintos que contiene. (podéis usar cualquier archivo)."
   ]
  },
  {
   "cell_type": "code",
   "execution_count": 2,
   "metadata": {},
   "outputs": [
    {
     "name": "stdout",
     "output_type": "stream",
     "text": [
      "{'¡', 'ó', 'j', 'ñ', 'd', 'í', 'i', 'y', 'v', 'p', '¿', 'g', 'a', 's', 't', '?', 'q', ',', 'c', 'E', 'b', '!', '.', 'A', 'r', 'm', 'f', 'e', 'o', '\\n', ' ', 'u', 'n', 'á', 'h', '\"', 'H', 'l'}\n",
      "El número de caracteres distintos es: 38\n"
     ]
    }
   ],
   "source": [
    "with open(\"Texto_conteo_caracteres.txt\", \"r\") as f:\n",
    "    #creamos una tupla que son inmutable y nos van a permitir guardar\n",
    "    #los datos no repetidos\n",
    "    caracteres_distintos = set()\n",
    "\n",
    "    #recorremos las lineas del archivo\n",
    "    for linea in f:\n",
    "        #recorremos cada caracter de las lineas\n",
    "        for caracter in linea:\n",
    "            #agregamos los caracteres distintos y los iguales los ignoramos\n",
    "            caracteres_distintos.add(caracter)\n",
    "    print(caracteres_distintos)\n",
    "\n",
    "print(\"El número de caracteres distintos es:\", len(caracteres_distintos))\n",
    "\n",
    "\n"
   ]
  }
 ],
 "metadata": {
  "kernelspec": {
   "display_name": "Python 3",
   "language": "python",
   "name": "python3"
  },
  "language_info": {
   "codemirror_mode": {
    "name": "ipython",
    "version": 3
   },
   "file_extension": ".py",
   "mimetype": "text/x-python",
   "name": "python",
   "nbconvert_exporter": "python",
   "pygments_lexer": "ipython3",
   "version": "3.10.6"
  },
  "orig_nbformat": 4
 },
 "nbformat": 4,
 "nbformat_minor": 2
}
