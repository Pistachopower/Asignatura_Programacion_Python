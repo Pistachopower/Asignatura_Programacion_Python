{
 "cells": [
  {
   "cell_type": "code",
   "execution_count": 72,
   "metadata": {},
   "outputs": [
    {
     "name": "stdout",
     "output_type": "stream",
     "text": [
      "<class 'str'>\n",
      "<class 'str'>\n",
      "<class 'str'>\n",
      "<class 'str'>\n",
      "<class 'str'>\n",
      "<class 'str'>\n"
     ]
    }
   ],
   "source": [
    "fichero = open('valores.txt','r')\n",
    "\n",
    "for linea in fichero:\n",
    "    print(type(linea))\n",
    "fichero.close()"
   ]
  },
  {
   "cell_type": "code",
   "execution_count": 73,
   "metadata": {},
   "outputs": [
    {
     "name": "stdout",
     "output_type": "stream",
     "text": [
      "[1, 2, 3, 4, 5, 6]\n"
     ]
    }
   ],
   "source": [
    "fichero = open('valores.txt','r')\n",
    "lista = []\n",
    "for valor in fichero:\n",
    "    lista.append(int(valor))\n",
    "fichero.close()\n",
    "print(lista)"
   ]
  },
  {
   "cell_type": "code",
   "execution_count": null,
   "metadata": {},
   "outputs": [],
   "source": []
  },
  {
   "attachments": {},
   "cell_type": "markdown",
   "metadata": {},
   "source": [
    "1. Escriba un programa que cree un archivo de texto llamado \"ejercicio1.txt\" y escriba en él la cadena \"Hola Mundo\". Luego, lea el archivo y muestre su contenido en la consola.\n",
    "\n",
    "2. Escriba un programa que cree un archivo de texto llamado \"ejercicio2.txt\" y escriba en él las siguientes líneas: \"Primera línea\", \"Segunda línea\", \"Tercera línea\". Luego, lea el archivo y muestre su contenido en la consola línea por línea usando el método \"readline\".\n",
    "\n",
    "\n",
    "3. Crear un programa que abra un archivo llamado \"datos.txt\", lea las primeras 1000 bytes del archivo, mueva el puntero a la posición 2000, lea los siguientes 500 bytes y luego imprima la posición actual del puntero.\n"
   ]
  },
  {
   "cell_type": "code",
   "execution_count": 74,
   "metadata": {},
   "outputs": [
    {
     "name": "stdout",
     "output_type": "stream",
     "text": [
      "Hola Mundo\n"
     ]
    }
   ],
   "source": [
    "fichero = open('ejercicio1.txt','w')\n",
    "fichero.write('Hola Mundo')\n",
    "fichero.close()\n",
    "\n",
    "fichero = open('ejercicio1.txt','r')\n",
    "a = fichero.read()\n",
    "print(a)\n",
    "fichero.close()\n",
    "\n"
   ]
  },
  {
   "cell_type": "code",
   "execution_count": 75,
   "metadata": {},
   "outputs": [
    {
     "name": "stdout",
     "output_type": "stream",
     "text": [
      "Primera Linea\n",
      "\n",
      "Segunda Linea\n",
      "\n",
      "Tercera Linea\n"
     ]
    }
   ],
   "source": [
    "fichero = open('ejercicio2.txt','w')\n",
    "fichero.write('Primera Linea')\n",
    "fichero.write('\\nSegunda Linea')\n",
    "fichero.write('\\nTercera Linea')\n",
    "fichero.close()\n",
    "\n",
    "fichero = open('ejercicio2.txt','r')\n",
    "lineas = fichero.readlines()\n",
    "for linea in lineas:\n",
    "    print(linea)\n",
    "fichero.close()"
   ]
  },
  {
   "cell_type": "code",
   "execution_count": 80,
   "metadata": {},
   "outputs": [
    {
     "name": "stdout",
     "output_type": "stream",
     "text": [
      " Lorem ipsum dolor sit amet, consectetur adipiscing elit. Nunc fermentum convallis blandit. Nulla id luctus enim. Vivamus condimentum tortor quis malesuada tempor. Fusce eu faucibus nibh, ut congue elit. Pellentesque cursus sem nec arcu vulputate porta. Pellentesque efficitur arcu non hendrerit tincidunt. Donec eu fermentum eros, sit amet tincidunt elit. Aenean facilisis quam elementum semper scelerisque. Pellentesque et commodo nunc, nec posuere est. Fusce at erat dolor. Ut vitae nibh justo.\n",
      "\n",
      "Curabitur eget blandit massa, ac fringilla ex. Lorem ipsum dolor sit amet, consectetur adipiscing elit. Pellentesque id arcu vel turpis luctus posuere nec posuere ligula. Nunc finibus felis in aliquam lobortis. Vestibulum mi orci, ultricies quis enim eget, placerat pellentesque velit. Sed eleifend diam quis neque pretium, id facilisis turpis finibus. Praesent sed finibus ligula, et volutpat sapien. Pellentesque et libero turpis. Nullam iaculis sem nulla, non laoreet nisi volutpat at.\n",
      "\n",
      "Pellentesquvehicula mauris tempus euismod. Mauris eget porta odio, a ultrices tellus. Proin egestas ex et nisi ullamcorper fringilla. In bibendum elit nisl. Etiam eu sodales quam. Integer sodales blandit ex, ac semper nulla faucibus sit amet. Class aptent taciti sociosqu ad litora torquent per conubia nostra, per inceptos himenaeos. Aliquam ullamcorper lorem mauris, nec fringilla felis vulputate id. Cras malesuada, quam tristique dignissim lobortis, dui ex vehicula augue, ac rhoncus ipsum tortor quis leo.\n",
      "\n",
      "2500\n"
     ]
    }
   ],
   "source": [
    "fichero = open('Lorem.txt','r')\n",
    "p1 = fichero.read(1000)\n",
    "fichero.seek(2000)\n",
    "p2 = fichero.read(500)\n",
    "print(p1 + p2)\n",
    "print(fichero.tell())\n",
    "fichero.close()"
   ]
  },
  {
   "attachments": {},
   "cell_type": "markdown",
   "metadata": {},
   "source": [
    "4. Crear un programa que abra un archivo llamado \"texto.txt\" en modo lectura y muestre la codificación de caracteres del archivo.\n"
   ]
  },
  {
   "cell_type": "code",
   "execution_count": 81,
   "metadata": {},
   "outputs": [
    {
     "name": "stdout",
     "output_type": "stream",
     "text": [
      "UTF-8\n"
     ]
    }
   ],
   "source": [
    "with open(\"hola.txt\", \"r\") as file:\n",
    "\n",
    "   print(file.encoding)\n",
    "\n",
    "\n"
   ]
  },
  {
   "attachments": {},
   "cell_type": "markdown",
   "metadata": {},
   "source": [
    "5. Abre un archivo en modo escritura, escribe algunos datos en él, mueve el puntero a una posición anterior, lee los últimos 10 bytes a partir de esa posición y cierra el archivo.\n"
   ]
  },
  {
   "cell_type": "code",
   "execution_count": 82,
   "metadata": {},
   "outputs": [
    {
     "name": "stdout",
     "output_type": "stream",
     "text": [
      "ste es el \n"
     ]
    }
   ],
   "source": [
    "with open(\"archivo.txt\", \"w+\") as file:\n",
    "     file.write('Este es el texto del archivo de escritura del ejercicio5')\n",
    "     file.seek(1)\n",
    "     print(file.read(10))\n"
   ]
  },
  {
   "attachments": {},
   "cell_type": "markdown",
   "metadata": {},
   "source": [
    "6. Abre un archivo, lee todas las líneas del archivo y escribe las líneas que contienen la palabra \"Hola\" en un archivo nuevo.\n"
   ]
  },
  {
   "cell_type": "code",
   "execution_count": 90,
   "metadata": {},
   "outputs": [],
   "source": [
    "with open('hola.txt','r') as file:\n",
    "    for linea in file.readlines():\n",
    "        if \"Hola\" in linea:\n",
    "            with open('nuevo.txt','a') as nuevo:\n",
    "                nuevo.write(linea)"
   ]
  },
  {
   "cell_type": "markdown",
   "metadata": {},
   "source": []
  },
  {
   "attachments": {},
   "cell_type": "markdown",
   "metadata": {},
   "source": [
    "7. Escribir un programa en Python que lea un archivo de texto y cuente el número de palabras y líneas en él. Luego, imprimir el resultado por pantalla. (utilizar el archivo Lorem.txt)."
   ]
  },
  {
   "cell_type": "code",
   "execution_count": 101,
   "metadata": {},
   "outputs": [
    {
     "name": "stdout",
     "output_type": "stream",
     "text": [
      "1678\n",
      "39\n"
     ]
    }
   ],
   "source": [
    "with open('Lorem.txt','r') as file:\n",
    "    a = file.read()\n",
    "    lista = a.split(' ')\n",
    "    print(len(lista))\n",
    "    \n",
    "with open('Lorem.txt','r') as file:\n",
    "    print(len(file.readlines()))"
   ]
  },
  {
   "attachments": {},
   "cell_type": "markdown",
   "metadata": {},
   "source": [
    "8. Escribir un programa en Python que lea un archivo de texto y reemplace todas las ocurrencias de una palabra (“Hola”) por otra (“Adios”). Luego, guardar los cambios en el archivo. (utilizar el archivo hola.txt).\n"
   ]
  },
  {
   "cell_type": "code",
   "execution_count": 113,
   "metadata": {},
   "outputs": [
    {
     "name": "stdout",
     "output_type": "stream",
     "text": [
      "Hola, \n",
      "¿cómo estás? \n",
      "Hoy es un día hermoso para dar un paseo \n",
      "y saludar a la gente con un \"hola\". \n",
      "Hola, vecino. Hola, señor. Hola, niños. \n",
      "Es importante ser amable y saludar a los demás. A veces, \n",
      "solo una simple palabra como \"hola\" puede hacer una gran diferencia en el día de alguien. \n",
      "Hola, amiga. Hola, compañero de trabajo. Hola, desconocido. \n",
      "¡Hola a todos! Espero que tengan un buen día lleno de sonrisas y saludos amables.\n",
      "\n",
      "\n",
      "Adios, \n",
      "¿cómo estás? \n",
      "Hoy es un día hermoso para dar un paseo \n",
      "y saludar a la gente con un \"hola\". \n",
      "Adios, vecino. Adios, señor. Adios, niños. \n",
      "Es importante ser amable y saludar a los demás. A veces, \n",
      "solo una simple palabra como \"hola\" puede hacer una gran diferencia en el día de alguien. \n",
      "Adios, amiga. Adios, compañero de trabajo. Adios, desconocido. \n",
      "¡Adios a todos! Espero que tengan un buen día lleno de sonrisas y saludos amables.\n",
      "\n",
      "\n"
     ]
    }
   ],
   "source": [
    "with open('hola.txt','r') as file:\n",
    "    cadena = file.read()\n",
    "    print(cadena)\n",
    "    cadena = cadena.replace(\"Hola\",\"Adios\")\n",
    "    print(cadena)\n",
    "    \n",
    "with open('hola.txt','w') as file:\n",
    "    file.write(cadena)"
   ]
  },
  {
   "attachments": {},
   "cell_type": "markdown",
   "metadata": {},
   "source": [
    "\n",
    "\n",
    "9. Escribir un programa en Python que lea un archivo de texto y cuente el número de caracteres distintos que contiene. (podéis usar cualquier archivo)."
   ]
  },
  {
   "cell_type": "code",
   "execution_count": 114,
   "metadata": {},
   "outputs": [
    {
     "name": "stdout",
     "output_type": "stream",
     "text": [
      "441\n"
     ]
    }
   ],
   "source": [
    "with open('hola.txt','r') as file:\n",
    "    print(len(file.read()))"
   ]
  }
 ],
 "metadata": {
  "kernelspec": {
   "display_name": "Python 3",
   "language": "python",
   "name": "python3"
  },
  "language_info": {
   "codemirror_mode": {
    "name": "ipython",
    "version": 3
   },
   "file_extension": ".py",
   "mimetype": "text/x-python",
   "name": "python",
   "nbconvert_exporter": "python",
   "pygments_lexer": "ipython3",
   "version": "3.8.10"
  },
  "orig_nbformat": 4
 },
 "nbformat": 4,
 "nbformat_minor": 2
}
