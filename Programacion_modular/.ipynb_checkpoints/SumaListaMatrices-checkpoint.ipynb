{
 "cells": [
  {
   "cell_type": "code",
   "execution_count": 65,
   "metadata": {},
   "outputs": [
    {
     "name": "stdout",
     "output_type": "stream",
     "text": [
      "2\n"
     ]
    }
   ],
   "source": [
    "c= 0\n",
    "\n",
    "for indice in range(2+1):\n",
    "    c=indice\n",
    "\n",
    "print(c)"
   ]
  },
  {
   "cell_type": "code",
   "execution_count": 63,
   "metadata": {},
   "outputs": [
    {
     "name": "stdout",
     "output_type": "stream",
     "text": [
      "5\n",
      "7\n",
      "9\n"
     ]
    }
   ],
   "source": [
    "\"\"\"\n",
    "[1,2,3]\n",
    "[4,5,6]\n",
    "[5,7,9]\n",
    "\n",
    "\n",
    "\"\"\"\n",
    "def suma_lista(a,b):\n",
    "    c= []\n",
    "    print(a[0] + b[0])\n",
    "    print(a[1] + b[1])\n",
    "    print(a[2] + b[2])\n",
    "    \n",
    "\n",
    "suma_lista([1,2,3],[4,5,6])\n"
   ]
  },
  {
   "cell_type": "code",
   "execution_count": 68,
   "metadata": {},
   "outputs": [
    {
     "data": {
      "text/plain": [
       "[4, 10, 18]"
      ]
     },
     "execution_count": 68,
     "metadata": {},
     "output_type": "execute_result"
    }
   ],
   "source": [
    "\n",
    "\"\"\"\n",
    "a= [1,2,3]\n",
    "b=[4,5,6]\n",
    "\n",
    "for indice in range(len(a)):\n",
    "    totalsuma= a[indice]+ b[indice]\n",
    "    print(totalsuma)\n",
    "\"\"\"\n",
    "\n",
    "\"\"\"\n",
    "lista=[1,2,3]\n",
    "lista2=[4,5,6]\n",
    "lista3=[]\n",
    "\n",
    "for indice in range(len(lista)):\n",
    "    lista3.append(lista[indice] + lista2[indice])\n",
    "\n",
    "\n",
    "print(lista3)\n",
    "\n",
    "\"\"\"\n",
    "\n",
    "def suma_lista(lista1,lista2):\n",
    "    lista3=[]\n",
    "    for indice in range(len(lista1)):\n",
    "        lista3.append(lista1[indice]+ lista2[indice])\n",
    "        \n",
    "    return lista3\n",
    "\n",
    "suma_lista([1,2,3],[4,5,6])\n"
   ]
  },
  {
   "cell_type": "code",
   "execution_count": 67,
   "metadata": {},
   "outputs": [
    {
     "data": {
      "text/plain": [
       "[[-6, -6, -6], [-6, -6, -6]]"
      ]
     },
     "execution_count": 67,
     "metadata": {},
     "output_type": "execute_result"
    }
   ],
   "source": [
    "\"\"\"\n",
    "matriz1= [[1,2,3],[4,5,6]]\n",
    "matriz2= [[7,8,9],[10,11,12]]\n",
    "matriz3=[[8,10,12],[14,16,18]]\n",
    "suma_lista(matriz1[0],matriz2[0])\n",
    "suma_lista(matriz1[1],matriz2[1])\n",
    "suma_lista(matriz1[2],matriz2[2])\n",
    "\n",
    "\"\"\"\n",
    "\n",
    "\n",
    "def suma_matriz(matriz1, matriz2):\n",
    "    matriz3=[]\n",
    "    for indice in range(len(matriz1)):\n",
    "        matriz3.append(suma_lista(matriz1[indice],matriz2[indice]))\n",
    "    return matriz3\n",
    "    \n",
    "suma_matriz([[1,2,3],[4,5,6]], [[7,8,9],[10,11,12]] )"
   ]
  },
  {
   "cell_type": "code",
   "execution_count": null,
   "metadata": {},
   "outputs": [],
   "source": []
  }
 ],
 "metadata": {
  "kernelspec": {
   "display_name": "Python 3 (ipykernel)",
   "language": "python",
   "name": "python3"
  },
  "language_info": {
   "codemirror_mode": {
    "name": "ipython",
    "version": 3
   },
   "file_extension": ".py",
   "mimetype": "text/x-python",
   "name": "python",
   "nbconvert_exporter": "python",
   "pygments_lexer": "ipython3",
   "version": "3.10.6"
  },
  "vscode": {
   "interpreter": {
    "hash": "916dbcbb3f70747c44a77c7bcd40155683ae19c65e1c03b4aa3499c5328201f1"
   }
  }
 },
 "nbformat": 4,
 "nbformat_minor": 2
}
