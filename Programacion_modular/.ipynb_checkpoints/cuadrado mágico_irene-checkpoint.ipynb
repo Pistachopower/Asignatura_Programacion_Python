{
 "cells": [
  {
   "cell_type": "markdown",
   "metadata": {},
   "source": [
    "# Cuadrado mágico\n",
    "Crea un programa que valide si una matriz es un cuadrado mágico"
   ]
  },
  {
   "cell_type": "code",
   "execution_count": 1,
   "metadata": {},
   "outputs": [
    {
     "ename": "SyntaxError",
     "evalue": "closing parenthesis ')' does not match opening parenthesis '[' on line 7 (3463135922.py, line 8)",
     "output_type": "error",
     "traceback": [
      "\u001b[0;36m  Cell \u001b[0;32mIn[1], line 8\u001b[0;36m\u001b[0m\n\u001b[0;31m    [[1],[3],[2]])\u001b[0m\n\u001b[0m                 ^\u001b[0m\n\u001b[0;31mSyntaxError\u001b[0m\u001b[0;31m:\u001b[0m closing parenthesis ')' does not match opening parenthesis '[' on line 7\n"
     ]
    }
   ],
   "source": [
    "def suma_fila(matriz):\n",
    "    lista=[]\n",
    "    for fila in matriz:\n",
    "        lista.append(sum(fila))\n",
    "    return lista\n",
    "\n",
    "suma_fila()"
   ]
  },
  {
   "cell_type": "code",
   "execution_count": 2,
   "metadata": {},
   "outputs": [],
   "source": [
    "def suma_columna(matriz):\n",
    "    listacol=[]\n",
    "    for x in range(0, len(matriz)):\n",
    "        listacol.append([])\n",
    "    for fila in matriz:\n",
    "        indice=0\n",
    "        for col in fila:\n",
    "            listacol[indice].append(fila[indice])\n",
    "            indice+=1\n",
    "    sumcol=suma_fila(listacol)\n",
    "    return sumcol"
   ]
  },
  {
   "cell_type": "code",
   "execution_count": 4,
   "metadata": {},
   "outputs": [],
   "source": [
    "def sumatoriocolumnas2 (matriz):\n",
    "    listacol=[]\n",
    "    listafila=[]\n",
    "    diagonal=0\n",
    "    for x in range(0, len(matriz)):\n",
    "        listacol.append(0)\n",
    "        listafila.append(0)\n",
    "    i=0\n",
    "    while i<len(matriz):\n",
    "        j=0\n",
    "        while j<len(matriz):\n",
    "            listacol[j]+=matriz[i][j]\n",
    "            listafila[i]+=matriz[i][j]\n",
    "            if i==j:\n",
    "                diagonal+=matriz[i][j]\n",
    "            j+=1\n",
    "        i+=1\n",
    "    magica=True\n",
    "    a=0\n",
    "    while a<len(listafila) and magica==True:\n",
    "        if listacol[a]!=diagonal or listafila[a]!=diagonal:\n",
    "            magica=False\n",
    "        a+=1\n",
    "    return magica\n"
   ]
  },
  {
   "cell_type": "code",
   "execution_count": 7,
   "metadata": {},
   "outputs": [
    {
     "data": {
      "text/plain": [
       "True"
      ]
     },
     "execution_count": 7,
     "metadata": {},
     "output_type": "execute_result"
    }
   ],
   "source": [
    "def cuadrado_magico (matriz):\n",
    "    if len(matriz)==len(matriz[0]):\n",
    "        return sumatoriocolumnas2(matriz)\n",
    "    else:\n",
    "        return False\n",
    "\n",
    "matriz=[[8,1,6],[3,5,7],[4,9,2]]\n",
    "cuadrado_magico(matriz)\n",
    "\n"
   ]
  }
 ],
 "metadata": {
  "kernelspec": {
   "display_name": "Python 3 (ipykernel)",
   "language": "python",
   "name": "python3"
  },
  "language_info": {
   "codemirror_mode": {
    "name": "ipython",
    "version": 3
   },
   "file_extension": ".py",
   "mimetype": "text/x-python",
   "name": "python",
   "nbconvert_exporter": "python",
   "pygments_lexer": "ipython3",
   "version": "3.10.6"
  },
  "vscode": {
   "interpreter": {
    "hash": "af6436bd27321a690abc8c99b326d1292e83d6390e393f386abc2ddadddb5ac4"
   }
  }
 },
 "nbformat": 4,
 "nbformat_minor": 2
}
