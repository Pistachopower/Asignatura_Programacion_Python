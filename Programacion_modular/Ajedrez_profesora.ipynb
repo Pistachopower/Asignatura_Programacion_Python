{
 "cells": [
  {
   "attachments": {},
   "cell_type": "markdown",
   "metadata": {},
   "source": [
    "1 La pieza más poderosa del juego de ajedrez es la reina. Puede moverse cualquier número de casillas en horizontal, vertical o diagonal, aunque sin saltar por encima de ninguna pieza que se interponga en su camino.\n",
    "En este ejercicio consideraremos tableros de cualquier dimensión, pero siempre cuadrados, en los que colocaremos únicamente una cantidad arbitraria de reinas blancas. Diremos entonces que una casilla del tablero está dominada si contiene una reina o alguna de las reinas puede moverse a esta casilla.\n",
    "Problema: Dadas la dimensión del tablero y una lista de tuplas con las posiciones de las reinas, calcular el número de casillas dominadas que hay en el tablero\n"
   ]
  },
  {
   "cell_type": "code",
   "execution_count": 5,
   "metadata": {},
   "outputs": [
    {
     "data": {
      "text/plain": [
       "True"
      ]
     },
     "execution_count": 5,
     "metadata": {},
     "output_type": "execute_result"
    }
   ],
   "source": [
    "#devuelve el numero de filas y columnas que está entre la reina\n",
    "#recuerda que la reina tambien se cuenta\n",
    "def  casillas_dominadas(dimensión_tablero, posiciones_reinas):\n",
    "    numero_dominada= 0\n",
    "    \n",
    "    for i in range(dimensión_tablero):\n",
    "        for j in range(dimensión_tablero):\n",
    "            if esta_dominada(i,j,posiciones_reinas):\n",
    "                numero_dominada += 1\n",
    "        \n",
    "    return numero_dominada\n",
    "\n",
    "#comprueba las casilla de la fila o columna actual donde estan las reinas  \n",
    "def esta_dominada(i, j, posiciones_reinas):\n",
    "    dominada= False\n",
    "    for  posicion_reina in posiciones_reinas: \n",
    "        if reina_domina_casilla(posicion_reina, i,j):\n",
    "            dominada= True\n",
    "            break\n",
    "    return dominada\n",
    "\n",
    "#comprueba (teniendo la posicion de la reina) la fila\n",
    "#y columna de las casillas dominadas \n",
    "def reina_domina_casilla(posicion_reina, i,j):\n",
    "    x, y= posicion_reina\n",
    "    return comprobar_columna(i, j, posicion_reina) or  comprobar_fila(i, j, posicion_reina)\n",
    "\n",
    "\n",
    "#comprueba (teniendo la posicion de la reina) \n",
    "#la casilla de la fila dominada \n",
    "def comprobar_fila(i, j, posicion_reina):\n",
    "    misma_fila = False\n",
    "    x, y = posicion_reina\n",
    "    \n",
    "    if i == x:\n",
    "        misma_fila = True\n",
    "    \n",
    "    return misma_fila\n",
    "    \n",
    "\n",
    "#comprueba (teniendo la posicion de la reina) \n",
    "#la casilla de la columna dominada  \n",
    "def comprobar_columna(i, j, posicion_reina):\n",
    "    misma_columna = False\n",
    "    x, y = posicion_reina\n",
    "    \n",
    "    if j == y:\n",
    "        misma_columna = True\n",
    "        \n",
    "    return misma_columna\n",
    "\n",
    "#comprueba las casillas diagonales que están alrededor \n",
    "#de la reina\n",
    "def comprobar_diagonal(i, j, posicion_reina):\n",
    "    # | i-x | == | j-y |\n",
    "    x, y = posicion_reina\n",
    "    misma_diagonal = False\n",
    "    \n",
    "    if abs(i - x) == abs(j - y):\n",
    "        misma_diagonal = True\n",
    "\n",
    "    return misma_diagonal\n",
    "\n",
    "#casillas_dominadas(5, [(2,3)])\n",
    "#\n",
    "#esta_dominada(2,4, [(2,3)])\n",
    "\n",
    "#reina_domina_casilla([2,3], 3,3)\n",
    "\n",
    "#comprobar_fila(2,0,([2,3]))\n",
    "\n",
    "#comprobar_columna(3,3, ((1,3)))\n",
    "\n",
    "esta_dominada(1,4, [(2,2), (0,4)])"
   ]
  }
 ],
 "metadata": {
  "kernelspec": {
   "display_name": "Python 3",
   "language": "python",
   "name": "python3"
  },
  "language_info": {
   "codemirror_mode": {
    "name": "ipython",
    "version": 3
   },
   "file_extension": ".py",
   "mimetype": "text/x-python",
   "name": "python",
   "nbconvert_exporter": "python",
   "pygments_lexer": "ipython3",
   "version": "3.10.6"
  },
  "orig_nbformat": 4
 },
 "nbformat": 4,
 "nbformat_minor": 2
}
