{
 "cells": [
  {
   "cell_type": "markdown",
   "metadata": {},
   "source": [
    "# Cuadrado mágico\n",
    "Crea un programa que valide si una matriz es un cuadrado mágico"
   ]
  },
  {
   "cell_type": "code",
   "execution_count": 3,
   "metadata": {},
   "outputs": [
    {
     "data": {
      "text/plain": [
       "[15, 15, 15]"
      ]
     },
     "execution_count": 3,
     "metadata": {},
     "output_type": "execute_result"
    }
   ],
   "source": [
    "def suma_fila(matriz):\n",
    "    lista=[]\n",
    "    for fila in matriz:\n",
    "        lista.append(sum(fila))\n",
    "    return lista\n",
    "\n",
    "suma_fila([[8,1,6],[3,5,7],[4,9,2]])"
   ]
  },
  {
   "cell_type": "code",
   "execution_count": 4,
   "metadata": {},
   "outputs": [
    {
     "data": {
      "text/plain": [
       "[15, 15, 15]"
      ]
     },
     "execution_count": 4,
     "metadata": {},
     "output_type": "execute_result"
    }
   ],
   "source": [
    "def suma_columna(matriz):\n",
    "    listacol=[]\n",
    "\n",
    "    #agrega las listas vacias segun la longitud de la matriz\n",
    "    for x in range(0, len(matriz)):\n",
    "        listacol.append([])\n",
    "    #print(listacol)\n",
    "\n",
    "    #recorro las filas completas\n",
    "    for fila in matriz:\n",
    "\n",
    "        #la variable indice[que sera un contador] va a servir \n",
    "        # para seleccionar los valores\n",
    "        #de las columnas\n",
    "        # ACTUA COMO UNA VARIABLE \n",
    "        indice=0\n",
    "\n",
    "        #recorro los indices de cada una de las filas\n",
    "        for col in fila:\n",
    "        #print(col,end=\" \")   \n",
    "\n",
    "            #Marco el indice de la lista vacia junto al indice de la fila \n",
    "            #y voy añadiendo el valor de las columnas. El indice a medida\n",
    "            #que va sumando va cambiando de posicion de la fila \n",
    "            listacol[indice].append(fila[indice])\n",
    "            indice+=1\n",
    "    sumcol=suma_fila(listacol)\n",
    "    return sumcol\n",
    "\n",
    "suma_columna([[8,1,6],[3,5,7],[4,9,2]])\n",
    "#suma_columna([[8,1,6],[3,5,7],[4,9,2]])"
   ]
  },
  {
   "cell_type": "code",
   "execution_count": 15,
   "metadata": {},
   "outputs": [
    {
     "data": {
      "text/plain": [
       "True"
      ]
     },
     "execution_count": 15,
     "metadata": {},
     "output_type": "execute_result"
    }
   ],
   "source": [
    "def sumatoriocolumnas2 (matriz):\n",
    "    listacol=[]\n",
    "    listafila=[]\n",
    "    diagonal=0\n",
    "\n",
    "    #se crea 2 filas separadas con 4 columnas con ceros cada una\n",
    "    for x in range(0, len(matriz)):\n",
    "        listacol.append(0)\n",
    "        listafila.append(0)\n",
    "\n",
    "    #suma las columnas, filas y los valores en diagonal de la matriz\n",
    "    # con un while anidado    \n",
    "    i=0\n",
    "    while i<len(matriz):\n",
    "        j=0\n",
    "        while j<len(matriz):\n",
    "            listacol[j]+=matriz[i][j]\n",
    "            listafila[i]+=matriz[i][j]\n",
    "            if i==j:\n",
    "                diagonal+=matriz[i][j]\n",
    "            j+=1\n",
    "        i+=1\n",
    "    #comprueba si la suma de sus columnas, filas y diagonal son \n",
    "    # del mismo resultado, en caso de que sea diferente la variable\n",
    "    # magico cambia a false    \n",
    "    magica=True\n",
    "    a=0\n",
    "    while a<len(listafila) and magica==True:\n",
    "        if listacol[a]!=diagonal or listafila[a]!=diagonal:\n",
    "            magica=False\n",
    "        a+=1\n",
    "    return magica\n",
    "\n",
    "sumatoriocolumnas2([[8,1,6],[3,5,7],[4,9,2]]) "
   ]
  },
  {
   "cell_type": "code",
   "execution_count": 7,
   "metadata": {},
   "outputs": [
    {
     "data": {
      "text/plain": [
       "True"
      ]
     },
     "execution_count": 7,
     "metadata": {},
     "output_type": "execute_result"
    }
   ],
   "source": [
    "def cuadrado_magico (matriz):\n",
    "    #comprueba que la matriz tengan las mismas dimensiones\n",
    "    if len(matriz)==len(matriz[0]):\n",
    "        #llama a la funcion sumatoriocolumnas2, suma las columnas, filas\n",
    "        #y los valores en diagonal y al retornar true, imprime true en esta\n",
    "        #funcion\n",
    "        return sumatoriocolumnas2(matriz)\n",
    "    else:\n",
    "        return False\n",
    "\n",
    "matriz=[[8,1,6],[3,5,7],[4,9,2]]\n",
    "cuadrado_magico(matriz)\n",
    "\n"
   ]
  }
 ],
 "metadata": {
  "kernelspec": {
   "display_name": "Python 3 (ipykernel)",
   "language": "python",
   "name": "python3"
  },
  "language_info": {
   "codemirror_mode": {
    "name": "ipython",
    "version": 3
   },
   "file_extension": ".py",
   "mimetype": "text/x-python",
   "name": "python",
   "nbconvert_exporter": "python",
   "pygments_lexer": "ipython3",
   "version": "3.10.6"
  },
  "vscode": {
   "interpreter": {
    "hash": "916dbcbb3f70747c44a77c7bcd40155683ae19c65e1c03b4aa3499c5328201f1"
   }
  }
 },
 "nbformat": 4,
 "nbformat_minor": 2
}
