{
 "cells": [
  {
   "cell_type": "code",
   "execution_count": 2,
   "metadata": {},
   "outputs": [],
   "source": [
    "class Perro:\n",
    "    #metodo init se usa para llamar al objeto\n",
    "    def __init__(self,nombre, raza):\n",
    "        print(\"Creando perro {}\".format(nombre, raza))\n",
    "        \n",
    "        #Atributos de instancia\n",
    "        self.nombre= nombre\n",
    "        self.raza= raza\n",
    "        "
   ]
  },
  {
   "cell_type": "code",
   "execution_count": 5,
   "metadata": {},
   "outputs": [
    {
     "name": "stdout",
     "output_type": "stream",
     "text": [
      "Creando perro baldomero\n",
      "<class '__main__.Perro'>\n"
     ]
    }
   ],
   "source": [
    "perro= Perro('baldomero', 'azabache')\n",
    "\n",
    "#\n",
    "print(type(perro))"
   ]
  },
  {
   "cell_type": "markdown",
   "metadata": {},
   "source": [
    "Diferencia entre metodo y funcion \n",
    "Metodo: siempre va asociado a una clase. Tiene que ser llamado desde un objeto. \n",
    "\n",
    "funcion: está fuera de la clase. Usa la misma estructura del def pero no pertenece a una clase. "
   ]
  },
  {
   "cell_type": "code",
   "execution_count": null,
   "metadata": {},
   "outputs": [],
   "source": [
    "class Perro:\n",
    "    #Atributo de clase \n",
    "    especie= 'mamifero'\n",
    "    \n",
    "    #El metodo __init__ es llamado al crear el objeto \n",
    "    def __init__(self,nombre,raza):\n",
    "        print(\"Creando perro {}, {}\".format(nombre, raza))\n",
    "        \n",
    "        #Atributos de instancia\n",
    "        self.nombre= nombre\n",
    "        self.raza= raza "
   ]
  },
  {
   "cell_type": "markdown",
   "metadata": {},
   "source": [
    "Herencia: es un proceso mediante el cual se puede crear una clase hija que hereda de una clase padre, compartiendo sus métodos y atributos. Además de ello, una clase hija puede sobreescribir los métodos o atributos, o incluso definir unos nuevos."
   ]
  },
  {
   "cell_type": "code",
   "execution_count": 10,
   "metadata": {},
   "outputs": [],
   "source": [
    "#EJEMPLO DE HERENCIA: PERRO HEREDA LOS ATRIBUTOS DE ANIMAL\n",
    "\n",
    "class Animal:\n",
    "    pass\n",
    "\n",
    "class Perro (Animal):\n",
    "    pass"
   ]
  },
  {
   "cell_type": "code",
   "execution_count": 15,
   "metadata": {},
   "outputs": [
    {
     "name": "stdout",
     "output_type": "stream",
     "text": [
      "[<class '__main__.Perro'>]\n"
     ]
    }
   ],
   "source": [
    "#Muestra si una clase es hija de otra \n",
    "#print(Perro.__base__)\n",
    "\n",
    "\n",
    "#De manera similar podemos ver que clases descienden de una en concreto\n",
    "print(Animal.__subclasses__())\n"
   ]
  },
  {
   "cell_type": "code",
   "execution_count": 22,
   "metadata": {},
   "outputs": [],
   "source": [
    "class Animal:\n",
    "    def __init__(self, especie, edad):\n",
    "        self.especie = especie\n",
    "        self.edad = edad\n",
    "\n",
    "    # Método genérico pero con implementación particular\n",
    "    def hablar(self):\n",
    "        # Método vacío\n",
    "        pass\n",
    "\n",
    "    # Método genérico pero con implementación particular\n",
    "    def moverse(self):\n",
    "        # Método vacío\n",
    "        pass\n",
    "\n",
    "    # Método genérico con la misma implementación\n",
    "    #__name__ : te indica el nombre de la clase a la que pertenece\n",
    "    #el objeto\n",
    "    def describeme(self):\n",
    "        print(\"Soy un Animal del tipo\", type(self).__name__)"
   ]
  },
  {
   "cell_type": "code",
   "execution_count": 21,
   "metadata": {},
   "outputs": [
    {
     "data": {
      "text/plain": [
       "<function __main__.Animal.describeme(self)>"
      ]
     },
     "execution_count": 21,
     "metadata": {},
     "output_type": "execute_result"
    }
   ],
   "source": [
    "Animal.describeme"
   ]
  },
  {
   "cell_type": "markdown",
   "metadata": {},
   "source": [
    "<pre>\n",
    "\n",
    "https://ellibrodepython.com/herencia-en-python\n",
    "\n",
    "Seguir Extendiendo y modificando métodos"
   ]
  },
  {
   "cell_type": "code",
   "execution_count": 25,
   "metadata": {},
   "outputs": [
    {
     "name": "stdout",
     "output_type": "stream",
     "text": [
      "Soy un Animal del tipo Perro\n"
     ]
    }
   ],
   "source": [
    "class Animal:\n",
    "    def __init__(self, especie, edad):\n",
    "        self.especie = especie\n",
    "        self.edad = edad\n",
    "\n",
    "    # Método genérico pero con implementación particular\n",
    "    def hablar(self):\n",
    "        # Método vacío\n",
    "        pass\n",
    "\n",
    "    # Método genérico pero con implementación particular\n",
    "    def moverse(self):\n",
    "        # Método vacío\n",
    "        pass\n",
    "\n",
    "    # Método genérico con la misma implementación\n",
    "    #__name__ : te indica el nombre de la clase a la que pertenece\n",
    "    #el objeto\n",
    "    def describeme(self):\n",
    "        print(\"Soy un Animal del tipo\", type(self).__name__)\n",
    " \n",
    "#Ejemplo de cómo Perro hereda de Animal       \n",
    "class Perro(Animal):\n",
    "    pass\n",
    "\n",
    "mi_perro= Perro('mamifero', 10)\n",
    "mi_perro.describeme()"
   ]
  },
  {
   "cell_type": "code",
   "execution_count": 6,
   "metadata": {},
   "outputs": [
    {
     "data": {
      "text/plain": [
       "12"
      ]
     },
     "execution_count": 6,
     "metadata": {},
     "output_type": "execute_result"
    }
   ],
   "source": [
    "def suma(numeros):\n",
    "    total= 0\n",
    "    for valor in numeros:\n",
    "        total+= valor\n",
    "        return total\n",
    "\n",
    "suma([12])"
   ]
  },
  {
   "cell_type": "markdown",
   "metadata": {},
   "source": [
    "<pre>\n",
    "##Gestion de errores \n",
    "\n",
    "-Errores de sintaxis: SyntaxError\n",
    "\n",
    "<pre>\n"
   ]
  },
  {
   "cell_type": "code",
   "execution_count": 1,
   "metadata": {},
   "outputs": [
    {
     "ename": "SyntaxError",
     "evalue": "unexpected EOF while parsing (4054794001.py, line 1)",
     "output_type": "error",
     "traceback": [
      "\u001b[0;36m  Cell \u001b[0;32mIn [1], line 1\u001b[0;36m\u001b[0m\n\u001b[0;31m    print('hola'\u001b[0m\n\u001b[0m                ^\u001b[0m\n\u001b[0;31mSyntaxError\u001b[0m\u001b[0;31m:\u001b[0m unexpected EOF while parsing\n"
     ]
    }
   ],
   "source": [
    "print('hola'"
   ]
  },
  {
   "cell_type": "markdown",
   "metadata": {},
   "source": [
    "<pre>\n",
    "<b>Avance de teoria con errores</b>\n",
    "\n",
    "##Gestion de errores \n",
    "\n",
    "-Errores de nombre: NameError\n",
    "\n",
    "<pre>\n"
   ]
  },
  {
   "cell_type": "code",
   "execution_count": 2,
   "metadata": {},
   "outputs": [
    {
     "ename": "NameError",
     "evalue": "name 'pint' is not defined",
     "output_type": "error",
     "traceback": [
      "\u001b[0;31m---------------------------------------------------------------------------\u001b[0m",
      "\u001b[0;31mNameError\u001b[0m                                 Traceback (most recent call last)",
      "Cell \u001b[0;32mIn [2], line 1\u001b[0m\n\u001b[0;32m----> 1\u001b[0m pint(\u001b[39m'\u001b[39m\u001b[39mhola\u001b[39m\u001b[39m'\u001b[39m)\n",
      "\u001b[0;31mNameError\u001b[0m: name 'pint' is not defined"
     ]
    }
   ],
   "source": [
    "pint('hola')"
   ]
  },
  {
   "cell_type": "markdown",
   "metadata": {},
   "source": [
    "<pre>\n",
    "##Errores semantico \n",
    "\n",
    "<pre>\n"
   ]
  },
  {
   "cell_type": "code",
   "execution_count": 4,
   "metadata": {},
   "outputs": [
    {
     "ename": "IndexError",
     "evalue": "pop from empty list",
     "output_type": "error",
     "traceback": [
      "\u001b[0;31m---------------------------------------------------------------------------\u001b[0m",
      "\u001b[0;31mIndexError\u001b[0m                                Traceback (most recent call last)",
      "Cell \u001b[0;32mIn [4], line 2\u001b[0m\n\u001b[1;32m      1\u001b[0m l\u001b[39m=\u001b[39m[]\n\u001b[0;32m----> 2\u001b[0m l\u001b[39m.\u001b[39;49mpop()\n",
      "\u001b[0;31mIndexError\u001b[0m: pop from empty list"
     ]
    }
   ],
   "source": [
    "l=[]\n",
    "l.pop()"
   ]
  },
  {
   "cell_type": "code",
   "execution_count": 5,
   "metadata": {},
   "outputs": [
    {
     "ename": "IndexError",
     "evalue": "list index out of range",
     "output_type": "error",
     "traceback": [
      "\u001b[0;31m---------------------------------------------------------------------------\u001b[0m",
      "\u001b[0;31mIndexError\u001b[0m                                Traceback (most recent call last)",
      "Cell \u001b[0;32mIn [5], line 1\u001b[0m\n\u001b[0;32m----> 1\u001b[0m l[\u001b[39m2\u001b[39;49m]\n",
      "\u001b[0;31mIndexError\u001b[0m: list index out of range"
     ]
    }
   ],
   "source": [
    "#Este problema:\n",
    "\n",
    "l[2]"
   ]
  },
  {
   "cell_type": "code",
   "execution_count": 6,
   "metadata": {},
   "outputs": [],
   "source": [
    "#Se soluciona asi:\n",
    "l=[1,2,3]\n",
    "if len(l) > 0:\n",
    "    l.pop()\n",
    "else:\n",
    "    print('l is empty')"
   ]
  },
  {
   "cell_type": "markdown",
   "metadata": {},
   "source": [
    "##Errores de tipo: TypeError"
   ]
  },
  {
   "cell_type": "code",
   "execution_count": 7,
   "metadata": {},
   "outputs": [
    {
     "ename": "TypeError",
     "evalue": "unsupported operand type(s) for /: 'str' and 'int'",
     "output_type": "error",
     "traceback": [
      "\u001b[0;31m---------------------------------------------------------------------------\u001b[0m",
      "\u001b[0;31mTypeError\u001b[0m                                 Traceback (most recent call last)",
      "Cell \u001b[0;32mIn [7], line 3\u001b[0m\n\u001b[1;32m      1\u001b[0m n\u001b[39m=\u001b[39m \u001b[39minput\u001b[39m(\u001b[39m'\u001b[39m\u001b[39mIntroduce un numero: \u001b[39m\u001b[39m'\u001b[39m)\n\u001b[1;32m      2\u001b[0m m\u001b[39m=\u001b[39m \u001b[39m4\u001b[39m\n\u001b[0;32m----> 3\u001b[0m \u001b[39mprint\u001b[39m(\u001b[39m'\u001b[39m\u001b[39m{}\u001b[39;00m\u001b[39m / \u001b[39m\u001b[39m{}\u001b[39;00m\u001b[39m = \u001b[39m\u001b[39m{}\u001b[39;00m\u001b[39m'\u001b[39m\u001b[39m.\u001b[39mformat(n,m,n\u001b[39m/\u001b[39;49mm))\n",
      "\u001b[0;31mTypeError\u001b[0m: unsupported operand type(s) for /: 'str' and 'int'"
     ]
    }
   ],
   "source": [
    "#TypeError: unsupported operand type(s) for /: 'str' and 'int'\n",
    "#Solucion: n= float input('Introduce un numero: ') \n",
    "n= input('Introduce un numero: ')\n",
    "m= 4\n",
    "print('{} / {} = {}'.format(n,m,n/m))"
   ]
  },
  {
   "cell_type": "markdown",
   "metadata": {},
   "source": [
    "#Errores de tipo: ValueError\n"
   ]
  },
  {
   "cell_type": "code",
   "execution_count": 8,
   "metadata": {},
   "outputs": [
    {
     "ename": "ValueError",
     "evalue": "invalid literal for int() with base 10: 'kkkk'",
     "output_type": "error",
     "traceback": [
      "\u001b[0;31m---------------------------------------------------------------------------\u001b[0m",
      "\u001b[0;31mValueError\u001b[0m                                Traceback (most recent call last)",
      "Cell \u001b[0;32mIn [8], line 1\u001b[0m\n\u001b[0;32m----> 1\u001b[0m \u001b[39mint\u001b[39;49m(\u001b[39m'\u001b[39;49m\u001b[39mkkkk\u001b[39;49m\u001b[39m'\u001b[39;49m)\n",
      "\u001b[0;31mValueError\u001b[0m: invalid literal for int() with base 10: 'kkkk'"
     ]
    }
   ],
   "source": [
    "int('kkkk')"
   ]
  },
  {
   "cell_type": "markdown",
   "metadata": {},
   "source": [
    "###Excepciones \n",
    "\n",
    "Errores detectados durante la ejecucion de un programa. Podemos manejarlos en los programas. \n",
    "*Bloques try y except\n"
   ]
  },
  {
   "cell_type": "code",
   "execution_count": 14,
   "metadata": {},
   "outputs": [
    {
     "name": "stdout",
     "output_type": "stream",
     "text": [
      "Introduce bien el numero\n"
     ]
    }
   ],
   "source": [
    "try:\n",
    "    #n= int(input('Introduce un número: '))\n",
    "    n= input('Introduce un número: ')\n",
    "    m= 4\n",
    "    print(\"{} / {} = {}\".format(n,m, n/m))\n",
    "except:\n",
    "    print('Introduce bien el numero')"
   ]
  },
  {
   "cell_type": "code",
   "execution_count": 1,
   "metadata": {},
   "outputs": [
    {
     "name": "stdout",
     "output_type": "stream",
     "text": [
      "Introduce bien el numero\n",
      "Introduce bien el numero\n",
      "Introduce bien el numero\n",
      "5 / 4 = 1.25\n",
      "54 / 4 = 13.5\n",
      "Introduce bien el numero\n"
     ]
    }
   ],
   "source": [
    "while (True):\n",
    "    try:\n",
    "        #n= int(input('Introduce un número: '))\n",
    "        n= int(input('Introduce un número: '))\n",
    "        m= 4\n",
    "        print(\"{} / {} = {}\".format(n,m, n/m))\n",
    "        break\n",
    "    except:\n",
    "        print('Introduce bien el numero')"
   ]
  },
  {
   "cell_type": "code",
   "execution_count": 4,
   "metadata": {},
   "outputs": [
    {
     "name": "stdout",
     "output_type": "stream",
     "text": [
      "5 / 4 = 1.25\n",
      "Todo ha funcionado correctamente\n"
     ]
    }
   ],
   "source": [
    "while (True):\n",
    "    try:\n",
    "        #n= int(input('Introduce un número: '))\n",
    "        n= int(input('Introduce un número: '))\n",
    "        m= 4\n",
    "        print(\"{} / {} = {}\".format(n,m, n/m))\n",
    "        \n",
    "    except:\n",
    "        print('Introduce bien el numero')\n",
    "        \n",
    "    else:\n",
    "        print('Todo ha funcionado correctamente')\n",
    "        break"
   ]
  },
  {
   "cell_type": "code",
   "execution_count": 5,
   "metadata": {},
   "outputs": [
    {
     "name": "stdout",
     "output_type": "stream",
     "text": [
      "5 / 4 = 1.25\n",
      "Todo ha funcionado correctamente\n",
      "Fin de la iteracion\n"
     ]
    }
   ],
   "source": [
    "#ESTÉ O NO ESTÉ ERROR VA A SALTAR FINALLY\n",
    "while (True):\n",
    "    try:\n",
    "        #n= int(input('Introduce un número: '))\n",
    "        n= int(input('Introduce un número: '))\n",
    "        m= 4\n",
    "        print(\"{} / {} = {}\".format(n,m, n/m))\n",
    "        \n",
    "    except:\n",
    "        print('Introduce bien el numero')\n",
    "        \n",
    "    else:\n",
    "        print('Todo ha funcionado correctamente')\n",
    "        break\n",
    "    finally:\n",
    "        print('Fin de la iteracion')\n"
   ]
  },
  {
   "cell_type": "markdown",
   "metadata": {},
   "source": [
    "###Excepciones multiples\n",
    "*Guardado de excepciones"
   ]
  },
  {
   "cell_type": "code",
   "execution_count": 14,
   "metadata": {},
   "outputs": [
    {
     "name": "stdout",
     "output_type": "stream",
     "text": [
      "TypeError\n"
     ]
    }
   ],
   "source": [
    "try:\n",
    "    n= input(\"Introduce un número: \")\n",
    "    5/n\n",
    "except Exception as guardadorDeError:\n",
    "    print(type(guardadorDeError).__name__)\n",
    "#te aparece el tipo de error (podemos conocer a fonde el tipo de error)"
   ]
  },
  {
   "cell_type": "markdown",
   "metadata": {},
   "source": [
    "#Excepciones encadenadas\n"
   ]
  },
  {
   "cell_type": "code",
   "execution_count": 19,
   "metadata": {},
   "outputs": [
    {
     "name": "stdout",
     "output_type": "stream",
     "text": [
      "No se puede dividir un número por una cero\n"
     ]
    }
   ],
   "source": [
    "try:\n",
    "    n= int(input(\"Introduce un número: \"))\n",
    "    5/n\n",
    "except TypeError:\n",
    "    print('No se puede dividir un número por una cadena')\n",
    "except ValueError:\n",
    "    print('Debes introduciruna cadena que sea número')\n",
    "except ZeroDivisionError:\n",
    "    print('No se puede dividir un número por una cero')\n",
    "except Exception as error:\n",
    "    print(type(error).__name__)"
   ]
  },
  {
   "cell_type": "code",
   "execution_count": 20,
   "metadata": {},
   "outputs": [
    {
     "name": "stdout",
     "output_type": "stream",
     "text": [
      "Error, no se permite un valor nulo\n"
     ]
    }
   ],
   "source": [
    "def mi_funcion(a=None):\n",
    "    if a is None:\n",
    "        print('Error, no se permite un valor nulo')\n",
    "        \n",
    "mi_funcion()"
   ]
  },
  {
   "cell_type": "code",
   "execution_count": 30,
   "metadata": {},
   "outputs": [],
   "source": [
    "#raise ValueError: no tipos de errores controlados por nosotros\n",
    "def mi_funcion(a=None):\n",
    "    try:\n",
    "        if a is None:\n",
    "            raise ValueError ('Error, no se permite un valor nulo')\n",
    "        else:\n",
    "            print(\"Todo está correcto \")\n",
    "    except ValueError:\n",
    "        ('Error, no se permite un valor nulo(desde la excepcion)')\n",
    "\n",
    "mi_funcion(a=None)"
   ]
  }
 ],
 "metadata": {
  "kernelspec": {
   "display_name": "Python 3 (ipykernel)",
   "language": "python",
   "name": "python3"
  },
  "language_info": {
   "codemirror_mode": {
    "name": "ipython",
    "version": 3
   },
   "file_extension": ".py",
   "mimetype": "text/x-python",
   "name": "python",
   "nbconvert_exporter": "python",
   "pygments_lexer": "ipython3",
   "version": "3.10.6"
  },
  "vscode": {
   "interpreter": {
    "hash": "916dbcbb3f70747c44a77c7bcd40155683ae19c65e1c03b4aa3499c5328201f1"
   }
  }
 },
 "nbformat": 4,
 "nbformat_minor": 2
}
