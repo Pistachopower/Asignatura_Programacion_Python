{
 "cells": [
  {
   "cell_type": "markdown",
   "metadata": {},
   "source": [
    "<pre>\n",
    "Pseudocódigo\n",
    "\n",
    "\n",
    "Programa Puntos del Plano y triángulo\n",
    "inicio programa\n",
    "   Clase Punto\n",
    "       atributos\n",
    "           público real coordX, coordY\n",
    "       inicio clase\n",
    "\n",
    "\n",
    "       público procedimiento inicializar(Punto:propio, real:x,y)\n",
    "       inicio procedimiento\n",
    "           propio.coordX <- x\n",
    "           propio.coordY <- y\n",
    "       fin procedimiento\n",
    "\n",
    "\n",
    "       público cadena función representar(Punto:propio)\n",
    "       inicio función\n",
    "           devolver 'X: ' + propio.coordX + 'Y: ' + propio.coordY\n",
    "       fin función\n",
    "\n",
    "\n",
    "       público procedimiento sumar(Punto:propio,P)\n",
    "       inicio procedimiento\n",
    "           propio.coordX <- propio.coordX + P.coordX\n",
    "           propio.coordY <- propio.coordY + P.coordY\n",
    "       fin procedimiento\n",
    "\n",
    "\n",
    "       público procedimiento multiplicar_por_escalar(Punto:propio, real:r)\n",
    "       inicio procedimiento\n",
    "           propio.coordX <- propio.coordX * r\n",
    "           propio.coordY <- propio.coordY * r\n",
    "       fin procedimiento\n",
    "\n",
    "\n",
    "       público real función distancia(Punto:propio, P)\n",
    "       inicio función\n",
    "           devolver $/sqrt{(propio.coordX - P.coordX)^{2} + (propio.coordY - P.coordY)^{2}}$\n",
    "       fin función\n",
    "\n",
    "\n",
    "\n",
    "\n",
    "   Clase Triángulo\n",
    "       atributos\n",
    "           público punto verticeA, verticeB, verticeC\n",
    "       inicio Clase\n",
    "\n",
    "\n",
    "           público procedimiento inicializar(Triángulo:propio, Punto: A, B, C)\n",
    "           inicio procedimiento\n",
    "               propio.verticeA <- A\n",
    "               propio.verticeB <- B\n",
    "               propio.verticeC <- C\n",
    "           fin procedimiento\n",
    "\n",
    "\n",
    "           público cadena función representar(Triángulo:propio)\n",
    "           inicio función\n",
    "               devolver 'A: propio.verticeA', 'B: propio.verticeB', 'C: propio.verticeC'\n",
    "           fin función\n",
    "\n",
    "\n",
    "           público real función Calcular perímetros(Triángulo:propio)\n",
    "           variables\n",
    "               real AB, AC, BC\n",
    "           inicio función\n",
    "               AB <- propio.verticeA.distancia(propio.verticeB)\n",
    "               AC <- propio.verticeA.distancia(propio.verticeC)\n",
    "               BC <- propio.verticeB.distancia(propio.verticeC)\n",
    "               devolver AB + AC + BC\n",
    "           fin función\n",
    "\n",
    "\n",
    "           público real función Calcular_area(Triángulo:propio)\n",
    "           inicio función\n",
    "               a <- propio.verticeA.distancia(propio.verticeB)\n",
    "               b <- propio.verticeB.distancia(propio.verticeC)\n",
    "               c <- propio.verticeA.distancia(propio.verticeC)\n",
    "               p <- propio.calcular_perimetro() / 2\n",
    "               devolver $\\sqrt{p(p-a)(p-b)(p-c)}$\n",
    "           fin función\n"
   ]
  },
  {
   "cell_type": "code",
   "execution_count": 7,
   "metadata": {},
   "outputs": [],
   "source": [
    "import math\n",
    "\n",
    "class Punto:\n",
    "    def __init__(self, x, y):\n",
    "        self.coordX= x \n",
    "        self.coordY= y\n",
    "\n",
    "    def __str__(self):\n",
    "        return 'Punto x:' + str(self.coordX) + ' ' + 'Punto y:' + str(\n",
    "            self.coordY)\n",
    "\n",
    "    def sumar(self, P):\n",
    "        self.coordX = self.coordX + P.coordX\n",
    "        self.coordY= self.coordY + P.coordY\n",
    "        #return self.coordX, self.coordY\n",
    "\n",
    "    def multiplicar_por_escala(self,r):\n",
    "        self.coordX = self.coordX * r\n",
    "        self.coordY = self.coordY * r\n",
    "        return self.coordX, self.coordY\n",
    "\n",
    "    def distancia(self, P):\n",
    "        return math.sqrt((P.coordX - self.coordX) ** 2 +\n",
    "                (P.coordY - self.coordY) ** 2 )\n",
    "    \n",
    "    "
   ]
  },
  {
   "cell_type": "code",
   "execution_count": 9,
   "metadata": {},
   "outputs": [
    {
     "ename": "AttributeError",
     "evalue": "'int' object has no attribute 'coordX'",
     "output_type": "error",
     "traceback": [
      "\u001b[0;31m---------------------------------------------------------------------------\u001b[0m",
      "\u001b[0;31mAttributeError\u001b[0m                            Traceback (most recent call last)",
      "Cell \u001b[0;32mIn[9], line 3\u001b[0m\n\u001b[1;32m      1\u001b[0m c\u001b[39m=\u001b[39m Punto(\u001b[39m5\u001b[39m,\u001b[39m1\u001b[39m)\n\u001b[0;32m----> 3\u001b[0m c\u001b[39m.\u001b[39;49mdistancia(\u001b[39m1\u001b[39;49m)\n",
      "Cell \u001b[0;32mIn[7], line 23\u001b[0m, in \u001b[0;36mPunto.distancia\u001b[0;34m(self, P)\u001b[0m\n\u001b[1;32m     22\u001b[0m \u001b[39mdef\u001b[39;00m \u001b[39mdistancia\u001b[39m(\u001b[39mself\u001b[39m, P):\n\u001b[0;32m---> 23\u001b[0m     \u001b[39mreturn\u001b[39;00m math\u001b[39m.\u001b[39msqrt((P\u001b[39m.\u001b[39;49mcoordX \u001b[39m-\u001b[39m \u001b[39mself\u001b[39m\u001b[39m.\u001b[39mcoordX) \u001b[39m*\u001b[39m\u001b[39m*\u001b[39m \u001b[39m2\u001b[39m \u001b[39m+\u001b[39m\n\u001b[1;32m     24\u001b[0m             (P\u001b[39m.\u001b[39mcoordY \u001b[39m-\u001b[39m \u001b[39mself\u001b[39m\u001b[39m.\u001b[39mcoordY) \u001b[39m*\u001b[39m\u001b[39m*\u001b[39m \u001b[39m2\u001b[39m )\n",
      "\u001b[0;31mAttributeError\u001b[0m: 'int' object has no attribute 'coordX'"
     ]
    }
   ],
   "source": [
    "c= Punto(5,1)\n",
    "\n",
    "c.distancia(1)\n",
    "\n"
   ]
  },
  {
   "cell_type": "code",
   "execution_count": 8,
   "metadata": {},
   "outputs": [
    {
     "name": "stdout",
     "output_type": "stream",
     "text": [
      "Punto x:4 Punto y:7\n"
     ]
    }
   ],
   "source": [
    "objeto= Punto(1,2)\n",
    "objeto_2= Punto(3,5)\n",
    "\n",
    "objeto.sumar(objeto_2)\n",
    "print(objeto)\n",
    "\n",
    "#objeto.multiplicar_por_escala(4)\n",
    "#print(objeto)\n"
   ]
  },
  {
   "cell_type": "code",
   "execution_count": 3,
   "metadata": {},
   "outputs": [],
   "source": [
    "\n",
    "punto_1= Punto(3,5)\n",
    "\n",
    "punto_1.multiplicar_por_escala(5)\n",
    "#print(punto_1.coordX)\n",
    "#punto_2= Punto(1,1)\n",
    "\n",
    "#print(punto_1)\n",
    "#print(punto_2)\n",
    "\n",
    "#punto_1.sumar(punto_2)\n",
    "\n",
    "#punto_1.multiplicar_por_escala(punto_2)\n",
    "#punto_1.distancia(punto_2)\n",
    "\n",
    "#print(punto_1.sumar(punto_2))\n"
   ]
  },
  {
   "cell_type": "code",
   "execution_count": 4,
   "metadata": {},
   "outputs": [],
   "source": [
    "class Triangulo:\n",
    "    def __init__(self, A, B, C):\n",
    "        self.verticeA= A \n",
    "        self.verticeB= B\n",
    "        self.verticeC= C \n",
    "\n",
    "    def __str__(self):\n",
    "        return 'verticeA:' + str(self.verticeA) + ' verticeB:' + str(\n",
    "            self.verticeB) + ' verticeC:' + str(self.verticeC)\n",
    "\n",
    "    def calcular_perimetros(self):\n",
    "        AB= self.verticeA.distancia(self.verticeB)\n",
    "        AC= self.verticeA.distancia(self.verticeC)\n",
    "        BC= self.verticeB.distancia(self.verticeC)\n",
    "        return AB + AC + BC\n",
    "\n",
    "    def calcular_area (self):\n",
    "       a = self.verticeA.distancia(self.verticeB)\n",
    "       b = self.verticeB.distancia(self.verticeC)\n",
    "       c = self.verticeA.distancia(self.verticeC)\n",
    "       p = self.calcular_perimetro() / 2\n",
    "       return math.sqrt(p * (p - a) * (p - b) * (p-c))\n",
    "\n"
   ]
  },
  {
   "cell_type": "code",
   "execution_count": 6,
   "metadata": {},
   "outputs": [],
   "source": [
    "objeto_triangulo= Triangulo(2,3,5)\n",
    "objeto_triangulo2= Triangulo(5,6,7)\n",
    "\n",
    "#print(objeto_triangulo)\n",
    "\n",
    "#objeto_triangulo.calcular_perimetros(objeto_triangulo2)\n",
    "\n",
    "\n"
   ]
  }
 ],
 "metadata": {
  "kernelspec": {
   "display_name": "Python 3 (ipykernel)",
   "language": "python",
   "name": "python3"
  },
  "language_info": {
   "codemirror_mode": {
    "name": "ipython",
    "version": 3
   },
   "file_extension": ".py",
   "mimetype": "text/x-python",
   "name": "python",
   "nbconvert_exporter": "python",
   "pygments_lexer": "ipython3",
   "version": "3.10.6"
  },
  "vscode": {
   "interpreter": {
    "hash": "916dbcbb3f70747c44a77c7bcd40155683ae19c65e1c03b4aa3499c5328201f1"
   }
  }
 },
 "nbformat": 4,
 "nbformat_minor": 2
}
