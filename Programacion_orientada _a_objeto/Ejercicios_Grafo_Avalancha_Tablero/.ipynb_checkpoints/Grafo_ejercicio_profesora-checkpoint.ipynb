{
 "cells": [
  {
   "cell_type": "markdown",
   "metadata": {},
   "source": [
    "Un grafo es un par G = (V, E) de tal forma que V es el conjunto de vértices y E es el conjunto de ejes (uniones entre dos vértices) del grafo. Numerando los vértices de G podemos considerar que V ={ 0,...,n-1},  para algún número entero positivo n, y que los elementos de E son pares de la forma (u, v) con 0 <= u < v < n\n",
    "\n",
    "El orden de un grafo G = (V, E) es el número de sus vértices (|V|) y el tamaño es el número de sus ejes (|E|). Dos vértices u , v Є V, con u < v, se dice que son adyacentes si están unidos por algún eje, es decir, si (u, v)  Є E.\n",
    "\n",
    "Es posible colorear un grafo asignando a cada vértice del mismo un determinado color (que para este ejercicio consideraremos que es un número entero positivo) de un conjunto de ellos prefijado de antemano.. Diremos entonces que esa asignación es una coloración del grafo si para cualquier par de vértices adyacentes los colores asignados a esos vértices son distintos.\n",
    "\n",
    "Una clase Grafo con los siguientes atributos privados\n",
    "vértices: guarda el número de vértices del grafo como un número entero positivo.\n",
    "ejes: guarda el conjunto de ejes del grafo como una lista de tuplas.\n",
    "y métodos públicos\n",
    " inicializar: establece el número de vértices y el conjunto de ejes sy del grafo.\n",
    "obtener_orden: devuelve el orden del grafo.\n",
    "obtener_tamaño: devuelve el tamaño del grafo.\n",
    "son_adyacentes: determina si los vértices especificados son o no adyacentes.\n",
    "Una clase GrafoColoreado que herede de la clase anterior y añada el atributo privado\n",
    "colores: guarda la asignación de colores como una lista de números enteros positivos, de tal forma que el elemento u-ésimo de esa lista es el color asignado al vértice u del grafo.\n",
    "extienda el método inicializar para que además inicialice este atributo de tal forma que los vértices no tengan asignado ningún color (es decir, que tengan asignado el «color» None), y añada los métodos públicos.\n",
    "obtener_color_vértice: devuelve el color asignado al vértice especificado.\n",
    "colorear_vértice: asigna al vértice indicado el color especificado.\n",
    "comprobar_coloración: determina si la asignación de colores a los vértices es o no una coloración (es decir, que todos los vértices tengan asignado algún color y que además se cumpla la propiedad indicada más arriba).\n"
   ]
  },
  {
   "cell_type": "code",
   "execution_count": 1,
   "metadata": {},
   "outputs": [
    {
     "data": {
      "text/plain": [
       "False"
      ]
     },
     "execution_count": 1,
     "metadata": {},
     "output_type": "execute_result"
    }
   ],
   "source": [
    "\n",
    "class Grafo:\n",
    "\n",
    "\n",
    "   def __init__ (self, v, e):\n",
    "# Inicializa el grafo con la cantidad de vértices y aristas especificadas.\n",
    "       self.__vertices = v\n",
    "       self.__ejes = e\n",
    "\n",
    "\n",
    "   def obtener_orden(self):\n",
    "# Devuelve el número de vértices en el grafo.\n",
    "       return self.__vertices\n",
    "  \n",
    "   def obtener_tamaño(self):\n",
    "# Devuelve el número de aristas en el grafo.\n",
    "       return len(self.__ejes)\n",
    "  \n",
    "   def son_adyacentes(self, vert1, vert2):\n",
    "# Verifica si dos vértices son adyacentes en el grafo, recorriendo todas las aristas.\n",
    "       for eje in self.__ejes:\n",
    "           if (vert1 in eje) and (vert2 in eje):\n",
    "               return True\n",
    "       return False\n",
    "\n",
    "\n",
    "class GrafoColoreado(Grafo):\n",
    "\n",
    "\n",
    "   def __init__(self, v, e):\n",
    "# Llama al constructor de la clase base para inicializar el grafo.\n",
    "       super().__init__(v, e)\n",
    "# Inicializa la lista de colores para cada vértice como None.\n",
    "       self.colores = [None] * self.obtener_orden()\n",
    "\n",
    "\n",
    "   def obtener_color_vertice(self, vert):\n",
    "# Devuelve el color asignado a un vértice en la coloración del grafo.\n",
    "       return self.colores[vert]\n",
    "  \n",
    "   def colorear_vertice(self, vertice, color):\n",
    "# Asigna un color a un vértice en la coloración del grafo.\n",
    "       self.colores[vertice] = color\n",
    "\n",
    "\n",
    "   def comprobar_coloracion(self):\n",
    "# Verifica si la coloración del grafo es válida.\n",
    "       if None in self.colores:\n",
    "           return False\n",
    "      \n",
    "       for vertice in range(len(self.colores)):\n",
    "           if self.colores[vertice] in self.colores[vertice+1:]:\n",
    "               otro_vertice =  self.colores[vertice+1:].index(self.colores[vertice]) + (len(self.colores)- len(self.colores[vertice+1:]))\n",
    "               if self.son_adyacentes(vertice, otro_vertice):\n",
    "                   return False\n",
    "              \n",
    "       return True\n",
    "\n",
    "\n",
    "\n",
    "# Crear una instancia de GrafoColoreado y realizar operaciones\n",
    "G = GrafoColoreado (4, [(1,2), (2,3), (1,3), (1,4), (3,4)])\n",
    "G.obtener_orden() # Devuelve 4\n",
    "G.obtener_tamaño() # Devuelve 5\n",
    "G.son_adyacentes(1,2) # Devuelve True\n",
    "G.obtener_color_vertice(2) # Devuelve None\n",
    "G.colorear_vertice(0,0) # Asigna el color 0 al vértice 0\n",
    "G.colorear_vertice(1,1) # Asigna el color 1 al vértice 1\n",
    "G.colorear_vertice(2,2) # Asigna el color 2 al vértice 2\n",
    "G.colorear_vertice(3,1)  # Asigna el color 1 al vértice 3\n",
    "G.comprobar_coloracion() # Devuelve False, ya que el vértice 3 tiene el\n"
   ]
  }
 ],
 "metadata": {
  "kernelspec": {
   "display_name": "Python 3 (ipykernel)",
   "language": "python",
   "name": "python3"
  },
  "language_info": {
   "codemirror_mode": {
    "name": "ipython",
    "version": 3
   },
   "file_extension": ".py",
   "mimetype": "text/x-python",
   "name": "python",
   "nbconvert_exporter": "python",
   "pygments_lexer": "ipython3",
   "version": "3.10.6"
  }
 },
 "nbformat": 4,
 "nbformat_minor": 2
}
