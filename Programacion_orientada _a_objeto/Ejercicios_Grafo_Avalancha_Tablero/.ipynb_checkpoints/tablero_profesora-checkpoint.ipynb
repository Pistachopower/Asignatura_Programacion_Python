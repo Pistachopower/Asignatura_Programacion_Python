{
 "cells": [
  {
   "cell_type": "markdown",
   "metadata": {},
   "source": [
    "El juego del 15 consiste en un tablero 4 x 4 en el que las casillas están numeradas con los números del 1 al 15, salvo la casilla inferior derecha, que está vacía (figura 2, izquierda). Los movimientos permitidos consisten en deslizar uno de los números adyacentes al espacio vacío hasta ocupar su lugar, dejando vacante el que aquel ocupaba (figura 2, centro). El objetivo del juego es dejar los quince números ordenados en forma creciente y con el espacio vacío en la misma posición que al inicio (figura 2, derecha).\n",
    "\n",
    "Una clase TableroDel15 con el siguiente atributo público\n",
    "tablero: guarda el tablero del juego como una matriz 4 x 4 cuyos elementos son los números del 1 al 15 y el valor nulo para representar la casilla vacía.\n",
    "y métodos públicos\n",
    "inicializar: inicializa el tablero con la permutación de los números del 1 al 15 especificada (es decir, podemos empezar a partir de cualquier estado inicial, y no solo del indicado en la figura).\n",
    "representar: devuelve una cadena representando el tablero, con cada fila en una línea distinta.\n",
    "obtener_posición_hueco: devuelve una tupla con la fila y columna donde se encuentra el hueco.\n",
    "intercambiar_valores_casillas: intercambia los valores de las casillas especificadas.\n",
    "Una clase JuegoDel15 que herede de la clase anterior y añada los siguientes métodos públicos\n",
    "hueco_arriba, hueco_abajo, hueco_izquierda y hueco_derecha: desplaza, si se puede, el hueco de la manera indicada.\n",
    "comprobar_estado_final: comprueba si se ha alcanzado el objetivo del juego.\n"
   ]
  },
  {
   "cell_type": "code",
   "execution_count": 13,
   "metadata": {},
   "outputs": [],
   "source": [
    "class Tablero_del_15:\n",
    "    def __init__(self, perm_inicial):\n",
    "        self.tablero = []\n",
    "        for i in range(4):\n",
    "            self.tablero.append([None] * 4)  # Crear una matriz vacía de 4x4 (tablero)\n",
    "        for pos in range(len(perm_inicial)):\n",
    "            fila = pos // 4  # Calcular la fila a partir de la posición actual\n",
    "            columna = pos % 4  # Calcular la columna a partir de la posición actual\n",
    "            numero = perm_inicial[pos]  # Obtener el número en la posición actual\n",
    "            self.tablero[fila][columna] = numero  # Asignar el número al tablero en la posición correspondiente\n",
    "\n",
    "    def __str__(self):\n",
    "        representacion = ''\n",
    "        for fila in self.tablero:\n",
    "            representacion += str(fila)  # Convertir la fila en una cadena y agregarla a la representación\n",
    "            representacion += '\\n'  # Agregar un salto de línea después de cada fila\n",
    "        return representacion\n",
    "\n",
    "    def intercambiar_valores_casillas(self, fila1, columna1, fila2, columna2):\n",
    "        valor1 = self.tablero[fila1][columna1]  # Obtener el valor de la primera casilla\n",
    "        valor2 = self.tablero[fila2][columna2]  # Obtener el valor de la segunda casilla\n",
    "        self.tablero[fila1][columna1] = valor2  # Asignar el valor de la segunda casilla a la primera\n",
    "        self.tablero[fila2][columna2] = valor1  # Asignar el valor de la primera casilla a la segunda\n",
    "\n",
    "    def obtener_posicion_hueco(self):\n",
    "        for fila in range(4):\n",
    "            for columna in range(4):\n",
    "                if self.tablero[fila][columna] is None:  # Buscar la posición del hueco (casilla con valor None)\n",
    "                    return (fila, columna)  # Devolver la posición del hueco como una tupla (fila, columna)\n",
    "\n"
   ]
  },
  {
   "cell_type": "code",
   "execution_count": 14,
   "metadata": {},
   "outputs": [],
   "source": [
    "class Juego_del_15(Tablero_del_15):\n",
    "    def hueco_arriba(self):\n",
    "        pos_hueco = self.obtener_posicion_hueco()  # Obtener la posición del hueco\n",
    "        fila = pos_hueco[0]  # Obtener la fila del hueco\n",
    "        columna = pos_hueco[1]  # Obtener la columna del hueco\n",
    "        if fila > 0:  # Verificar si el hueco se puede mover hacia arriba (no está en la primera fila)\n",
    "            self.intercambiar_valores_casillas(fila, columna, fila - 1, columna)  # Intercambiar el hueco con la casilla de arriba\n",
    "\n",
    "    def hueco_abajo(self):\n",
    "        pos_hueco = self.obtener_posicion_hueco()  # Obtener la posición del hueco\n",
    "        fila = pos_hueco[0]  # Obtener la fila del hueco\n",
    "        columna = pos_hueco[1]  # Obtener la columna del hueco\n",
    "        if fila < 3:  # Verificar si el hueco se puede mover hacia abajo (no está en la última fila)\n",
    "            self.intercambiar_valores_casillas(fila, columna, fila + 1, columna)  # Intercambiar el hueco con la casilla de abajo\n",
    "\n",
    "    def hueco_izquierda(self):\n",
    "        pos_hueco = self.obtener_posicion_hueco()  # Obtener la posición del hueco\n",
    "        fila = pos_hueco[0]  # Obtener la fila del hueco\n",
    "        columna = pos_hueco[1]  # Obtener la columna del hueco\n",
    "        if columna > 0:  # Verificar si el hueco se puede mover hacia la izquierda (no está en la primera columna)\n",
    "            self.intercambiar_valores_casillas(fila, columna, fila, columna - 1)  # Intercambiar el hueco con la casilla de la izquierda\n",
    "\n",
    "    def hueco_derecha(self):\n",
    "        pos_hueco = self.obtener_posicion_hueco()  # Obtener la posición del hueco\n",
    "        fila = pos_hueco[0]  # Obtener la fila del hueco\n",
    "        columna = pos_hueco[1]  # Obtener la columna del hueco\n",
    "        if columna < 3:  # Verificar si el hueco se puede mover hacia la derecha (no está en la última columna)\n",
    "            self.intercambiar_valores_casillas(fila, columna, fila, columna + 1)  # Intercambiar el hueco con la casilla de la derecha\n",
    "\n",
    "    def comprobar_estado_final(self):\n",
    "        numeros = []\n",
    "        for fila in range(4):  # Recorrer las filas del tablero\n",
    "            for columna in range(4):  # Recorrer las columnas del tablero\n",
    "                numero = self.tablero[fila][columna]  # Obtener el número en la casilla actual\n",
    "                numeros.append(numero)  # Agregar el número a la lista de números\n",
    "        return numeros == list(range(1, 16)) + [None]  # Comprobar si la lista de números coincide con la secuencia del estado final del juego\n"
   ]
  },
  {
   "cell_type": "code",
   "execution_count": 15,
   "metadata": {},
   "outputs": [
    {
     "name": "stdout",
     "output_type": "stream",
     "text": [
      "False\n",
      "[None, 1, 2, 3]\n",
      "[4, 5, 6, 7]\n",
      "[8, 9, 15, 14]\n",
      "[13, 12, 11, 10]\n",
      "\n"
     ]
    }
   ],
   "source": [
    "\n",
    "J = Juego_del_15([None, 1, 2, 3, 4, 5, 6, 7, 8, 9, 15, 14, 13, 12, 11, 10])\n",
    "\n",
    "# Comprobar si el estado actual del juego es el estado final\n",
    "print(J.comprobar_estado_final())\n",
    "\n",
    "# Imprimir el estado del tablero\n",
    "print(J)"
   ]
  }
 ],
 "metadata": {
  "kernelspec": {
   "display_name": "Python 3 (ipykernel)",
   "language": "python",
   "name": "python3"
  },
  "language_info": {
   "codemirror_mode": {
    "name": "ipython",
    "version": 3
   },
   "file_extension": ".py",
   "mimetype": "text/x-python",
   "name": "python",
   "nbconvert_exporter": "python",
   "pygments_lexer": "ipython3",
   "version": "3.10.6"
  }
 },
 "nbformat": 4,
 "nbformat_minor": 2
}
