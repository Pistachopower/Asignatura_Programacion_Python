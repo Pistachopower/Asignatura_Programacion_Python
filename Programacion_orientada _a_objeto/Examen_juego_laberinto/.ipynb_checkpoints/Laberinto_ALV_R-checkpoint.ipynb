{
 "cells": [
  {
   "cell_type": "markdown",
   "metadata": {
    "id": "hdq_SQHVIwX-"
   },
   "source": [
    "<pre>\n",
    "Una clase Laberinto con los siguientes atributos privados:\n",
    "- jugador: guarda una tupla que contiene la posición actual del jugador en el laberinto.\n",
    "- laberinto: guarda una matriz que representa el laberinto del juego. Cada casilla\n",
    "puede ser 'P' para indicar una pared, 'E' para indicar la entrada y 'S' para indicar lasalida. También puede haber casillas vacías, representadas por un espacio en blanco.\n",
    "y métodos públicos:\n",
    "\n",
    "- inicializar: establece el laberinto inicial del juego, dados su dimensión y la lista de celdas que contienen una pared indicándose con una lista de tuplas. (15%)\n",
    "- representar: devuelve una cadena representando el tablero, con cada fila en una línea distinta. (10%)\n",
    "- modificar_contenido_celda: Modifica el contenido de la celda siempre y cuando el contenido no sea una pared, la entrada o la salida, en estos casos no se pueden modificar el contenido. (10%)\n",
    "- obtener_posicion_jugador: devuelve una tupla con la fila y columna donde se\n",
    "encuentra el jugador. (3%)\n",
    "- obtener_contenido_celda: devuelve el contenido de la celda especificada. (3%)\n",
    "- cambiar_posicion_jugador: modifica la posición del jugador, colocándolo en la posición indicada en caso de que sea posible. (3%)"
   ]
  },
  {
   "cell_type": "code",
   "execution_count": 1,
   "metadata": {
    "executionInfo": {
     "elapsed": 17,
     "status": "ok",
     "timestamp": 1680039222275,
     "user": {
      "displayName": "Encarnación Gago Amado",
      "userId": "16558651867789158851"
     },
     "user_tz": -120
    },
    "id": "VHMIcUIHIwYH"
   },
   "outputs": [],
   "source": [
    "class Laberinto:\n",
    "\n",
    "    def __init__(self,i,j,listapared):\n",
    "        \n",
    "        #definimos la primera y ultima fila de paredes\n",
    "        tablero1 = []\n",
    "        for a in range(i):\n",
    "            aux = []\n",
    "            for b in range(j):\n",
    "                if a == 0:\n",
    "                    aux.append(\"P\")\n",
    "                if a == i-1:\n",
    "                    aux.append(\"P\")\n",
    "                if a != 0 and a != i-1:\n",
    "                    aux.append(\" \")\n",
    "            tablero1.append(aux)\n",
    "        \n",
    "        #definimos las paredes columna\n",
    "        for a in range(i):\n",
    "            for b in range(j):\n",
    "                if b == 0:\n",
    "                    tablero1[a][b] = \"P\"\n",
    "                if b == j-1:\n",
    "                    tablero1[a][b] = \"P\"\n",
    "        \n",
    "        #definimos la entrada y salida\n",
    "        tablero1[0][1] = \"E\"\n",
    "        tablero1[i-2][j-1] = \"S\"\n",
    "\n",
    "        #definimos las paredes interiores\n",
    "        for fila,columna in listapared:\n",
    "            tablero1[fila][columna] = \"P\"\n",
    "        \n",
    "        self.__laberinto = tablero1\n",
    "        self.__jugador = (0,1)\n",
    "\n",
    "    def __str__(self):\n",
    "        representar = \"\"\n",
    "        for a in self.__laberinto:\n",
    "            representar += str(a) + \"\\n\"\n",
    "        return representar\n",
    "\n",
    "\n",
    "    def modificar_contenido_celda(self,i,j,parametro):\n",
    "        if self.__laberinto[i][j] == \"P\" or self.__laberinto[\n",
    "            i][j] == \"E\" or self.__laberinto[i][j] == \"S\":\n",
    "             raise Exception(\"No podemos modificar la casilla\")\n",
    "        else:\n",
    "            self.__laberinto[i][j] = parametro\n",
    "    \n",
    "    def obtener_posicion_jugador(self):\n",
    "        return self.__jugador\n",
    "    \n",
    "    def obtener_contenido_celda(self,i,j):\n",
    "        return self.__laberinto[i][j]\n",
    "    \n",
    "    def cambiar_posicion_jugador(self,i,j):\n",
    "        if self.__laberinto[i][j] == \"P\":\n",
    "            raise Exception(\"No podemos modificar la posicion del jugador\")\n",
    "        else:\n",
    "            self.__jugador = (i,j)\n",
    "\n",
    "\n",
    "\n",
    "\n",
    "\n",
    "\n",
    "\n",
    "\n",
    "class JuegoDelLaberinto(Laberinto):\n",
    "\n",
    "    def __init__(self,i,j,listapared,listamonstruos):\n",
    "        super().__init__(i,j,listapared)\n",
    "        for a,b in listamonstruos:\n",
    "            self.modificar_contenido_celda(a,b,\"M\")\n",
    "        \n",
    "    \n",
    "    def mover_abajo(self):\n",
    "        \n",
    "        if self.obtener_contenido_celda(self.obtener_posicion_jugador(\n",
    "        )[0]+1,self.obtener_posicion_jugador()[1]) == \"P\":\n",
    "            print(\"No podemos mover el jugador\")\n",
    "\n",
    "        elif self.obtener_contenido_celda(self.obtener_posicion_jugador(\n",
    "        )[0]+1,self.obtener_posicion_jugador()[1]) == \"M\":\n",
    "            self.modificar_contenido_celda(self.obtener_posicion_jugador(\n",
    "            )[0],self.obtener_posicion_jugador()[1],\" \")\n",
    "            self.cambiar_posicion_jugador(0,1)\n",
    "            \n",
    "\n",
    "        else:\n",
    "            if self.obtener_contenido_celda(self.obtener_posicion_jugador(\n",
    "            )[0],self.obtener_posicion_jugador()[1]) == \"J\":\n",
    "                self.modificar_contenido_celda(self.obtener_posicion_jugador(\n",
    "                )[0],self.obtener_posicion_jugador()[1],\" \")\n",
    "            self.cambiar_posicion_jugador(self.obtener_posicion_jugador(\n",
    "            )[0]+1,self.obtener_posicion_jugador()[1])\n",
    "            jugador = self.obtener_posicion_jugador()\n",
    "            self.modificar_contenido_celda(jugador[0],jugador[1],\"J\") \n",
    "        \n",
    "    def mover_arriba(self):\n",
    "        if self.obtener_contenido_celda(self.obtener_posicion_jugador(\n",
    "        )[0]-1,self.obtener_posicion_jugador()[1]) == \"P\":\n",
    "            print(\"No podemos mover el jugador\")\n",
    "\n",
    "        elif self.obtener_contenido_celda(self.obtener_posicion_jugador(\n",
    "        )[0]-1,self.obtener_posicion_jugador()[1]) == \"M\":\n",
    "            self.modificar_contenido_celda(self.obtener_posicion_jugador(\n",
    "            )[0],self.obtener_posicion_jugador()[1],\" \")\n",
    "            self.cambiar_posicion_jugador(0,1)\n",
    "            \n",
    "\n",
    "        else:\n",
    "            if self.obtener_contenido_celda(self.obtener_posicion_jugador(\n",
    "            )[0],self.obtener_posicion_jugador()[1]) == \"J\":\n",
    "                self.modificar_contenido_celda(self.obtener_posicion_jugador(\n",
    "                )[0],self.obtener_posicion_jugador()[1],\" \")\n",
    "            self.cambiar_posicion_jugador(self.obtener_posicion_jugador(\n",
    "            )[0]-1,self.obtener_posicion_jugador()[1])\n",
    "            jugador = self.obtener_posicion_jugador()\n",
    "            self.modificar_contenido_celda(jugador[0],jugador[1],\"J\") \n",
    "\n",
    "    def mover_izquierda(self):\n",
    "        if self.obtener_contenido_celda(self.obtener_posicion_jugador(\n",
    "\n",
    "        )[0],self.obtener_posicion_jugador()[1]-1) == \"P\":\n",
    "            print(\"No podemos mover el jugador\")\n",
    "\n",
    "        elif self.obtener_contenido_celda(self.obtener_posicion_jugador(\n",
    "\n",
    "        )[0],self.obtener_posicion_jugador()[1]-1) == \"M\":\n",
    "            self.modificar_contenido_celda(self.obtener_posicion_jugador(\n",
    "\n",
    "            )[0],self.obtener_posicion_jugador()[1],\" \")\n",
    "            self.cambiar_posicion_jugador(0,1)\n",
    "\n",
    "        else:\n",
    "            if self.obtener_contenido_celda(self.obtener_posicion_jugador(\n",
    "\n",
    "            )[0],self.obtener_posicion_jugador()[1]) == \"J\":\n",
    "                self.modificar_contenido_celda(self.obtener_posicion_jugador(\n",
    "                )[0],self.obtener_posicion_jugador()[1],\" \")\n",
    "            self.cambiar_posicion_jugador(self.obtener_posicion_jugador(\n",
    "\n",
    "            )[0],self.obtener_posicion_jugador()[1]-1)\n",
    "\n",
    "            jugador = self.obtener_posicion_jugador()\n",
    "            self.modificar_contenido_celda(jugador[0],jugador[1],\"J\") \n",
    "\n",
    "    def mover_derecha(self):\n",
    "        if self.obtener_contenido_celda(self.obtener_posicion_jugador(\n",
    "\n",
    "        )[0],self.obtener_posicion_jugador()[1]+1) == \"P\":\n",
    "            print(\"No podemos mover el jugador\")\n",
    "\n",
    "        elif self.obtener_contenido_celda(self.obtener_posicion_jugador(\n",
    "\n",
    "        )[0],self.obtener_posicion_jugador()[1]+1) == \"M\":\n",
    "            self.modificar_contenido_celda(self.obtener_posicion_jugador(\n",
    "\n",
    "            )[0],self.obtener_posicion_jugador()[1],\" \")\n",
    "            self.cambiar_posicion_jugador(0,1)\n",
    "            \n",
    "        else:\n",
    "            if self.obtener_contenido_celda(self.obtener_posicion_jugador(\n",
    "\n",
    "            )[0],self.obtener_posicion_jugador()[1]) == \"J\":\n",
    "                self.modificar_contenido_celda(self.obtener_posicion_jugador(\n",
    "\n",
    "                )[0],self.obtener_posicion_jugador()[1],\" \")\n",
    "            self.cambiar_posicion_jugador(self.obtener_posicion_jugador(\n",
    "                \n",
    "            )[0],self.obtener_posicion_jugador()[1]+1)\n",
    "            \n",
    "            jugador = self.obtener_posicion_jugador()\n",
    "            \n",
    "            if self.obtener_contenido_celda(jugador[0],jugador[1]) == \"S\":\n",
    "                print(\"¡Enhorabuena, ha conseguido salir del laberinto!\") \n",
    "            else:    \n",
    "                self.modificar_contenido_celda(jugador[0],jugador[1],\"J\") \n",
    "            "
   ]
  },
  {
   "cell_type": "code",
   "execution_count": 2,
   "metadata": {
    "colab": {
     "base_uri": "https://localhost:8080/"
    },
    "executionInfo": {
     "elapsed": 223,
     "status": "ok",
     "timestamp": 1680039239553,
     "user": {
      "displayName": "Encarnación Gago Amado",
      "userId": "16558651867789158851"
     },
     "user_tz": -120
    },
    "id": "epFH24joIwYT",
    "outputId": "0cea692b-761b-4cac-8603-824a91408651"
   },
   "outputs": [
    {
     "name": "stdout",
     "output_type": "stream",
     "text": [
      "['P', 'E', 'P', 'P', 'P', 'P']\n",
      "['P', ' ', 'P', 'P', ' ', 'P']\n",
      "['P', ' ', ' ', ' ', 'P', 'P']\n",
      "['P', ' ', ' ', 'P', ' ', 'P']\n",
      "['P', ' ', ' ', ' ', ' ', 'P']\n",
      "['P', ' ', ' ', ' ', ' ', 'S']\n",
      "['P', 'P', 'P', 'P', 'P', 'P']\n",
      "\n"
     ]
    },
    {
     "data": {
      "text/plain": [
       "' '"
      ]
     },
     "execution_count": 2,
     "metadata": {},
     "output_type": "execute_result"
    }
   ],
   "source": [
    "l1 = Laberinto(7,6,[(3,3),(1,3),(2,4),(1,2)])\n",
    "print(l1)\n",
    "l1.obtener_posicion_jugador()\n",
    "l1.obtener_contenido_celda(1,1)\n",
    "#l1.cambiar_posicion_jugador(1,1)\n",
    "#l1.obtener_posicion_jugador()"
   ]
  },
  {
   "cell_type": "code",
   "execution_count": 3,
   "metadata": {
    "colab": {
     "base_uri": "https://localhost:8080/"
    },
    "executionInfo": {
     "elapsed": 206,
     "status": "ok",
     "timestamp": 1680039261648,
     "user": {
      "displayName": "Encarnación Gago Amado",
      "userId": "16558651867789158851"
     },
     "user_tz": -120
    },
    "id": "8w0eVBfgJGQo",
    "outputId": "5ddd5d4c-5b84-444f-db37-26f564640613"
   },
   "outputs": [
    {
     "data": {
      "text/plain": [
       "(0, 1)"
      ]
     },
     "execution_count": 3,
     "metadata": {},
     "output_type": "execute_result"
    }
   ],
   "source": [
    "l1.obtener_posicion_jugador()"
   ]
  },
  {
   "cell_type": "code",
   "execution_count": 4,
   "metadata": {
    "colab": {
     "base_uri": "https://localhost:8080/"
    },
    "executionInfo": {
     "elapsed": 191,
     "status": "ok",
     "timestamp": 1680039332655,
     "user": {
      "displayName": "Encarnación Gago Amado",
      "userId": "16558651867789158851"
     },
     "user_tz": -120
    },
    "id": "eToB3PJeIwYW",
    "outputId": "74f35c11-0079-4ab2-ba89-a77b68febd53"
   },
   "outputs": [
    {
     "name": "stdout",
     "output_type": "stream",
     "text": [
      "['P', 'E', 'P', 'P', 'P', 'P']\n",
      "['P', ' ', 'P', 'P', ' ', 'P']\n",
      "['P', ' ', 'M', ' ', 'P', 'P']\n",
      "['P', ' ', ' ', 'P', ' ', 'P']\n",
      "['P', ' ', ' ', 'M', ' ', 'P']\n",
      "['P', ' ', ' ', ' ', ' ', 'S']\n",
      "['P', 'P', 'P', 'P', 'P', 'P']\n",
      "\n"
     ]
    }
   ],
   "source": [
    "l1 = JuegoDelLaberinto(7,6,[(3,3),(1,3),(2,4),(1,2)],[(2,2),(4,3)])\n",
    "print(l1)\n"
   ]
  },
  {
   "cell_type": "code",
   "execution_count": 5,
   "metadata": {
    "colab": {
     "base_uri": "https://localhost:8080/"
    },
    "executionInfo": {
     "elapsed": 202,
     "status": "ok",
     "timestamp": 1680039354646,
     "user": {
      "displayName": "Encarnación Gago Amado",
      "userId": "16558651867789158851"
     },
     "user_tz": -120
    },
    "id": "G_IxkdCDJdb3",
    "outputId": "b2bdc4af-051a-4b4c-d83d-e2b5ce960916"
   },
   "outputs": [
    {
     "data": {
      "text/plain": [
       "(0, 1)"
      ]
     },
     "execution_count": 5,
     "metadata": {},
     "output_type": "execute_result"
    }
   ],
   "source": [
    "l1.obtener_posicion_jugador()"
   ]
  },
  {
   "cell_type": "code",
   "execution_count": 6,
   "metadata": {
    "colab": {
     "base_uri": "https://localhost:8080/"
    },
    "executionInfo": {
     "elapsed": 4,
     "status": "ok",
     "timestamp": 1680039473751,
     "user": {
      "displayName": "Encarnación Gago Amado",
      "userId": "16558651867789158851"
     },
     "user_tz": -120
    },
    "id": "mQdbDVJMJjPr",
    "outputId": "a5dc681a-d651-45cc-e7d9-f604a222106b"
   },
   "outputs": [
    {
     "name": "stdout",
     "output_type": "stream",
     "text": [
      "['P', 'E', 'P', 'P', 'P', 'P']\n",
      "['P', 'J', 'P', 'P', ' ', 'P']\n",
      "['P', ' ', 'M', ' ', 'P', 'P']\n",
      "['P', ' ', ' ', 'P', ' ', 'P']\n",
      "['P', ' ', ' ', 'M', ' ', 'P']\n",
      "['P', ' ', ' ', ' ', ' ', 'S']\n",
      "['P', 'P', 'P', 'P', 'P', 'P']\n",
      "\n"
     ]
    }
   ],
   "source": [
    "l1.mover_abajo()\n",
    "print(l1)"
   ]
  },
  {
   "cell_type": "code",
   "execution_count": 7,
   "metadata": {
    "colab": {
     "base_uri": "https://localhost:8080/"
    },
    "executionInfo": {
     "elapsed": 12,
     "status": "ok",
     "timestamp": 1680039227311,
     "user": {
      "displayName": "Encarnación Gago Amado",
      "userId": "16558651867789158851"
     },
     "user_tz": -120
    },
    "id": "qG5JgE1BIwYY",
    "outputId": "fe7a3a80-810f-4f71-e23d-a05bad2a9727"
   },
   "outputs": [
    {
     "name": "stdout",
     "output_type": "stream",
     "text": [
      "['P', 'E', 'P', 'P', 'P', 'P']\n",
      "['P', ' ', 'P', 'P', ' ', 'P']\n",
      "['P', ' ', 'M', ' ', 'P', 'P']\n",
      "['P', ' ', ' ', 'P', ' ', 'P']\n",
      "['P', ' ', ' ', 'M', ' ', 'P']\n",
      "['P', ' ', ' ', ' ', ' ', 'S']\n",
      "['P', 'P', 'P', 'P', 'P', 'P']\n",
      "\n",
      "¡Enhorabuena, ha conseguido salir del laberinto!\n"
     ]
    }
   ],
   "source": [
    "l1 = JuegoDelLaberinto(7,6,[(3,3),(1,3),(2,4),(1,2)],[(2,2),(4,3)])\n",
    "print(l1)\n",
    "l1.mover_abajo()\n",
    "l1.mover_abajo()\n",
    "l1.mover_abajo()\n",
    "l1.mover_abajo()\n",
    "l1.mover_abajo()\n",
    "l1.mover_derecha()\n",
    "l1.mover_derecha()\n",
    "l1.mover_derecha()\n",
    "l1.mover_derecha()\n",
    "#l1.mover_izquierda()\n",
    "#print(l1)\n",
    "#l1.mover_arriba()\n",
    "#print(l1)\n"
   ]
  },
  {
   "cell_type": "code",
   "execution_count": 8,
   "metadata": {
    "id": "rgZyv72HIwYZ",
    "outputId": "c9bed20a-7ff2-4f25-c75f-668f9c1cfb6b"
   },
   "outputs": [
    {
     "name": "stdout",
     "output_type": "stream",
     "text": [
      "[['P', 'P', 'P', 'P', 'P', 'P'], ['P', ' ', ' ', ' ', ' ', 'P'], ['P', ' ', ' ', ' ', ' ', 'P'], ['P', ' ', ' ', ' ', ' ', 'P'], ['P', ' ', ' ', ' ', ' ', 'P'], ['P', ' ', ' ', ' ', ' ', 'P'], ['P', 'P', 'P', 'P', 'P', 'P']]\n"
     ]
    }
   ],
   "source": [
    "i = 7\n",
    "j = 6    \n",
    "tablero1 = []\n",
    "for a in range(i):\n",
    "    aux = []\n",
    "    for b in range(j):\n",
    "        if a == 0:\n",
    "            aux.append(\"P\")\n",
    "        if a == i-1:\n",
    "            aux.append(\"P\")\n",
    "        if a != 0 and a != i-1:\n",
    "            aux.append(\" \")\n",
    "    tablero1.append(aux)\n",
    "\n",
    "for a in range(i):\n",
    "    for b in range(j):\n",
    "        if b == 0:\n",
    "            tablero1[a][b] = \"P\"\n",
    "        if b == j-1:\n",
    "            tablero1[a][b] = \"P\"\n",
    "print(tablero1)"
   ]
  }
 ],
 "metadata": {
  "colab": {
   "provenance": []
  },
  "kernelspec": {
   "display_name": "Python 3 (ipykernel)",
   "language": "python",
   "name": "python3"
  },
  "language_info": {
   "codemirror_mode": {
    "name": "ipython",
    "version": 3
   },
   "file_extension": ".py",
   "mimetype": "text/x-python",
   "name": "python",
   "nbconvert_exporter": "python",
   "pygments_lexer": "ipython3",
   "version": "3.10.6"
  }
 },
 "nbformat": 4,
 "nbformat_minor": 1
}
