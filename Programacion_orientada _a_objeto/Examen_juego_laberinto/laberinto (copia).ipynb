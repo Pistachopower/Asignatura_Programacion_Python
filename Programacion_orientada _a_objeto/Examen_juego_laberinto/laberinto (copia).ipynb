{
 "cells": [
  {
   "attachments": {},
   "cell_type": "markdown",
   "metadata": {},
   "source": [
    "El juego del laberinto consiste en un tablero con celdas que representan un laberinto, donde el jugador debe desplazarse desde la celda de entrada hasta la celda de salida. En el tablero también hay celdas que representan una pared, que impiden el paso del jugador, y celdas que representan pasillos, que permiten el paso del jugador. El jugador puede desplazarse en pasos de uno (arriba, abajo, izquierda o derecha) siempre que sea posible. El juego se inicia siempre con el jugador en la celda de entrada, que siempre es la (0,1) y termina cuando el jugador llega a la celda de salida, que siempre está en la penúltima fila y última columna. El resto de celdas que están en la primera fila y columna o en la última fila y columna son celdas “pared”. Además puede haber más paredes en el resto de celdas. También puede haber celdas que contienen un monstruo y si un jugador entra en una celda con un monstruo entonces vuelve a la celda de entrada.\n",
    "\n",
    "Un jugador nunca se podrá mover a una celda donde el contenido es una pared.\n",
    "\n",
    "La dimensión del tablero y la distribución de los pasillos, paredes y  monstruos es variable, se configura al iniciar el juego.\n"
   ]
  },
  {
   "attachments": {},
   "cell_type": "markdown",
   "metadata": {},
   "source": [
    "Ejemplos de tableros de inicio:\n",
    "tablero 6 filas * 9 columnas\n",
    "['P', 'E', 'P', 'P', 'P', 'P', 'P', 'P', 'P']\n",
    "['P', ' ', 'M', ' ', ' ', ' ', ' ', ' ', 'P']\n",
    "['P', ' ', 'P', 'P', 'P', 'P', ' ', 'M', 'P']\n",
    "['P', ' ', ' ', ' ', ' ', 'M', 'P', ' ', 'P']\n",
    "['P', 'M', 'P', 'M', ' ', ' ', ' ', ' ', 'S']\n",
    "['P', 'P', 'P', 'P', 'P', 'P', 'P', 'P', 'P']\n"
   ]
  },
  {
   "attachments": {},
   "cell_type": "markdown",
   "metadata": {},
   "source": [
    "Implementar en python un programa que declare las clases de objetos indicadas:\n",
    "\n",
    "Una clase Laberinto con los siguientes atributos privados:\n",
    "jugador: guarda una tupla que contiene la posición actual del jugador en el laberinto.\n",
    "laberinto: guarda una matriz que representa el laberinto del juego. Cada casilla puede ser 'P' para indicar una pared, 'E' para indicar la entrada y 'S' para indicar la salida o ‘J’ para indicar cuál es la posición del jugador. También puede haber casillas vacías, representadas por un espacio en blanco.\n",
    "\n",
    "y métodos públicos:\n",
    "\n",
    "inicializar: establece el laberinto inicial del juego, dados su dimensión  y la lista de celdas que contienen una pared indicándose con una lista de tuplas. (15%)\n",
    "\n",
    "representar: devuelve una cadena representando el tablero, con cada fila en una línea distinta. (10%)\n",
    "\n",
    "modificar_contenido_celda: Modifica el contenido de la celda siempre y cuando el contenido no sea una pared, la entrada o la salida, en estos casos no se pueden modificar el contenido. (10%)\n",
    "\n",
    "obtener_posicion_jugador: devuelve una tupla con la fila y columna donde se encuentra el jugador. (3%)\n",
    "\n",
    "obtener_contenido_celda: devuelve el contenido de la celda especificada. (3%)\n",
    "\n",
    "cambiar_posicion_jugador: modifica la posición del jugador, colocándolo en la posición indicada en caso de que sea posible. (9%)\n"
   ]
  },
  {
   "cell_type": "code",
   "execution_count": 120,
   "metadata": {},
   "outputs": [],
   "source": [
    "class Laberinto:\n",
    "    def __init__(self, posicion_jugador):\n",
    "        self.__jugador = posicion_jugador\n",
    "        self.__laberinto = [\n",
    "            ['P', 'E', 'P', 'P', 'P', 'P', 'P', 'P', 'P'],\n",
    "            ['P', ' ', 'M', ' ', ' ', ' ', ' ', ' ', 'P'],\n",
    "            ['P', ' ', 'P', 'P', 'P', 'P', ' ', 'M', 'P'],\n",
    "            ['P', ' ', ' ', ' ', ' ', 'M', 'P', ' ', 'P'],\n",
    "            ['P', 'M', 'P', 'M', ' ', ' ', ' ', ' ', 'S'],\n",
    "            ['P', 'P', 'P', 'P', 'P', 'P', 'P', 'P', 'P']\n",
    "        ]\n",
    "\n",
    "               \n",
    "    def __str__(self):\n",
    "        representar= ''\n",
    "        for i in self.__laberinto:\n",
    "            representar+= str(i) + '\\n'\n",
    "        return representar\n",
    "\n",
    "    def modificar_contenido_celda(self, fila, columna, contenido):\n",
    "        if self.__laberinto[fila][columna] not in ['P', 'E','S']:\n",
    "            self.__laberinto[fila][columna] = contenido\n",
    "        else:\n",
    "            raise Exception('<<No es posible modificar el contenido>>')\n",
    "\n",
    "    def obtener_posicion_jugador(self):\n",
    "        return self.__jugador\n",
    "    \n",
    "    def obtener_contenido_celda(self, fila, columna):\n",
    "        return self.__laberinto[fila][columna]\n",
    "\n",
    "    def cambiar_posicion_jugador(self, fila, columna):\n",
    "        if self.__laberinto[fila][columna] not in ['P','S']:\n",
    "            self.__jugador= (fila, columna)\n",
    "        else:\n",
    "            raise Exception('No está permitida cambiar a esa posición')\n",
    " "
   ]
  },
  {
   "cell_type": "code",
   "execution_count": 123,
   "metadata": {},
   "outputs": [
    {
     "data": {
      "text/plain": [
       "(1, 1)"
      ]
     },
     "execution_count": 123,
     "metadata": {},
     "output_type": "execute_result"
    }
   ],
   "source": [
    "a= Laberinto((0,1))\n",
    "#print(a)\n",
    "#a.modificar_contenido_celda(0,0,'nelson')\n",
    "#a.obtener_posicion_jugador()\n",
    "#a.obtener_contenido_celda(4,8)\n",
    "\n",
    "a.cambiar_posicion_jugador(1,1)\n",
    "#print(a)\n",
    "a.obtener_posicion_jugador()\n"
   ]
  },
  {
   "attachments": {},
   "cell_type": "markdown",
   "metadata": {},
   "source": [
    "Una Clase JuegoDelLaberinto que herede de la clase anterior y añada los métodos públicos:\n",
    "inicializar: extienda este método de tal forma que permita indicar en qué celda se deben colocar los monstruos y modificar el contenido de dichas celdas indicando con una ‘M’ dónde hay un monstruo. (10%)\n",
    "mover_abajo, mover_arriba, mover_izquierda y mover_derecha. Si es posible, mover al jugador en la dirección indicada respectivamente. En cada método indicar una excepción cuando no sea posible realizar un movimiento y mostrar el mensaje '¡Enhorabuena, ha conseguido salir del laberinto!' cuando el jugador consiga llegar a la celda de salida. Tener en cuenta las normas del juego indicadas en el enunciado para cada movimiento. (10% respectivamente)\n",
    "\n"
   ]
  },
  {
   "cell_type": "code",
   "execution_count": 4,
   "metadata": {},
   "outputs": [],
   "source": [
    "class JuegoDelLaberinto(Laberinto):\n",
    "    def inicializar(self, dimension, paredes, monstruos):\n",
    "        super().inicializar(dimension, paredes)\n",
    "        for fila, columna in monstruos:\n",
    "            self.modificar_contenido_celda(fila, columna, 'M')\n",
    "\n",
    "    def mover_abajo(self):\n",
    "        jugador_fila, jugador_columna = self.obtener_posicion_jugador()\n",
    "        if jugador_fila < len(self._Laberinto__laberinto) - 1 and self._Laberinto__laberinto[jugador_fila + 1][jugador_columna] != 'P':\n",
    "            self.cambiar_posicion_jugador(jugador_fila + 1, jugador_columna)\n",
    "            if self._Laberinto__laberinto[jugador_fila + 1][jugador_columna] == 'S':\n",
    "                raise Exception('¡Enhorabuena, ha conseguido salir del laberinto!')\n",
    "\n",
    "    def mover_arriba(self):\n",
    "        jugador_fila, jugador_columna = self.obtener_posicion_jugador()\n",
    "        if jugador_fila > 0 and self._Laberinto__laberinto[jugador_fila - 1][jugador_columna] != 'P':\n",
    "            self.cambiar_posicion_jugador(jugador_fila - 1, jugador_columna)\n",
    "            if self._Laberinto__laberinto[jugador_fila - 1][jugador_columna] == 'S':\n",
    "                raise Exception('¡Enhorabuena, ha conseguido salir del laberinto!')\n",
    "\n",
    "    def mover_izquierda(self):\n",
    "        jugador_fila, jugador_columna = self.obtener_posicion_jugador()\n",
    "        if jugador_columna > 0 and self._Laberinto__laberinto[jugador_fila][jugador_columna - 1] != 'P':\n",
    "            self.cambiar_posicion_jugador(jugador_fila, jugador_columna - 1)\n",
    "            if self._Laberinto__laberinto[jugador_fila][jugador_columna - 1] == 'S':\n",
    "                raise Exception('¡Enhorabuena, ha conseguido salir del laberinto!')\n",
    "\n",
    "        "
   ]
  }
 ],
 "metadata": {
  "kernelspec": {
   "display_name": "Python 3",
   "language": "python",
   "name": "python3"
  },
  "language_info": {
   "codemirror_mode": {
    "name": "ipython",
    "version": 3
   },
   "file_extension": ".py",
   "mimetype": "text/x-python",
   "name": "python",
   "nbconvert_exporter": "python",
   "pygments_lexer": "ipython3",
   "version": "3.10.6"
  },
  "orig_nbformat": 4
 },
 "nbformat": 4,
 "nbformat_minor": 2
}
