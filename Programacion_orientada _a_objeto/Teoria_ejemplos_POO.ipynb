{
 "cells": [
  {
   "attachments": {},
   "cell_type": "markdown",
   "metadata": {},
   "source": [
    "CONSTRUCTOR"
   ]
  },
  {
   "attachments": {},
   "cell_type": "markdown",
   "metadata": {},
   "source": [
    "En Python, un constructor es un método especial que se llama automáticamente cuando se crea una instancia de una clase. El constructor se define dentro de la clase y tiene el mismo nombre que la clase.\n",
    "\n",
    "El propósito del constructor es inicializar los atributos de la instancia de la clase. Esto se hace asignando valores iniciales a los atributos de la instancia utilizando la palabra clave self.\n",
    "\n",
    "La sintaxis básica de un constructor en Python es la siguiente:"
   ]
  },
  {
   "cell_type": "code",
   "execution_count": null,
   "metadata": {},
   "outputs": [],
   "source": [
    "class MiClase:\n",
    "    def __init__(self, arg1, arg2, ...):\n",
    "        self.atributo1 = arg1\n",
    "        self.atributo2 = arg2\n",
    "        ...\n"
   ]
  },
  {
   "attachments": {},
   "cell_type": "markdown",
   "metadata": {},
   "source": [
    "En este ejemplo, MiClase es el nombre de la clase y __init__() es el nombre del constructor. Los argumentos arg1, arg2, etc. son los valores que se utilizan para inicializar los atributos de la instancia de la clase. Dentro del constructor, estos valores se asignan a los atributos de la instancia utilizando la sintaxis self.atributo = valor.\n",
    "\n",
    "Cuando se crea una instancia de la clase utilizando la sintaxis mi_instancia = MiClase(arg1, arg2, ...), Python automáticamente llama al constructor y pasa los argumentos arg1, arg2, etc. como parámetros."
   ]
  },
  {
   "attachments": {},
   "cell_type": "markdown",
   "metadata": {},
   "source": [
    "El constructor en Python, que se define utilizando el método especial __init__(), generalmente debe colocarse al principio de la clase, antes de cualquier otro método o atributo.\n",
    "\n",
    "Esto se debe a que el constructor es el método que se llama automáticamente cuando se crea una instancia de la clase, y su propósito es inicializar los atributos de la instancia. Por lo tanto, es importante que el constructor esté definido antes de cualquier otro método que utilice los atributos de la instancia.\n",
    "\n",
    "Además, colocar el constructor al principio de la clase es una convención común y recomendada en Python, lo que ayuda a mejorar la legibilidad y la comprensión del código.\n",
    "\n",
    "Sin embargo, es importante tener en cuenta que Python no impone esta regla de manera estricta. Es posible definir el constructor en cualquier lugar dentro de la clase, y Python seguirá funcionando correctamente siempre y cuando el constructor esté definido antes de que se llame a él al crear una instancia de la clase. Sin embargo, es mejor seguir la convención común de colocar el constructor al principio de la clase."
   ]
  },
  {
   "attachments": {},
   "cell_type": "markdown",
   "metadata": {},
   "source": [
    "ENCAPSULAMIENTO"
   ]
  },
  {
   "attachments": {},
   "cell_type": "markdown",
   "metadata": {},
   "source": [
    "El encapsulamiento es importante en la programación orientada a objetos porque permite ocultar los detalles internos de una clase y proporcionar una interfaz bien definida y controlada para interactuar con los objetos de esa clase. Esto ayuda a mejorar la modularidad, la flexibilidad y la seguridad del código, al reducir el acoplamiento entre diferentes partes del código y al prevenir que los objetos sean manipulados de manera inapropiada.\n",
    "\n",
    "Un ejemplo de la vida real del encapsulamiento podría ser un sistema de control de acceso a una habitación o edificio. En este sistema, cada usuario tiene una tarjeta de acceso que contiene información como su nombre y su nivel de autorización. Cuando el usuario quiere entrar a la habitación o edificio, debe presentar su tarjeta de acceso a un lector de tarjetas. Si la tarjeta es válida y tiene suficientes permisos, el sistema abrirá la puerta para que el usuario pueda entrar.\n",
    "\n",
    "En este ejemplo, la clase TarjetaDeAcceso podría tener atributos como el nombre del usuario, el número de tarjeta y el nivel de autorización, y métodos para validar la tarjeta y obtener los atributos de la tarjeta. Sin embargo, estos detalles internos de la clase no son relevantes para el usuario que está intentando entrar al edificio, que solo necesita saber cómo usar la tarjeta de acceso correctamente.\n",
    "\n",
    "Gracias al encapsulamiento, el sistema de control de acceso puede ocultar los detalles internos de la clase TarjetaDeAcceso y proporcionar una interfaz bien definida y controlada para que los usuarios interactúen con las tarjetas de acceso de manera segura y eficiente. De esta manera, se reduce el acoplamiento entre diferentes partes del sistema y se mejora la modularidad, la flexibilidad y la seguridad del código en general."
   ]
  },
  {
   "attachments": {},
   "cell_type": "markdown",
   "metadata": {},
   "source": [
    "En Python, el encapsulamiento se puede lograr mediante la convención de nomenclatura de atributos y métodos de una clase. El objetivo del encapsulamiento es ocultar los detalles de implementación de una clase y proteger sus atributos y métodos de accesos no autorizados desde fuera de la clase.\n",
    "\n",
    "Aquí hay un ejemplo sencillo de encapsulamiento en Python:"
   ]
  },
  {
   "cell_type": "code",
   "execution_count": null,
   "metadata": {},
   "outputs": [],
   "source": [
    "class Persona:\n",
    "    def __init__(self, nombre, edad):\n",
    "        self.__nombre = nombre\n",
    "        self.__edad = edad\n",
    "\n",
    "    def get_nombre(self):\n",
    "        return self.__nombre\n",
    "\n",
    "    def set_nombre(self, nuevo_nombre):\n",
    "        self.__nombre = nuevo_nombre\n",
    "\n",
    "    def get_edad(self):\n",
    "        return self.__edad\n",
    "\n",
    "    def set_edad(self, nueva_edad):\n",
    "        self.__edad = nueva_edad\n"
   ]
  },
  {
   "attachments": {},
   "cell_type": "markdown",
   "metadata": {},
   "source": [
    "En este ejemplo, la clase Persona tiene dos atributos privados, __nombre y __edad, que están protegidos de accesos no autorizados desde fuera de la clase. Los métodos get_nombre(), set_nombre(), get_edad(), y set_edad() se utilizan para obtener y establecer los valores de estos atributos.\n",
    "\n",
    "El prefijo de doble guión bajo (__) indica que estos atributos son privados y no deben ser accedidos directamente desde fuera de la clase. Sin embargo, Python no tiene verdadero soporte para la privacidad, y los atributos pueden ser accedidos desde fuera de la clase mediante una convención de nomenclatura especial que agrega el nombre de la clase y el prefijo de doble guión bajo al atributo (_Persona__nombre y _Persona__edad).\n",
    "\n",
    "El encapsulamiento también puede aplicarse a los métodos de una clase, aunque esto no se muestra en el ejemplo anterior. En general, se recomienda que los atributos y métodos de una clase sean públicos solo si es absolutamente necesario, y que se utilice el encapsulamiento para proteger el estado y el comportamiento de la clase."
   ]
  },
  {
   "cell_type": "code",
   "execution_count": null,
   "metadata": {},
   "outputs": [],
   "source": [
    "class CuentaBancaria:\n",
    "    def __init__(self, titular, saldo):\n",
    "        self.__titular = titular\n",
    "        self.__saldo = saldo\n",
    "\n",
    "    def get_saldo(self):\n",
    "        return self.__saldo\n",
    "\n",
    "    def depositar(self, cantidad):\n",
    "        self.__saldo += cantidad\n",
    "\n",
    "    def retirar(self, cantidad):\n",
    "        if self.__saldo >= cantidad:\n",
    "            self.__saldo -= cantidad\n",
    "            return cantidad\n",
    "        else:\n",
    "            print(\"No hay suficiente saldo disponible\")\n",
    "            return 0\n"
   ]
  },
  {
   "attachments": {},
   "cell_type": "markdown",
   "metadata": {},
   "source": [
    "En este ejemplo, la clase CuentaBancaria tiene dos atributos privados, __titular y __saldo, que están protegidos de accesos no autorizados desde fuera de la clase. Los métodos get_saldo(), depositar(), y retirar() se utilizan para obtener y establecer los valores de estos atributos.\n",
    "\n",
    "El método depositar() aumenta el saldo de la cuenta bancaria en una cantidad dada, mientras que el método retirar() disminuye el saldo en una cantidad dada, siempre y cuando haya suficiente saldo disponible. Si no hay suficiente saldo disponible, el método retirar() no hace nada y devuelve 0.\n",
    "\n",
    "En este ejemplo, el encapsulamiento es importante porque protege el estado interno de la cuenta bancaria y evita que los datos internos sean modificados o accedidos directamente desde fuera de la clase. Además, el encapsulamiento permite que la interfaz de la clase (get_saldo(), depositar(), y retirar()) sea clara y consistente para otros objetos que utilizan la clase, lo que hace que sea más fácil para otros objetos interactuar con la cuenta bancaria de manera segura y predecible."
   ]
  },
  {
   "attachments": {},
   "cell_type": "markdown",
   "metadata": {},
   "source": [
    "En el ejemplo anterior, el objeto es una instancia de la clase CuentaBancaria. Por ejemplo, podríamos crear una instancia de esta clase y asignarla a una variable llamada mi_cuenta de la siguiente manera:"
   ]
  },
  {
   "cell_type": "code",
   "execution_count": null,
   "metadata": {},
   "outputs": [],
   "source": [
    "mi_cuenta = CuentaBancaria(\"Juan Perez\", 1000)\n"
   ]
  },
  {
   "attachments": {},
   "cell_type": "markdown",
   "metadata": {},
   "source": [
    "En este caso, mi_cuenta es un objeto de la clase CuentaBancaria que tiene un titular \"Juan Perez\" y un saldo inicial de 1000. Podemos utilizar los métodos de esta instancia para depositar y retirar dinero, y para obtener el saldo actual de la cuenta, por ejemplo:"
   ]
  },
  {
   "cell_type": "code",
   "execution_count": null,
   "metadata": {},
   "outputs": [],
   "source": [
    "mi_cuenta.depositar(500)\n",
    "mi_cuenta.retirar(200)\n",
    "print(mi_cuenta.get_saldo()) # Imprime 1300\n"
   ]
  },
  {
   "attachments": {},
   "cell_type": "markdown",
   "metadata": {},
   "source": [
    "HERENCIA\n"
   ]
  },
  {
   "attachments": {},
   "cell_type": "markdown",
   "metadata": {},
   "source": [
    "Un ejemplo de herencia en la vida real podría ser el de un sistema de gestión de una tienda de ropa en Python. En este sistema, podemos tener diferentes tipos de productos, como camisas, pantalones y zapatos, que comparten algunas características en común, como su precio, marca, talla, etc.\n",
    "\n",
    "Podríamos crear una clase base llamada Producto que contenga estas características compartidas y luego definir subclases para cada tipo de producto, como Camisa, Pantalón y Zapato, que hereden las características de la clase base y añadan sus propias características específicas, como el tipo de tela para las camisas o el tipo de suela para los zapatos."
   ]
  },
  {
   "cell_type": "code",
   "execution_count": null,
   "metadata": {},
   "outputs": [],
   "source": [
    "class Producto:\n",
    "    def __init__(self, precio, marca, talla):\n",
    "        self.precio = precio\n",
    "        self.marca = marca\n",
    "        self.talla = talla\n",
    "\n",
    "    def calcular_descuento(self, descuento):\n",
    "        return self.precio * descuento\n",
    "\n",
    "class Camisa(Producto):\n",
    "    def __init__(self, precio, marca, talla, tipo_tela):\n",
    "        super().__init__(precio, marca, talla)\n",
    "        self.tipo_tela = tipo_tela\n",
    "\n",
    "class Pantalon(Producto):\n",
    "    def __init__(self, precio, marca, talla, tipo_pretina):\n",
    "        super().__init__(precio, marca, talla)\n",
    "        self.tipo_pretina = tipo_pretina\n",
    "\n",
    "class Zapato(Producto):\n",
    "    def __init__(self, precio, marca, talla, tipo_suela):\n",
    "        super().__init__(precio, marca, talla)\n",
    "        self.tipo_suela = tipo_suela\n"
   ]
  },
  {
   "attachments": {},
   "cell_type": "markdown",
   "metadata": {},
   "source": [
    "En este ejemplo, la clase Producto es la clase base que define las características compartidas de los productos, como su precio, marca y talla. Las subclases Camisa, Pantalón y Zapato heredan estas características de la clase base y añaden sus propias características específicas, como el tipo de tela para las camisas o el tipo de suela para los zapatos.\n",
    "\n",
    "La herencia nos permite reutilizar código y definir relaciones jerárquicas entre las clases, lo que puede simplificar el diseño y la implementación de sistemas complejos como este.\n"
   ]
  },
  {
   "attachments": {},
   "cell_type": "markdown",
   "metadata": {},
   "source": [
    "POLIMORFISMO"
   ]
  },
  {
   "attachments": {},
   "cell_type": "markdown",
   "metadata": {},
   "source": [
    "Un ejemplo de polimorfismo en Python podría ser el de una interfaz de formas geométricas que tiene diferentes tipos de formas, como círculos, cuadrados y triángulos, cada uno con su propio método calcular_area() y calcular_perimetro(). Podemos utilizar el polimorfismo para calcular el área y el perímetro de cada una de estas formas de manera genérica, sin tener que preocuparnos por el tipo específico de forma que estamos tratando."
   ]
  },
  {
   "cell_type": "code",
   "execution_count": null,
   "metadata": {},
   "outputs": [],
   "source": [
    "import math\n",
    "\n",
    "class FormaGeometrica:\n",
    "    def calcular_area(self):\n",
    "        pass\n",
    "    \n",
    "    def calcular_perimetro(self):\n",
    "        pass\n",
    "\n",
    "class Circulo(FormaGeometrica):\n",
    "    def __init__(self, radio):\n",
    "        self.radio = radio\n",
    "        \n",
    "    def calcular_area(self):\n",
    "        return math.pi * (self.radio ** 2)\n",
    "    \n",
    "    def calcular_perimetro(self):\n",
    "        return 2 * math.pi * self.radio\n",
    "\n",
    "class Cuadrado(FormaGeometrica):\n",
    "    def __init__(self, lado):\n",
    "        self.lado = lado\n",
    "        \n",
    "    def calcular_area(self):\n",
    "        return self.lado ** 2\n",
    "    \n",
    "    def calcular_perimetro(self):\n",
    "        return 4 * self.lado\n",
    "\n",
    "class Triangulo(FormaGeometrica):\n",
    "    def __init__(self, base, altura):\n",
    "        self.base = base\n",
    "        self.altura = altura\n",
    "        \n",
    "    def calcular_area(self):\n",
    "        return 0.5 * self.base * self.altura\n",
    "    \n",
    "    def calcular_perimetro(self):\n",
    "        return 3 * self.base\n",
    "\n",
    "formas = [Circulo(5), Cuadrado(4), Triangulo(3, 6)]\n",
    "\n",
    "for forma in formas:\n",
    "    print(f\"Área: {forma.calcular_area()}, Perímetro: {forma.calcular_perimetro()}\")\n"
   ]
  },
  {
   "attachments": {},
   "cell_type": "markdown",
   "metadata": {},
   "source": [
    "En este ejemplo, la clase base FormaGeometrica define los métodos genéricos calcular_area() y calcular_perimetro(), que son implementados de manera específica por las subclases Circulo, Cuadrado y Triangulo.\n",
    "\n",
    "El polimorfismo nos permite tratar objetos de diferentes clases de manera uniforme, ya que las subclases implementan los mismos métodos de la clase base. Esto puede simplificar la implementación de código que necesita trabajar con objetos de diferentes tipos, y hacer que el código sea más genérico y reutilizable."
   ]
  }
 ],
 "metadata": {
  "kernelspec": {
   "display_name": "Python 3",
   "language": "python",
   "name": "python3"
  },
  "language_info": {
   "name": "python",
   "version": "3.10.6"
  },
  "orig_nbformat": 4,
  "vscode": {
   "interpreter": {
    "hash": "916dbcbb3f70747c44a77c7bcd40155683ae19c65e1c03b4aa3499c5328201f1"
   }
  }
 },
 "nbformat": 4,
 "nbformat_minor": 2
}
