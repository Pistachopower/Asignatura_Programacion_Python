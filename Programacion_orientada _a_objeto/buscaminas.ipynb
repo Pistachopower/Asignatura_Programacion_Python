{
 "cells": [
  {
   "cell_type": "code",
   "execution_count": 6,
   "metadata": {},
   "outputs": [
    {
     "name": "stdout",
     "output_type": "stream",
     "text": [
      "[('O', 'CONTENIDO'), ('O', 'CONTENIDO'), ('O', 'CONTENIDO'), ('O', 'CONTENIDO')]\n",
      "[('O', 'CONTENIDO'), ('O', 'CONTENIDO'), ('O', 'CONTENIDO'), ('O', 'CONTENIDO')]\n",
      "[('O', 'CONTENIDO'), ('O', 'CONTENIDO'), ('O', 'CONTENIDO'), ('O', 'CONTENIDO')]\n",
      "[('O', 'CONTENIDO'), ('O', 'CONTENIDO'), ('O', 'CONTENIDO'), ('O', 'CONTENIDO')]\n"
     ]
    }
   ],
   "source": [
    "class CampoDeMinas:\n",
    "    def __init__(self):\n",
    "        self.dimension= 4\n",
    "        self.tablero= [\n",
    "\n",
    "[('O','CONTENIDO'),('O','CONTENIDO'),('O','CONTENIDO'),('O','CONTENIDO')], \n",
    "\n",
    "[('O','CONTENIDO'),('O','CONTENIDO'),('O','CONTENIDO'),('O','CONTENIDO')],\n",
    "\n",
    "[('O','CONTENIDO'),('O','CONTENIDO'),('O','CONTENIDO'),('O','CONTENIDO')],\n",
    "\n",
    "[('O','CONTENIDO'),('O','CONTENIDO'),('O','CONTENIDO'),('O','CONTENIDO')],\n",
    "\n",
    "]\n",
    "\n",
    "    def estado_casilla(self,fila, columna):\n",
    "        print(self.tablero[fila][columna]) \n",
    "\n",
    "#esta funcion esta bugeada. Al colocar posiciones diferente \n",
    "#devuelve la cadena -1\n",
    "    def valor_casilla(self, fila, columna):\n",
    "        if self.tablero[fila][columna] == self.tablero[1][1]:\n",
    "            self.tablero[1][1]= ('M','TRUE')\n",
    "            print('-1')\n",
    "\n",
    "        elif self.tablero[fila][columna] == self.tablero[2][2]:\n",
    "            self.tablero[2][2]= ('M','TRUE')\n",
    "            print('-1')\n",
    "        \n",
    "        elif self.tablero[fila][columna] == self.tablero[3][0]:\n",
    "            self.tablero[3][0]= ('M','TRUE')\n",
    "            print('-1')\n",
    "\n",
    "        else:\n",
    "            print('sin minas')\n",
    "\n",
    "        #falta en caso contrario, devuelve el número de minas \n",
    "        # que hay en las casillas adyacentes.\n",
    "\n",
    "    def representar(self):\n",
    "        for filas in range(len(self.tablero)):\n",
    "            print(self.tablero[filas])\n",
    "\n",
    "ob= CampoDeMinas()\n",
    "#ob.estado_casilla(3,3)\n",
    "#ob.valor_casilla(0,0)\n",
    "ob.representar()\n",
    " "
   ]
  },
  {
   "cell_type": "code",
   "execution_count": 62,
   "metadata": {},
   "outputs": [],
   "source": [
    "class Buscaminas(CampoDeMinas):\n",
    "    def _marcar_casilla(self,indice):\n",
    "        #super().__init__()\n",
    "        self.tablero[indice]='B'\n",
    "        return self.tablero\n",
    "\n",
    "    def desmarcar_casilla(self):\n",
    "        pass\n",
    "\n",
    "    def descubrir_casilla(self):\n",
    "        pass\n",
    "\n",
    "#b= Buscaminas()\n",
    "#b._marcar_casilla(0)\n",
    "#ob.representar()"
   ]
  }
 ],
 "metadata": {
  "kernelspec": {
   "display_name": "Python 3",
   "language": "python",
   "name": "python3"
  },
  "language_info": {
   "codemirror_mode": {
    "name": "ipython",
    "version": 3
   },
   "file_extension": ".py",
   "mimetype": "text/x-python",
   "name": "python",
   "nbconvert_exporter": "python",
   "pygments_lexer": "ipython3",
   "version": "3.10.6"
  },
  "orig_nbformat": 4
 },
 "nbformat": 4,
 "nbformat_minor": 2
}
