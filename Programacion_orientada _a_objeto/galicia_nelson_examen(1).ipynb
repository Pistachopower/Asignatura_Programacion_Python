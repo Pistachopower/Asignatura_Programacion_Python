{
 "cells": [
  {
   "cell_type": "code",
   "execution_count": 78,
   "metadata": {},
   "outputs": [
    {
     "data": {
      "text/plain": [
       "1"
      ]
     },
     "execution_count": 78,
     "metadata": {},
     "output_type": "execute_result"
    }
   ],
   "source": [
    "class Laberinto:\n",
    "    def __init__(self, j):\n",
    "        #posicion jugador actual en el laberinto\n",
    "        self.__jugador= j\n",
    "        self.__laberinto= []\n",
    "        \n",
    "        #columna inicial    \n",
    "        for f in range(6):\n",
    "            self.__laberinto.append(['P'] * 9)\n",
    "        #print(self.__laberinto)\n",
    "        \n",
    "        self.__laberinto[0][1]='E'\n",
    "        self.__laberinto[1][1]=' '\n",
    "        self.__laberinto[1][2]='M'\n",
    "        self.__laberinto[1][3]=' '\n",
    "        self.__laberinto[1][4]=' '\n",
    "        self.__laberinto[1][5]=' '\n",
    "        self.__laberinto[1][6]=' ' \n",
    "        self.__laberinto[1][7]=' '\n",
    "        self.__laberinto[2][1]=' '\n",
    "        self.__laberinto[2][6]=' '\n",
    "        self.__laberinto[2][7]='M'\n",
    "        self.__laberinto[3][1]=' '\n",
    "        self.__laberinto[3][2]=' '\n",
    "        self.__laberinto[3][3]=' '\n",
    "        self.__laberinto[3][4]=' '\n",
    "        self.__laberinto[3][5]='M'\n",
    "        self.__laberinto[3][7]=' '\n",
    "        self.__laberinto[4][1]='M'\n",
    "        self.__laberinto[4][3]='M'\n",
    "        self.__laberinto[4][4]=' '\n",
    "        self.__laberinto[4][5]=' '\n",
    "        self.__laberinto[4][6]=' '\n",
    "        self.__laberinto[4][7]=' '\n",
    "        self.__laberinto[4][8]='S'\n",
    "        \n",
    "\n",
    "    def __str__(self):\n",
    "       representacion = ''\n",
    "       for fila in self.__laberinto:\n",
    "           representacion += str(fila) + '\\n'\n",
    "       return representacion\n",
    "    \n",
    "\n",
    "    def modificar_contenido_celda(self, posicion, posicion2, valor):\n",
    "        for f in range(len(self.__laberinto)):\n",
    "            for c in self.__laberinto[f]:\n",
    "                if c != 'P' or c != 'E' or c != 'E':\n",
    "                    self.__laberinto[posicion][posicion2]= valor\n",
    "  \n",
    "        \n",
    "        \n",
    "    def obtener_posicion_jugador(self):\n",
    "        return len(self.__laberinto[0][1])\n",
    "    \n",
    "    def obtener_contenido_celda(self, fila, columna):\n",
    "        self.__laberinto[fila][columna]\n",
    "        \n",
    "        \n",
    "        \n",
    "\n",
    "tablero= Laberinto((0,1))\n",
    "\n",
    "#tablero.modificar_contenido_celda(1,4, 'hola')\n",
    "\n",
    "tablero.obtener_posicion_jugador()\n",
    "\n",
    "\n",
    "#print(tablero)\n",
    "\n"
   ]
  },
  {
   "cell_type": "code",
   "execution_count": 38,
   "metadata": {},
   "outputs": [
    {
     "data": {
      "text/plain": [
       "'E'"
      ]
     },
     "execution_count": 38,
     "metadata": {},
     "output_type": "execute_result"
    }
   ],
   "source": [
    "#   0,   1,   2,   3,   4,   5,   6,   7,   8\n",
    "#0['P', 'E', 'P', 'P', 'P', 'P', 'P', 'P', 'P']\n",
    "#1['P', ' ', 'M', ' ', ' ', ' ', ' ', ' ', 'P']\n",
    "#2['P', ' ', 'P', 'P', 'P', 'P', ' ', 'M', 'P']\n",
    "#3['P', ' ', ' ', ' ', ' ', 'M', 'P', ' ', 'P']\n",
    "#4['P', 'M', 'P', 'M', ' ', ' ', ' ', ' ', 'S']\n",
    "#5['P', 'P', 'P', 'P', 'P', 'P', 'P', 'P', 'P']\n",
    "\n",
    "\n",
    "\n",
    "m= ['P', 'E', 'P', 'P', 'P', 'P', 'P', 'P', 'P']\n",
    "['P', ' ', 'M', ' ', ' ', ' ', ' ', ' ', 'P']\n",
    "['P', ' ', 'P', 'P', 'P', 'P', ' ', 'M', 'P']\n",
    "['P', ' ', ' ', ' ', ' ', 'M', 'P', ' ', 'P']\n",
    "['P', 'M', 'P', 'M', ' ', ' ', ' ', ' ', 'S']\n",
    "['P', 'P', 'P', 'P', 'P', 'P', 'P', 'P', 'P']\n",
    "\n",
    "\n",
    "m[1]\n",
    "\n",
    "\n",
    "\n"
   ]
  }
 ],
 "metadata": {
  "kernelspec": {
   "display_name": "Python 3",
   "language": "python",
   "name": "python3"
  },
  "language_info": {
   "codemirror_mode": {
    "name": "ipython",
    "version": 3
   },
   "file_extension": ".py",
   "mimetype": "text/x-python",
   "name": "python",
   "nbconvert_exporter": "python",
   "pygments_lexer": "ipython3",
   "version": "3.8.10"
  },
  "orig_nbformat": 4
 },
 "nbformat": 4,
 "nbformat_minor": 2
}
