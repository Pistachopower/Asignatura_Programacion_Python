{
 "cells": [
  {
   "cell_type": "code",
   "execution_count": 30,
   "metadata": {},
   "outputs": [],
   "source": [
    "class Sudoku:\n",
    "    def __init__(self, valores_inic):\n",
    "        self.tablero= []\n",
    "\n",
    "        for i in range(9):\n",
    "            self.tablero.append([0]*9)\n",
    "\n",
    "        for tp in valores_inic:\n",
    "            i=tp[0]\n",
    "            j= tp[1]\n",
    "            num= tp[2]\n",
    "            self.tablero[i][j]=num\n",
    "\n",
    "    def __str__(self):\n",
    "        representacion= ''\n",
    "        for fila in self.tablero:\n",
    "            representacion+= str(fila) + '\\n'\n",
    "        return representacion\n",
    "    \n",
    "    def rellenar_casilla(self, i,j, num):\n",
    "        if self.tablero[i][j] == 0:\n",
    "            self.tablero[i][j]=num\n",
    "\n",
    "        else:\n",
    "            raise Exception('La casilla está ocupada por el numero {}'.format(self.tablero[i][j]))\n"
   ]
  },
  {
   "cell_type": "code",
   "execution_count": 31,
   "metadata": {},
   "outputs": [
    {
     "name": "stdout",
     "output_type": "stream",
     "text": [
      "[5, 7, 2, 0, 0, 0, 0, 0, 0]\n",
      "[3, 0, 4, 0, 0, 0, 0, 0, 0]\n",
      "[8, 1, 9, 0, 0, 0, 0, 0, 0]\n",
      "[0, 0, 0, 0, 0, 0, 0, 0, 0]\n",
      "[0, 0, 0, 0, 0, 0, 0, 0, 0]\n",
      "[0, 0, 0, 0, 0, 0, 0, 0, 0]\n",
      "[0, 0, 0, 0, 0, 0, 0, 0, 0]\n",
      "[0, 0, 0, 0, 0, 0, 0, 0, 0]\n",
      "[0, 0, 0, 0, 0, 0, 0, 0, 0]\n",
      "\n"
     ]
    }
   ],
   "source": [
    "sudoku= Sudoku([(0, 0, 5), (0, 2, 2), (1, 0, 3), (1, 2, 4), (2, 0, 8), (2, 1, 1), (2, 2, 9)])\n",
    "\n",
    "\n",
    "\n",
    "sudoku.rellenar_casilla(0,1,7)\n",
    "print(sudoku)\n"
   ]
  },
  {
   "cell_type": "code",
   "execution_count": 44,
   "metadata": {},
   "outputs": [],
   "source": [
    "class SudokuConAyuda(Sudoku):\n",
    "    def comprobar_fila(self, i, num):\n",
    "        return num not in self.tablero[i]\n",
    "    \n",
    "    def comprobar_columna(self, j, num):\n",
    "        for i in range(9):\n",
    "            if self.tablero[i][j] == num:\n",
    "                return False\n",
    "        return True\n",
    "\n",
    "\n",
    "    def comprobar_casilla(self, i, j, num):\n",
    "        if self.tablero[i][j] != 0:\n",
    "            return False\n",
    "        else:\n",
    "            return self.comprobar_fila(i, num) and self.comprobar_columna(\n",
    "                j,num) and self.comprobar_cuadrado(i,j, num)\n",
    "        \n",
    "        "
   ]
  },
  {
   "cell_type": "code",
   "execution_count": 46,
   "metadata": {},
   "outputs": [
    {
     "name": "stdout",
     "output_type": "stream",
     "text": [
      "[0, 7, 2, 0, 0, 0, 0, 0, 0]\n",
      "[3, 0, 4, 0, 5, 0, 0, 0, 0]\n",
      "[8, 1, 9, 0, 0, 0, 0, 0, 0]\n",
      "[0, 0, 0, 0, 0, 0, 0, 0, 0]\n",
      "[0, 0, 0, 0, 0, 0, 0, 0, 0]\n",
      "[0, 0, 0, 0, 0, 0, 0, 0, 0]\n",
      "[6, 0, 0, 0, 0, 0, 0, 0, 0]\n",
      "[0, 0, 0, 0, 0, 0, 0, 0, 0]\n",
      "[0, 0, 0, 0, 0, 0, 0, 0, 0]\n",
      "\n"
     ]
    },
    {
     "data": {
      "text/plain": [
       "False"
      ]
     },
     "execution_count": 46,
     "metadata": {},
     "output_type": "execute_result"
    }
   ],
   "source": [
    "juego_sudoku= SudokuConAyuda([(0, 1, 7), (0, 2, 2), (1, 0, 3), (1, 2, 4),\n",
    " (2, 0, 8), (2, 1, 1), (2, 2, 9), (1, 4, 5), (6, 0, 6)])\n",
    "\n",
    "print(juego_sudoku)\n",
    "juego_sudoku.comprobar_fila(1, 7)\n",
    "\n",
    "juego_sudoku.comprobar_columna(1, 7)\n",
    "\n",
    "juego_sudoku.comprobar_casilla(0,3, 0)"
   ]
  }
 ],
 "metadata": {
  "kernelspec": {
   "display_name": "Python 3 (ipykernel)",
   "language": "python",
   "name": "python3"
  },
  "language_info": {
   "codemirror_mode": {
    "name": "ipython",
    "version": 3
   },
   "file_extension": ".py",
   "mimetype": "text/x-python",
   "name": "python",
   "nbconvert_exporter": "python",
   "pygments_lexer": "ipython3",
   "version": "3.10.6"
  },
  "orig_nbformat": 4,
  "vscode": {
   "interpreter": {
    "hash": "916dbcbb3f70747c44a77c7bcd40155683ae19c65e1c03b4aa3499c5328201f1"
   }
  }
 },
 "nbformat": 4,
 "nbformat_minor": 2
}
