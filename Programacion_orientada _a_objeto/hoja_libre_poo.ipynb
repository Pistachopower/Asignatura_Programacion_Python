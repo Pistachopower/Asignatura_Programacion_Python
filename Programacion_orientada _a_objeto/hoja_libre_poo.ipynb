{
 "cells": [
  {
   "cell_type": "code",
   "execution_count": 26,
   "metadata": {},
   "outputs": [
    {
     "name": "stdout",
     "output_type": "stream",
     "text": [
      "OOOO\n",
      "OOOO\n",
      "OOOO\n",
      "OOOO\n",
      "\n"
     ]
    }
   ],
   "source": [
    "class CampoDeMinas:\n",
    "    def __init__(self, dim, casillas_minas):\n",
    "        self.dimension= dim \n",
    "        self.tablero= []\n",
    "\n",
    "        for i in range(dim):\n",
    "            fila= [('O', False)] * dim\n",
    "            self.tablero.append(fila)\n",
    "        #print(self.tablero)\n",
    "\n",
    "        for casilla in casillas_minas:\n",
    "            f= casilla[0]\n",
    "            c= casilla[1]\n",
    "            self.tablero[f][c]= ('O', True)\n",
    "\n",
    "    def estado_casilla(self, fila, col):\n",
    "        return self.tablero[fila][col][0]\n",
    "    \n",
    "    def contenido_casilla(self, fila, col):\n",
    "        mina= self.tablero[fila][col][1]\n",
    "\n",
    "        if mina:\n",
    "            return -1\n",
    "        else:\n",
    "            #PUEDE SALIR ERROR\n",
    "            minas_alrededor= 0 \n",
    "            fila_sup= max(fila -1, 0) #2\n",
    "            fila_inf= min(fila+1, self.dimension-1) #3\n",
    "            col_izq= max(col-1, 0) #1\n",
    "            col_der= min(col+1, self.dimension-1) #3 \n",
    "\n",
    "            for f in range(fila_sup, fila_inf+1):\n",
    "                for c in range(col_izq, col_der+1):\n",
    "                    mina= self.tablero[f][c][1]\n",
    "\n",
    "                    if mina == True:\n",
    "                        minas_alrededor+=1\n",
    "            return minas_alrededor\n",
    "\n",
    "    def __str__(self):\n",
    "        representacion= ''\n",
    "        for f in range(self.dimension):\n",
    "            for c in range(self.dimension):\n",
    "                estado= self.estado_casilla(f,c)\n",
    "                if estado == 'O':\n",
    "                    representacion+= 'O'\n",
    "                elif estado == 'B':\n",
    "                    representacion+= 'B'\n",
    "                elif estado == 'D':\n",
    "                    valor= self.contenido_casilla(f,c)\n",
    "                    if valor == -1:\n",
    "                        representacion+= 'M'\n",
    "                    else:\n",
    "                        representacion+= str(valor) + ' '\n",
    "            representacion+= '\\n'\n",
    "        return representacion\n",
    "\n",
    "\n",
    "\n",
    "\n",
    "        \n",
    "\n",
    "t= CampoDeMinas(4, [(3,3),(2,2)])\n",
    "t.contenido_casilla(3,2)\n",
    "print(t)\n"
   ]
  }
 ],
 "metadata": {
  "kernelspec": {
   "display_name": "Python 3",
   "language": "python",
   "name": "python3"
  },
  "language_info": {
   "codemirror_mode": {
    "name": "ipython",
    "version": 3
   },
   "file_extension": ".py",
   "mimetype": "text/x-python",
   "name": "python",
   "nbconvert_exporter": "python",
   "pygments_lexer": "ipython3",
   "version": "3.10.6"
  },
  "orig_nbformat": 4,
  "vscode": {
   "interpreter": {
    "hash": "916dbcbb3f70747c44a77c7bcd40155683ae19c65e1c03b4aa3499c5328201f1"
   }
  }
 },
 "nbformat": 4,
 "nbformat_minor": 2
}
