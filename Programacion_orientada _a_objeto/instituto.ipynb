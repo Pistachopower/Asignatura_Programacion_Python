{
 "cells": [
  {
   "cell_type": "code",
   "execution_count": 116,
   "metadata": {},
   "outputs": [],
   "source": [
    "class Persona:\n",
    "    def __init__(self, nombre, apellido):\n",
    "        self.nombre_persona = nombre\n",
    "        self.apellido_persona = apellido\n",
    "\n",
    "    def __str__(self):\n",
    "        return str(self.nombre_persona) + \"\\n\" + str(self.apellido_persona)\n",
    "    \n",
    "    def obtener_nombre(self):\n",
    "        return self.nombre_persona\n",
    "\n",
    "    def obtener_apellido_persona(self):\n",
    "        return self.apellido_persona\n",
    "\n",
    "class Alumno (Persona):\n",
    "    def __init__(self, nombre, apellido, curso_matr):\n",
    "        super().__init__(nombre,apellido)\n",
    "        self.curso_matriculado = curso_matr\n",
    "\n",
    "    def __str__(self):\n",
    "        return 'Nombre: '+ str(self.nombre_persona)  + '\\n' + 'Apellido:' + str(\n",
    "            self.apellido_persona) + '\\n' + 'curso: ' + str(self.curso_matriculado) + '\\n'\n",
    "    \n",
    "    def obtener_curso_matriculado(self):\n",
    "        return self.curso_matriculado\n",
    "\n",
    "class Profesor(Persona):\n",
    "    def __init__(self, nombre, apellido, profes, asign_impart):\n",
    "        super().__init__(nombre,apellido)\n",
    "        self.profesion= profes\n",
    "        self.asignatura_impartida = asign_impart\n",
    "\n",
    "    def __str__(self):\n",
    "        return 'Nombre: '+ str(self.nombre_persona)  + '\\n' + 'Apellido:' + str(\n",
    "            self.apellido_persona) + '\\n'+ 'asignatura impartida: '+ str(\n",
    "            self.asignatura_impartida) + '\\n' + 'profesion: ' + str(self.profesion) + '\\n'\n",
    "    \n",
    "    def obtener_profesion(self):\n",
    "        return self.profesion\n",
    "    \n",
    "    def obtener_asignatura_impartida(self):\n",
    "        return self.asignatura_impartida\n",
    "    "
   ]
  },
  {
   "cell_type": "code",
   "execution_count": 117,
   "metadata": {},
   "outputs": [],
   "source": [
    "alumno= Alumno('nelson', 'galicia', 'daw')\n",
    "alumno_2= Alumno('carolina', 'somarriba', 'administracion')\n",
    "\n",
    "#print(alumno)\n",
    "#alumno.obtener_nombre()\n",
    "#print(alumno.obtener_apellido_a())\n",
    "#alumno.obtener_curso_matriculado()\n",
    "#print(alumno)\n",
    "\n",
    "profesor= Profesor('Encarnación', 'Gago', 'estadista', 'programacion')\n",
    "profesor_2= Profesor('Antonio', 'Bueno', 'Matematico', 'Base de datos')\n",
    "#profesor.obtener_profesion()\n",
    "#profesor.obtener_asignatura_impartida()\n",
    "#print(profesor)"
   ]
  },
  {
   "cell_type": "code",
   "execution_count": 118,
   "metadata": {},
   "outputs": [],
   "source": [
    "class Instituto:\n",
    "    def __init__(self, nombre):\n",
    "        self.nombre_instituto = nombre\n",
    "        self.agregar_alumno= []\n",
    "        self.agregar_profesor= []\n",
    "\n",
    "    def __str__(self):\n",
    "        representar= 'Centro educativo: ' + str(self.nombre_instituto) + '\\n' + 'Alumnos inscritos: ' + '\\n'\n",
    "        \n",
    "        representar_2= '\\n' + 'Profesores: '\n",
    "\n",
    "        for alumno in self.agregar_alumno:  \n",
    "                representar+= str(alumno)\n",
    "\n",
    "        for profesor in self.agregar_profesor:\n",
    "             representar_2+= str(profesor)\n",
    "\n",
    "        return str(representar) + str(representar_2)    \n",
    "        \n",
    "    def incluir_alumno(self, ad_alum):\n",
    "        self.agregar_alumno.append(ad_alum) \n",
    "\n",
    "    def incluir_profesor(self, ad_profesor):\n",
    "        self.agregar_profesor.append(ad_profesor) \n",
    "\n",
    "    def mostrar_alumno_inscritos(self, indice):\n",
    "        print (self.agregar_alumno[indice-1])\n",
    "\n",
    "    def mostrar_profesor(self, indice):\n",
    "        print (self.agregar_profesor[indice-1])\n"
   ]
  },
  {
   "cell_type": "code",
   "execution_count": 119,
   "metadata": {},
   "outputs": [
    {
     "name": "stdout",
     "output_type": "stream",
     "text": [
      "Centro educativo: Poligono sur\n",
      "Alumnos inscritos: \n",
      "Nombre: nelson\n",
      "Apellido:galicia\n",
      "curso: daw\n",
      "Nombre: carolina\n",
      "Apellido:somarriba\n",
      "curso: administracion\n",
      "\n",
      "Profesores: Nombre: Encarnación\n",
      "Apellido:Gago\n",
      "asignatura impartida: programacion\n",
      "profesion: estadista\n",
      "Nombre: Antonio\n",
      "Apellido:Bueno\n",
      "asignatura impartida: Base de datos\n",
      "profesion: Matematico\n",
      "\n"
     ]
    }
   ],
   "source": [
    "instituto= Instituto('Poligono sur')\n",
    "\n",
    "#print(instituto)\n",
    "\n",
    "instituto.incluir_alumno(alumno)\n",
    "instituto.incluir_alumno(alumno_2)\n",
    "#instituto.mostrar_alumno_inscritos(1)\n",
    "\n",
    "instituto.incluir_profesor(profesor)\n",
    "instituto.incluir_profesor(profesor_2)\n",
    "\n",
    "#instituto.mostrar_profesor(1)\n",
    "\n",
    "print(instituto)"
   ]
  }
 ],
 "metadata": {
  "kernelspec": {
   "display_name": "Python 3",
   "language": "python",
   "name": "python3"
  },
  "language_info": {
   "codemirror_mode": {
    "name": "ipython",
    "version": 3
   },
   "file_extension": ".py",
   "mimetype": "text/x-python",
   "name": "python",
   "nbconvert_exporter": "python",
   "pygments_lexer": "ipython3",
   "version": "3.10.6 (main, Nov 14 2022, 16:10:14) [GCC 11.3.0]"
  },
  "orig_nbformat": 4,
  "vscode": {
   "interpreter": {
    "hash": "916dbcbb3f70747c44a77c7bcd40155683ae19c65e1c03b4aa3499c5328201f1"
   }
  }
 },
 "nbformat": 4,
 "nbformat_minor": 2
}
