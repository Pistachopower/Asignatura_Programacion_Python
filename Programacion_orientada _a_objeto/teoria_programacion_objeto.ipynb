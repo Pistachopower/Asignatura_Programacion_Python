{
 "cells": [
  {
   "attachments": {},
   "cell_type": "markdown",
   "metadata": {},
   "source": [
    "CLASE(GRUPOS):\n",
    "    ANIMALES QUE TIENEN 4 PATAS Y DICEN GUAOU \n",
    "    PERSONAS \n",
    "\n",
    "GRUPOS:\n",
    "    PROPIEDADES --> COLOR DE PELO \n",
    "    (ATRIBUTOS) --> TAMAÑO, PESO \n",
    "\n",
    "    COMPORTAMIENTO CORRER \n",
    "    (METODOS)      SALTAR \n",
    "                    FRENAR \n",
    "                    ACELERAR\n",
    "\n",
    "INSTANCIA U OBJETO: UN ELEMENTO EN CONCRETO DEL GRUPO\n",
    "\n",
    "\n",
    "EJEMPLO \n",
    "CLASE: CUENTA CORRIENTE \n",
    "\n",
    "ATRIBUTO:\n",
    "    SALDO \n",
    "    INGRESO ANUAL \n",
    "    TITULARES\n",
    "    OFICINA\n",
    "\n",
    "METODOS \n",
    "    INGRESAR \n",
    "    RETIRAR \n",
    "    TRANSFERIR \n",
    "    CREAR \n",
    "    ELIMINAR\n",
    "\n",
    "\n",
    "\n"
   ]
  },
  {
   "attachments": {},
   "cell_type": "markdown",
   "metadata": {},
   "source": [
    "AMPLIACION DE TEORIA \n",
    "OBJETO TIENE:\n",
    "ESTADO: EJEMPLO COCHE: ESTAR PARADO, CIRCULANDO, APARCADO \n",
    "\n",
    "PROPIEDADES(ATRIBUTOS): TIENE UN COLOR, PESO, TAMAÑO, ETC\n",
    "\n",
    "COMPORTAMIENTO: UN COCHE PUEDE ARRANCAR, ACELERAR, GIRAR, ETC\n",
    "\n",
    "HERENCIA: SE REFIERE A QUE SE PUEDE USAR UN MODULO DE UN PROGRAMA A OTRO O AGREGAR A UNA IMPLEMENTACION\n",
    "\n",
    "    VOCABULARIO POO\n",
    "CLASE: ES UN PADRON O MODELO DONDE SE REDACTAN LAS CARACTERISTICAS COMUNES DE UN GRUPO DE OBJETOS. \n",
    "\n",
    "OBJETO :EJEMPLAR DE CLASE. INSTANCIA DE CLASE. EJEMPLARIZAR UNA CLASE. INSTANCIAR UNA CLASE. (EJEMPLAR PERTENECIENTE A UNA CLASE)\n",
    "\n",
    "MODULARIZACIÓN: SE REFIERE A BLOQUES DE CODIGOS SEPARADOS POR MODULOS QUE TIENEN DIFERENTES FUNCIONES DE UNA CLASE. \n",
    "\n",
    "ENCAPSULAMIENTO/ENCAPSULACIÓN: SE TRATA DE LAS PROPIEDADES, ESTADOS QUE TIENE CADA MODULO Y QUE NO SE COMBINA CON LA OTRA (PRIVADA) PERO QUE SE COMUNICAN ENTRE ELLAS (METODOS DE ACCESO). EJ: ORDENADOR CON EL MOUSE.\n",
    "\n",
    "HERENCIA\n",
    "\n",
    "POLIMORFISMO \n",
    "\n"
   ]
  },
  {
   "cell_type": "code",
   "execution_count": 4,
   "metadata": {},
   "outputs": [],
   "source": [
    "#NOMBRE DE CLASE EN MAYUSCUYLAS\n",
    "#__ dos barras significa privado \n",
    "\n",
    "class CuentaCorriente:\n",
    "    #metodo constructor: estado inicial del objeto\n",
    "    def __init__(self, nombre, euros):\n",
    "        self.__titular= nombre \n",
    "        self.__saldo= euros\n",
    "        \n",
    "    \n",
    "    def __str__(self):\n",
    "        return 'Titular: {} \\n Saldo: {}'.format(\n",
    "            self.__titular,self.__saldo)\n",
    "\n",
    "    def obtener_titular(self):\n",
    "        return self.__titular \n",
    "\n",
    "    def obtener_saldo(self):\n",
    "        return self.__saldo\n",
    "\n",
    "    def cambiar_titular(self, nombre_nuevo):\n",
    "        self.__titular = nombre_nuevo\n",
    "    \n",
    "    def ingresar_dinero(self, euros):\n",
    "        self.__saldo += euros\n",
    "    \n",
    "    def retirar_dinero(self , euros):\n",
    "        if euros > self.__saldo:\n",
    "            print(\"No tienes suficiente dinero\")\n",
    "        else:\n",
    "            self.__saldo -= euros\n",
    "        \n",
    "                "
   ]
  },
  {
   "cell_type": "code",
   "execution_count": 5,
   "metadata": {},
   "outputs": [
    {
     "name": "stdout",
     "output_type": "stream",
     "text": [
      "Titular: Maria \n",
      " Saldo: 100\n"
     ]
    }
   ],
   "source": [
    "\n",
    "CC1 = CuentaCorriente(\"Maria\", 100)\n",
    "print(CC1)"
   ]
  },
  {
   "cell_type": "code",
   "execution_count": 13,
   "metadata": {},
   "outputs": [
    {
     "data": {
      "text/plain": [
       "<__main__.CuentaCorriente at 0x7fcfb65e6700>"
      ]
     },
     "execution_count": 13,
     "metadata": {},
     "output_type": "execute_result"
    }
   ],
   "source": [
    "CC1"
   ]
  },
  {
   "cell_type": "code",
   "execution_count": 6,
   "metadata": {},
   "outputs": [
    {
     "data": {
      "text/plain": [
       "100"
      ]
     },
     "execution_count": 6,
     "metadata": {},
     "output_type": "execute_result"
    }
   ],
   "source": [
    "CC1.obtener_saldo()"
   ]
  },
  {
   "cell_type": "code",
   "execution_count": 16,
   "metadata": {},
   "outputs": [
    {
     "data": {
      "text/plain": [
       "'Eva'"
      ]
     },
     "execution_count": 16,
     "metadata": {},
     "output_type": "execute_result"
    }
   ],
   "source": [
    "CC1.cambiar_titular(\"Eva\")\n",
    "CC1.obtener_titular()\n"
   ]
  },
  {
   "cell_type": "code",
   "execution_count": 17,
   "metadata": {},
   "outputs": [
    {
     "name": "stdout",
     "output_type": "stream",
     "text": [
      "No tienes suficiente dinero\n"
     ]
    }
   ],
   "source": [
    "CC1.retirar_dinero(1500)"
   ]
  },
  {
   "cell_type": "code",
   "execution_count": 18,
   "metadata": {},
   "outputs": [],
   "source": [
    "CC1.retirar_dinero(75)\n"
   ]
  },
  {
   "cell_type": "code",
   "execution_count": 19,
   "metadata": {},
   "outputs": [
    {
     "data": {
      "text/plain": [
       "25"
      ]
     },
     "execution_count": 19,
     "metadata": {},
     "output_type": "execute_result"
    }
   ],
   "source": [
    "CC1.obtener_saldo()"
   ]
  },
  {
   "attachments": {},
   "cell_type": "markdown",
   "metadata": {},
   "source": [
    "Una Clase **Reloj** con los siguientes atributos privados\n",
    "- horas: guarda las horas marcadas por el reloj, como un número entero entre 0 y 23.\n",
    "- minutos: guarda los minutos marcados por el reloj, como un número entero entre 0 y 59\n",
    "- segundos: guarda los segundos marcados por el reloj, como un número entero entre 0 y 59.  \n",
    " \n",
    "y métodos públicos\n",
    "- inicializar: inicializa el reloj a las 0 horas, 0 minutos y 0 segundos.\n",
    "- representar: devuelve una cadena representando el instante marcado en el reloj\n",
    "- obtener_horas, obtener_minutos y obtener_segundos: devuelve las horas, minutos y segundos, respectivamente, marcados en el reloj.\n",
    "- avanzar_horas, avanzar_minutos, avanzar_segundos: hace que el reloj avance las horas, minutos y segundos, respectivamente, especificados.\n",
    "\n"
   ]
  },
  {
   "cell_type": "code",
   "execution_count": 11,
   "metadata": {},
   "outputs": [],
   "source": [
    "\n",
    "class Reloj: \n",
    "    def __init__(self, h,m,s):\n",
    "        if 0 <= h <= 23:\n",
    "            self.__hora = h\n",
    "        else:\n",
    "            print('la hora no es valida')\n",
    "        if 0 <= m <= 59:\n",
    "            self.__minutos=m\n",
    "        else:\n",
    "            print(\"los minutos no son validos \")\n",
    "            \n",
    "        if 0<= s <=59:\n",
    "            self.__segundos= s\n",
    "\n",
    "        else:\n",
    "            print('los segundos no son validos')  \n",
    "            \n",
    "    def __str__(self):\n",
    "        return 'hora: ' + str(\n",
    "            self.__hora) + '\\n' + 'minutos: ' + str(\n",
    "                self.minutos) + '\\n' + 'segundos ' + str(\n",
    "                    self.__segundos)\n",
    "    \n",
    "     \n",
    "    def obtener_horas(self):\n",
    "        return self.__hora\n",
    "    \n",
    "    def obtener_minutos(self):\n",
    "        return self.__minutos\n",
    "\n",
    "    def obtener_segundos(self):\n",
    "        return self.__segundos\n",
    "    \n",
    "    def avanzar_hora(self,h):\n",
    "        self.__hora += h\n",
    "        if self.__hora > 23:\n",
    "            self.__hora-=24 * (self.__hora//24) \n",
    "\n",
    "    def avanzar_minutos(self,m):\n",
    "        self.__minutos+=m \n",
    "        if self.__minutos >=60:\n",
    "            while self.__minutos >= 60:\n",
    "                self.__minutos= self.__minutos - 60\n",
    "                self.avanzar_hora(1)\n",
    "\n",
    "    def avanzar_segundos(self,s):\n",
    "        self.__segundos= self.__segundos + s \n",
    "        if self.__segundos>= 60:\n",
    "            while self.__segundos >= 60:\n",
    "                self.__segundos< self.__segundos - 60\n",
    "                self.avanzar_minutos(1)\n",
    "\n",
    "    def obtener_minutos(self, m):\n",
    "        self.__minutos +=m \n",
    "        if self.__minutos>=60:\n",
    "            while self.__minutos>=60:\n",
    "                self.avanzar_hora(1)\n",
    "        "
   ]
  },
  {
   "cell_type": "code",
   "execution_count": 31,
   "metadata": {},
   "outputs": [],
   "source": [
    "reloj_listo= Reloj(1,55,2)\n",
    "\n",
    "#print(reloj_listo)"
   ]
  },
  {
   "cell_type": "code",
   "execution_count": 32,
   "metadata": {},
   "outputs": [
    {
     "data": {
      "text/plain": [
       "1"
      ]
     },
     "execution_count": 32,
     "metadata": {},
     "output_type": "execute_result"
    }
   ],
   "source": [
    "reloj_listo.obtener_horas()"
   ]
  },
  {
   "cell_type": "code",
   "execution_count": 29,
   "metadata": {},
   "outputs": [
    {
     "name": "stdout",
     "output_type": "stream",
     "text": [
      "3\n"
     ]
    },
    {
     "ename": "TypeError",
     "evalue": "Reloj.obtener_minutos() missing 1 required positional argument: 'm'",
     "output_type": "error",
     "traceback": [
      "\u001b[0;31m---------------------------------------------------------------------------\u001b[0m",
      "\u001b[0;31mTypeError\u001b[0m                                 Traceback (most recent call last)",
      "Cell \u001b[0;32mIn[29], line 3\u001b[0m\n\u001b[1;32m      1\u001b[0m \u001b[39mprint\u001b[39m(reloj_listo\u001b[39m.\u001b[39mobtener_horas()) \n\u001b[0;32m----> 3\u001b[0m \u001b[39mprint\u001b[39m(reloj_listo\u001b[39m.\u001b[39;49mobtener_minutos())\n",
      "\u001b[0;31mTypeError\u001b[0m: Reloj.obtener_minutos() missing 1 required positional argument: 'm'"
     ]
    }
   ],
   "source": [
    "print(reloj_listo.obtener_horas()) \n",
    "\n",
    "print(reloj_listo.obtener_minutos())"
   ]
  }
 ],
 "metadata": {
  "kernelspec": {
   "display_name": "Python 3",
   "language": "python",
   "name": "python3"
  },
  "language_info": {
   "codemirror_mode": {
    "name": "ipython",
    "version": 3
   },
   "file_extension": ".py",
   "mimetype": "text/x-python",
   "name": "python",
   "nbconvert_exporter": "python",
   "pygments_lexer": "ipython3",
   "version": "3.10.6"
  },
  "orig_nbformat": 4,
  "vscode": {
   "interpreter": {
    "hash": "916dbcbb3f70747c44a77c7bcd40155683ae19c65e1c03b4aa3499c5328201f1"
   }
  }
 },
 "nbformat": 4,
 "nbformat_minor": 2
}
