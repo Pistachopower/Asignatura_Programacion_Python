{
 "cells": [
  {
   "cell_type": "code",
   "execution_count": 2,
   "metadata": {},
   "outputs": [
    {
     "name": "stdout",
     "output_type": "stream",
     "text": [
      "(1, 1)\n",
      "(2, 2)\n",
      "(12, 3)\n",
      "(76, 4)\n",
      "(550, 5)\n"
     ]
    }
   ],
   "source": [
    "k = int(input(\"Ingrese un número entero positivo: \"))\n",
    "\n",
    "\n",
    "bernoulli_nums = [(1, 1)]\n",
    "\n",
    "\n",
    "for i in range(1, k):\n",
    "    numerator = 0\n",
    "    for j in range(i):\n",
    "        numerator += ((i + 1) * bernoulli_nums[j][0] * bernoulli_nums[i - j - 1][1])\n",
    "\n",
    "    denominator = (i + 1)\n",
    "    bernoulli_nums.append((numerator, denominator))\n",
    "\n",
    "\n",
    "for num in bernoulli_nums:\n",
    "    print(num)\n"
   ]
  }
 ],
 "metadata": {
  "kernelspec": {
   "display_name": "Python 3",
   "language": "python",
   "name": "python3"
  },
  "language_info": {
   "codemirror_mode": {
    "name": "ipython",
    "version": 3
   },
   "file_extension": ".py",
   "mimetype": "text/x-python",
   "name": "python",
   "nbconvert_exporter": "python",
   "pygments_lexer": "ipython3",
   "version": "3.10.6"
  },
  "orig_nbformat": 4
 },
 "nbformat": 4,
 "nbformat_minor": 2
}
