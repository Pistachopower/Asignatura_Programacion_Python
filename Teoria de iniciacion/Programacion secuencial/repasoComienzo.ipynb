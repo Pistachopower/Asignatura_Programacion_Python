{
 "cells": [
  {
   "cell_type": "markdown",
   "metadata": {},
   "source": []
  },
  {
   "cell_type": "code",
   "execution_count": 95,
   "metadata": {},
   "outputs": [
    {
     "data": {
      "text/plain": [
       "[1, 2, 3]"
      ]
     },
     "execution_count": 95,
     "metadata": {},
     "output_type": "execute_result"
    }
   ],
   "source": [
    "\n",
    "#creamos una funcion para el total de alumnos\n",
    "def rango_alumnos(alumnos):\n",
    "    total_alumnos=[]\n",
    "    for alumno in range(1,alumnos+1):\n",
    "        total_alumnos.append(alumno)\n",
    "    return total_alumnos\n",
    "rango_alumnos(3)"
   ]
  },
  {
   "cell_type": "code",
   "execution_count": 94,
   "metadata": {},
   "outputs": [
    {
     "data": {
      "text/plain": [
       "[1, 2, 3]"
      ]
     },
     "execution_count": 94,
     "metadata": {},
     "output_type": "execute_result"
    }
   ],
   "source": [
    "#creamos otra funcion para general el total de notas \n",
    "def rango_notas(notas):\n",
    "    total_notas=[]\n",
    "    for nota in range(1,notas+1):\n",
    "        total_notas.append(nota)\n",
    "    return total_notas\n",
    "\n",
    "rango_notas(3)"
   ]
  },
  {
   "cell_type": "code",
   "execution_count": 111,
   "metadata": {},
   "outputs": [
    {
     "ename": "TypeError",
     "evalue": "'function' object is not iterable",
     "output_type": "error",
     "traceback": [
      "\u001b[0;31m---------------------------------------------------------------------------\u001b[0m",
      "\u001b[0;31mTypeError\u001b[0m                                 Traceback (most recent call last)",
      "Cell \u001b[0;32mIn[111], line 9\u001b[0m\n\u001b[1;32m      6\u001b[0m             notas_individuales\u001b[39m.\u001b[39mappend(\u001b[39meval\u001b[39m(\u001b[39minput\u001b[39m(\u001b[39m\"\u001b[39m\u001b[39mIntroduce la nota: \u001b[39m\u001b[39m\"\u001b[39m)))\n\u001b[1;32m      7\u001b[0m         \u001b[39mreturn\u001b[39;00m notas_individuales\n\u001b[0;32m----> 9\u001b[0m media_Aritmetica(\u001b[39m3\u001b[39;49m)\n",
      "Cell \u001b[0;32mIn[111], line 3\u001b[0m, in \u001b[0;36mmedia_Aritmetica\u001b[0;34m(a)\u001b[0m\n\u001b[1;32m      1\u001b[0m \u001b[39mdef\u001b[39;00m \u001b[39mmedia_Aritmetica\u001b[39m(a):\n\u001b[1;32m      2\u001b[0m     notas_generales\u001b[39m=\u001b[39m[]\n\u001b[0;32m----> 3\u001b[0m     \u001b[39mfor\u001b[39;00m alumno \u001b[39min\u001b[39;00m rango_alumnos:\n\u001b[1;32m      4\u001b[0m         notas_individuales\u001b[39m=\u001b[39m[]\n\u001b[1;32m      5\u001b[0m         \u001b[39mfor\u001b[39;00m nota \u001b[39min\u001b[39;00m rango_notas:\n",
      "\u001b[0;31mTypeError\u001b[0m: 'function' object is not iterable"
     ]
    }
   ],
   "source": [
    "def media_Aritmetica(a):\n",
    "    notas_generales=[]\n",
    "    for alumno in rango_alumnos:\n",
    "        notas_individuales=[]\n",
    "        for nota in rango_notas:\n",
    "            notas_individuales.append(eval(input(\"Introduce la nota: \")))\n",
    "        return notas_individuales\n",
    "\n",
    "media_Aritmetica(3)\n"
   ]
  },
  {
   "cell_type": "code",
   "execution_count": 101,
   "metadata": {},
   "outputs": [
    {
     "data": {
      "text/plain": [
       "6"
      ]
     },
     "execution_count": 101,
     "metadata": {},
     "output_type": "execute_result"
    }
   ],
   "source": [
    "def prueba(a,b):\n",
    "    for alumnos1 in a:\n",
    "        suma=0\n",
    "        for nota in b:\n",
    "            suma= suma + nota\n",
    "    return suma\n",
    "\n",
    "prueba(rango_alumnos(3),rango_notas(3))\n"
   ]
  },
  {
   "cell_type": "code",
   "execution_count": 13,
   "metadata": {},
   "outputs": [
    {
     "name": "stdout",
     "output_type": "stream",
     "text": [
      "2\n",
      "[2]\n",
      "3\n",
      "[2, 3]\n",
      "5\n",
      "[2, 3, 5]\n",
      "7\n",
      "[2, 3, 5, 7]\n",
      "los numeros primos de 2 hasta 7 son [2, 3, 5, 7]\n"
     ]
    }
   ],
   "source": [
    "numero= 10\n",
    "\n",
    "lista=list(range(2, numero+1))\n",
    "\n",
    "criba= []\n",
    "\n",
    "while lista != []:\n",
    "    a=lista[0]\n",
    "    print(a)\n",
    "    criba.append(a) \n",
    "    print(criba)\n",
    "    for numero in lista:\n",
    "        if numero % a == 0:\n",
    "            lista.remove(numero)\n",
    "print(\"los numeros primos de 2 hasta {} son {}\".format(numero, criba))\n"
   ]
  },
  {
   "cell_type": "code",
   "execution_count": null,
   "metadata": {},
   "outputs": [],
   "source": []
  }
 ],
 "metadata": {
  "kernelspec": {
   "display_name": "Python 3.10.6 64-bit",
   "language": "python",
   "name": "python3"
  },
  "language_info": {
   "codemirror_mode": {
    "name": "ipython",
    "version": 3
   },
   "file_extension": ".py",
   "mimetype": "text/x-python",
   "name": "python",
   "nbconvert_exporter": "python",
   "pygments_lexer": "ipython3",
   "version": "3.10.6"
  },
  "orig_nbformat": 4,
  "vscode": {
   "interpreter": {
    "hash": "916dbcbb3f70747c44a77c7bcd40155683ae19c65e1c03b4aa3499c5328201f1"
   }
  }
 },
 "nbformat": 4,
 "nbformat_minor": 2
}
