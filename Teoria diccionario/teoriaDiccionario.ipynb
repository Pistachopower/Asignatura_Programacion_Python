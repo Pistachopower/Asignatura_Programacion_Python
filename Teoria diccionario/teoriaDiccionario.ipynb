{
 "cells": [
  {
   "cell_type": "markdown",
   "metadata": {},
   "source": []
  },
  {
   "cell_type": "markdown",
   "metadata": {},
   "source": [
    "TEMAS:\n",
    "\n",
    "tuplas \n",
    "diccionarios\n",
    "conjuntos\n",
    "Pilas y colas\n"
   ]
  },
  {
   "cell_type": "code",
   "execution_count": 7,
   "metadata": {},
   "outputs": [
    {
     "data": {
      "text/plain": [
       "4"
      ]
     },
     "execution_count": 7,
     "metadata": {},
     "output_type": "execute_result"
    }
   ],
   "source": [
    "\"\"\"\n",
    "Coleccion de datos \n",
    "\n",
    "1.Tuplas \n",
    "Conjuntos de elementos ordenados e inmutables del mismo tipo o diferente.\n",
    "Se presenta escribiendo los elementos entre parentesis y separados por \n",
    "comas. Es importante saber que no son inmutables. \n",
    "\"\"\"\n",
    "\n",
    "tupla= (\"hola\", 8, -5, [2,4,6])\n",
    "#tupla[3][1]\n",
    "\n",
    "len(tupla)\n"
   ]
  },
  {
   "cell_type": "code",
   "execution_count": 9,
   "metadata": {},
   "outputs": [
    {
     "data": {
      "text/plain": [
       "1"
      ]
     },
     "execution_count": 9,
     "metadata": {},
     "output_type": "execute_result"
    }
   ],
   "source": [
    "### Metodo index: \n",
    "# para buscar un elemento  y conocer su posicion dentro\n",
    "#de la tupla. Si no se encuentra dentro de la tupla da \n",
    "#error.\n",
    "tupla= (\"hola\", 8, -5, [2,4,6])\n",
    "\n",
    "tupla.index(\"hola\")\n",
    " \n",
    "#funcion count te cuenta el total de la tupla\n",
    "\n",
    "tupla.count('hola')\n"
   ]
  },
  {
   "cell_type": "code",
   "execution_count": 11,
   "metadata": {},
   "outputs": [
    {
     "data": {
      "text/plain": [
       "2"
      ]
     },
     "execution_count": 11,
     "metadata": {},
     "output_type": "execute_result"
    }
   ],
   "source": [
    "tupla=(8,5,9,4,5,8)\n",
    "\n",
    "tupla.count(8)"
   ]
  },
  {
   "cell_type": "code",
   "execution_count": 12,
   "metadata": {},
   "outputs": [
    {
     "name": "stdout",
     "output_type": "stream",
     "text": [
      "set()\n"
     ]
    }
   ],
   "source": [
    "#Conjuntos: coleccion no ordenada de objetos unicos. \n",
    "# Son mutables.\n",
    "#No repite los elementos en el print\n",
    "\n",
    "\n",
    "conjunto= set()\n",
    "print(conjunto)\n"
   ]
  },
  {
   "cell_type": "code",
   "execution_count": 14,
   "metadata": {},
   "outputs": [
    {
     "name": "stdout",
     "output_type": "stream",
     "text": [
      "{1, 2, 3}\n"
     ]
    }
   ],
   "source": [
    "conjunto= {1,2,3,1,2,3}\n",
    "print(conjunto)"
   ]
  },
  {
   "cell_type": "code",
   "execution_count": 20,
   "metadata": {},
   "outputs": [
    {
     "name": "stdout",
     "output_type": "stream",
     "text": [
      "{1, 2, 3, 4, 'z', 'd'}\n",
      "{1, 2, 3, 4, 5, 'z', 'd'}\n",
      "{1, 2, 3, 4, 'z', 'd'}\n"
     ]
    }
   ],
   "source": [
    "#metodo add() y discard() es añadir o borrar\n",
    "#Podemos añadir o eliminar un elemento con estos \n",
    "#metodos, indicando el elemento como argumento\n",
    "\n",
    "s= {1,2,3,4,'z','d'}\n",
    "print(s)\n",
    "\n",
    "s.add(5)\n",
    "print(s)\n",
    "\n",
    "s.discard(5)\n",
    "print(s)"
   ]
  },
  {
   "cell_type": "code",
   "execution_count": 21,
   "metadata": {},
   "outputs": [
    {
     "data": {
      "text/plain": [
       "True"
      ]
     },
     "execution_count": 21,
     "metadata": {},
     "output_type": "execute_result"
    }
   ],
   "source": [
    "#metodo in\n",
    "\n",
    "grupo= {\"Juan\", \"Nelson\", \"Alberto\"}\n",
    "\n",
    "\"Nelson\" in grupo"
   ]
  },
  {
   "cell_type": "code",
   "execution_count": 23,
   "metadata": {},
   "outputs": [
    {
     "data": {
      "text/plain": [
       "[1, 2, 3]"
      ]
     },
     "execution_count": 23,
     "metadata": {},
     "output_type": "execute_result"
    }
   ],
   "source": [
    "#Metodo set: vuelve una lista en un conjunto de elementos\n",
    "#no repetidos\n",
    "lista= [1,2,3, 3,2,1]\n",
    "\n",
    "set(lista)\n",
    "\n",
    "\n",
    "list(set(lista))\n",
    "\n"
   ]
  },
  {
   "cell_type": "code",
   "execution_count": 24,
   "metadata": {},
   "outputs": [],
   "source": [
    "lista= [1,2,3, 3,2,1]"
   ]
  },
  {
   "cell_type": "code",
   "execution_count": 25,
   "metadata": {},
   "outputs": [
    {
     "data": {
      "text/plain": [
       "{' ', 'a', 'i', 'l', 'n', 'o', 'p', 'v', 'y'}"
      ]
     },
     "execution_count": 25,
     "metadata": {},
     "output_type": "execute_result"
    }
   ],
   "source": [
    "#te imprime los caracteres sin repetirlos \n",
    "s= \"al pan pan y al vino vino\"\n",
    "set(s)\n",
    "\n"
   ]
  },
  {
   "cell_type": "code",
   "execution_count": 26,
   "metadata": {},
   "outputs": [],
   "source": [
    "#Diccionarios:se basan en una estructura mapeada donde \n",
    "#cada elemento de la coleccion de la coleccion \n",
    "# se encuentra identificado con una clave unica. Para\n",
    "#cada elemento se define la sintaxis:\n",
    "#sintaxis elemento: clave\n",
    "colores= {\"amarillo\":\"yellow\", \"azul\":\"blue\"}\n",
    "\n",
    "\n",
    " \n"
   ]
  },
  {
   "cell_type": "code",
   "execution_count": null,
   "metadata": {},
   "outputs": [],
   "source": [
    "colores['verde']='green'\n",
    "\n",
    "colores\n",
    "\n",
    "diccionario= {}"
   ]
  },
  {
   "cell_type": "code",
   "execution_count": 3,
   "metadata": {},
   "outputs": [
    {
     "data": {
      "text/plain": [
       "'diez'"
      ]
     },
     "execution_count": 3,
     "metadata": {},
     "output_type": "execute_result"
    }
   ],
   "source": [
    "#Consultar \n",
    "\n",
    "numeros= {10:'diez', 20:'veinte'}\n",
    "\n",
    "numeros[10]"
   ]
  },
  {
   "cell_type": "code",
   "execution_count": 5,
   "metadata": {},
   "outputs": [],
   "source": [
    "#funcion del: eliminar elementos del dicionario \n",
    "\n"
   ]
  },
  {
   "cell_type": "code",
   "execution_count": 6,
   "metadata": {},
   "outputs": [
    {
     "name": "stdout",
     "output_type": "stream",
     "text": [
      "{'Hector': 27, 'Juan': 45, 'Maria': 34}\n",
      "{'Hector': 28, 'Juan': 45, 'Maria': 34}\n"
     ]
    },
    {
     "data": {
      "text/plain": [
       "79"
      ]
     },
     "execution_count": 6,
     "metadata": {},
     "output_type": "execute_result"
    }
   ],
   "source": [
    "#recorrer un elemento de un diccionario con un for\n",
    "\n",
    "edades= {'Hector': 27, 'Juan': 45, 'Maria':34}\n",
    "print(edades)\n",
    "edades['Hector']+=1\n",
    "print(edades)\n",
    "edades['Juan'] + edades['Maria']\n"
   ]
  },
  {
   "cell_type": "code",
   "execution_count": 9,
   "metadata": {},
   "outputs": [
    {
     "name": "stdout",
     "output_type": "stream",
     "text": [
      "28\n",
      "45\n",
      "34\n"
     ]
    }
   ],
   "source": [
    "\"\"\"\n",
    "for edad in edades:\n",
    "    print(edad)\n",
    "\"\"\"\n",
    "\n",
    "for clave in edades:\n",
    "    print(edades[clave])\n",
    "    "
   ]
  },
  {
   "cell_type": "code",
   "execution_count": 10,
   "metadata": {},
   "outputs": [
    {
     "name": "stdout",
     "output_type": "stream",
     "text": [
      "Hector 28\n",
      "Juan 45\n",
      "Maria 34\n"
     ]
    }
   ],
   "source": [
    "#Metod items() se muestra dos diccionarios a la vez\n",
    "for clave, valor in edades.items():\n",
    "    print(clave,valor)\n"
   ]
  },
  {
   "cell_type": "code",
   "execution_count": 12,
   "metadata": {},
   "outputs": [],
   "source": [
    "personajes=[]\n",
    "\n",
    "p={'nombre':'gandalt', 'clase':'mago', 'raza':'istar'}\n",
    "personajes.append(p)"
   ]
  },
  {
   "cell_type": "code",
   "execution_count": 13,
   "metadata": {},
   "outputs": [],
   "source": [
    "p={'nombre':'legolas', 'clase':'arquero', 'raza':'elfo'}\n",
    "personajes.append(p)"
   ]
  },
  {
   "cell_type": "code",
   "execution_count": 14,
   "metadata": {},
   "outputs": [
    {
     "name": "stdout",
     "output_type": "stream",
     "text": [
      "[{'nombre': 'gandalt', 'clase': 'mago', 'raza': 'istar'}, {'nombre': 'legolas', 'clase': 'arquero', 'raza': 'elfo'}]\n"
     ]
    }
   ],
   "source": [
    "print(personajes)"
   ]
  },
  {
   "cell_type": "code",
   "execution_count": 15,
   "metadata": {},
   "outputs": [
    {
     "name": "stdout",
     "output_type": "stream",
     "text": [
      "gandalt mago\n",
      "legolas arquero\n"
     ]
    }
   ],
   "source": [
    "for p in personajes:\n",
    "    print(p['nombre'], p['clase'])"
   ]
  },
  {
   "cell_type": "code",
   "execution_count": 17,
   "metadata": {},
   "outputs": [
    {
     "data": {
      "text/plain": [
       "[3, 4, 5, 6]"
      ]
     },
     "execution_count": 17,
     "metadata": {},
     "output_type": "execute_result"
    }
   ],
   "source": [
    "#PILAS LIFO el ultimo que llega es el primero que se va   \n",
    "# COLAS FIFO el primero que lleva es el primero que se va\n",
    "\n",
    "pila=[3,4,5]\n",
    "pila.append(6)\n",
    "pila"
   ]
  },
  {
   "cell_type": "markdown",
   "metadata": {},
   "source": []
  },
  {
   "cell_type": "code",
   "execution_count": 18,
   "metadata": {},
   "outputs": [
    {
     "data": {
      "text/plain": [
       "6"
      ]
     },
     "execution_count": 18,
     "metadata": {},
     "output_type": "execute_result"
    }
   ],
   "source": [
    "pila.pop()"
   ]
  },
  {
   "cell_type": "code",
   "execution_count": 21,
   "metadata": {},
   "outputs": [
    {
     "data": {
      "text/plain": [
       "deque([])"
      ]
     },
     "execution_count": 21,
     "metadata": {},
     "output_type": "execute_result"
    }
   ],
   "source": [
    "#libreria\n",
    "from collections import deque\n",
    "cola= deque()\n",
    "cola\n",
    "\n"
   ]
  },
  {
   "cell_type": "code",
   "execution_count": 22,
   "metadata": {},
   "outputs": [
    {
     "data": {
      "text/plain": [
       "deque(['hector', 'juan', 'miguel'])"
      ]
     },
     "execution_count": 22,
     "metadata": {},
     "output_type": "execute_result"
    }
   ],
   "source": [
    "\n",
    "from collections import deque\n",
    "cola= deque(['hector','juan', 'miguel'])\n",
    "cola\n"
   ]
  },
  {
   "cell_type": "code",
   "execution_count": 24,
   "metadata": {},
   "outputs": [
    {
     "name": "stdout",
     "output_type": "stream",
     "text": [
      "deque(['hector', 'juan', 'miguel', 'maria', 'pedro', 'maria', 'pedro'])\n"
     ]
    }
   ],
   "source": [
    "cola.append('maria')\n",
    "cola.append('pedro')\n",
    "print(cola)"
   ]
  },
  {
   "cell_type": "code",
   "execution_count": 25,
   "metadata": {},
   "outputs": [
    {
     "data": {
      "text/plain": [
       "'hector'"
      ]
     },
     "execution_count": 25,
     "metadata": {},
     "output_type": "execute_result"
    }
   ],
   "source": [
    "cola.popleft()"
   ]
  },
  {
   "cell_type": "code",
   "execution_count": 19,
   "metadata": {},
   "outputs": [
    {
     "name": "stdout",
     "output_type": "stream",
     "text": [
      "Hay multiplo de 3\n"
     ]
    }
   ],
   "source": [
    "a,b= 3,7\n",
    "\n",
    "for i in range(a,b+1):\n",
    "    if i % 3 == 0 and i != 0:\n",
    "        print(\"Hay multiplo de 3\")\n",
    "        break\n",
    "    \n",
    "    else:\n",
    "        print(\"No hay multiplo de\")"
   ]
  },
  {
   "cell_type": "markdown",
   "metadata": {},
   "source": [
    "Pedir una lista de cadenas y una longitud minimo y \n",
    "escribir cuantas cadenas alcanzan esa longitud minima\n",
    "y cuantas no. \n"
   ]
  },
  {
   "cell_type": "code",
   "execution_count": 25,
   "metadata": {},
   "outputs": [
    {
     "name": "stdout",
     "output_type": "stream",
     "text": [
      "hola\n",
      "mundo\n",
      "aprender\n"
     ]
    }
   ],
   "source": [
    "#cadena= [\"hola\", \"mundo\", \"aprender\"]\n",
    "#long_min= 5\n",
    "\n",
    "cadena= eval(input(\"Introduce la cadena: \"))\n",
    "long_min= eval(input(\"Introduce la longitud minima: \"))\n",
    "num= 0\n",
    "\n",
    "for i in cadena:\n",
    "    #if len(i) >= "
   ]
  },
  {
   "cell_type": "markdown",
   "metadata": {},
   "source": [
    "Pedir un numero entero positivo y escribir si es primo o no.\n",
    "Numero primo: numero natural mayor que 1 que tiene unicamente divisores propios, él mismo y el 1"
   ]
  },
  {
   "cell_type": "code",
   "execution_count": 39,
   "metadata": {},
   "outputs": [
    {
     "name": "stdout",
     "output_type": "stream",
     "text": [
      "El numero es primo. \n",
      "El numero es primo. \n",
      "El numero no es primo. \n"
     ]
    }
   ],
   "source": [
    "num_primo= int(input(\"Introduce el entero positivo: \"))\n",
    "contador= 0\n",
    "\n",
    "while contador <= num_primo:\n",
    "    contador+=1\n",
    "    if num_primo % contador == 0:\n",
    "        print(\"El numero es primo. \")\n",
    "        \n",
    "    else:\n",
    "        print(\"El numero no es primo. \")"
   ]
  },
  {
   "cell_type": "markdown",
   "metadata": {},
   "source": [
    "Pedir dos números enteros positivos y escribir si son primos entre sí.\n",
    "A y b son primos entre si, si y sólo si su máximo común divisor es 1\n"
   ]
  },
  {
   "cell_type": "code",
   "execution_count": 14,
   "metadata": {},
   "outputs": [
    {
     "name": "stdout",
     "output_type": "stream",
     "text": [
      "3 y 7 son primo\n"
     ]
    }
   ],
   "source": [
    "\"\"\"\n",
    "3 y 7 debe decirte que son primos \n",
    "\"\"\"\n",
    "\n",
    "a= eval(input(\"Introduce el primer valor: \"))\n",
    "b= eval(input(\"Introduce el primer valor: \"))\n",
    "\n",
    "contador=0\n",
    "maximo= max(a,b)\n",
    "minimo= min(a,b)\n",
    "\n",
    "for i in range(1, minimo+1):\n",
    "    if a % i == 0 and b % i == 0:\n",
    "        contador+=1\n",
    "        \n",
    "if contador == 1:\n",
    "    print(\"{} y {} son primo\".format(a,b))\n",
    "else:\n",
    "    print(\"{} y {} no son primo\".format(a,b))"
   ]
  },
  {
   "cell_type": "markdown",
   "metadata": {},
   "source": [
    "Actividad 1. Pedir una lista y escribir cuántos números enteros positivos contiene"
   ]
  },
  {
   "cell_type": "code",
   "execution_count": 19,
   "metadata": {},
   "outputs": [
    {
     "name": "stdout",
     "output_type": "stream",
     "text": [
      "[2, 6, 7]\n"
     ]
    }
   ],
   "source": [
    "a= eval(input(\"Introduce una lista: \"))\n",
    "enteroPositivo=[]\n",
    "\n",
    "for i in a:\n",
    "    if isinstance(i, int) and i > 0:\n",
    "        enteroPositivo.append(i)\n",
    "        \n",
    "print(enteroPositivo)"
   ]
  },
  {
   "cell_type": "markdown",
   "metadata": {},
   "source": [
    "pedir un numero y verificar si es capicua"
   ]
  },
  {
   "cell_type": "code",
   "execution_count": 13,
   "metadata": {},
   "outputs": [
    {
     "name": "stdout",
     "output_type": "stream",
     "text": [
      "El numero 1771  es capicuo \n"
     ]
    }
   ],
   "source": [
    "numero= eval(input(\"Introduce un número: \"))\n",
    "numero_original= numero \n",
    "numero_alreves=0\n",
    "while numero != 0:\n",
    "    digito= numero%10\n",
    "    numero= numero//10\n",
    "    numero_alreves= numero_alreves * 10 + digito\n",
    "if numero_original == numero_alreves:\n",
    "    print(\"El numero {}  es capicuo \".format(numero_original))\n",
    "else:\n",
    "    print(\"El numero {}  no es capicuo \".format(numero_original))\n",
    "\n"
   ]
  },
  {
   "cell_type": "markdown",
   "metadata": {},
   "source": [
    "pedir una lista no vacia de numeros enteros positivos y escribir los divisores comunes de esos numeros "
   ]
  },
  {
   "cell_type": "code",
   "execution_count": null,
   "metadata": {},
   "outputs": [],
   "source": []
  }
 ],
 "metadata": {
  "kernelspec": {
   "display_name": "Python 3 (ipykernel)",
   "language": "python",
   "name": "python3"
  },
  "language_info": {
   "codemirror_mode": {
    "name": "ipython",
    "version": 3
   },
   "file_extension": ".py",
   "mimetype": "text/x-python",
   "name": "python",
   "nbconvert_exporter": "python",
   "pygments_lexer": "ipython3",
   "version": "3.10.6"
  },
  "vscode": {
   "interpreter": {
    "hash": "916dbcbb3f70747c44a77c7bcd40155683ae19c65e1c03b4aa3499c5328201f1"
   }
  }
 },
 "nbformat": 4,
 "nbformat_minor": 2
}
