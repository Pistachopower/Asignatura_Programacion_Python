{
 "cells": [
  {
   "attachments": {},
   "cell_type": "markdown",
   "metadata": {},
   "source": [
    "La estrella (n,q) se construye de la siguiente forma: Se considera un polígono regular de n lados en el que se enumeran sus vértices con los números del 0 al n-1. A continuación se conectan con segmentos el vértice 0 con el vértice q, este con el vértice q + q y así sucesivamente hasta llegar de nuevo hasta el primer vértice de la sucesión. Si quedaran vértices sin conectar se repite de nuevo la operación empezando desde el primer vértice libre hasta que todos los vértices queden conectados.\n",
    "\n",
    "Problema: Pedir los valores n y q y escribir las sucesiones de vértices conectados que forman la estrella (n,q)"
   ]
  },
  {
   "cell_type": "code",
   "execution_count": 4,
   "metadata": {},
   "outputs": [
    {
     "name": "stdout",
     "output_type": "stream",
     "text": [
      "La sucesión de vértices conectados es:\n",
      "0 1 2 "
     ]
    }
   ],
   "source": [
    "n = int(input(\"Ingresa el valor de n: \"))\n",
    "q = int(input(\"Ingresa el valor de q: \"))\n",
    "\n",
    "vertices = []\n",
    "\n",
    "actual = 0\n",
    "while len(vertices) < n:\n",
    "    vertices.append(actual)  \n",
    "    siguiente = (actual + q) % n\n",
    "    while siguiente in vertices:\n",
    "        siguiente = (siguiente + 1) % n\n",
    "        if siguiente == actual:\n",
    "            break\n",
    "    if siguiente == actual:\n",
    "        break\n",
    "    actual = siguiente  \n",
    "if len(vertices) == n:\n",
    "    print(\"La sucesión de vértices conectados es:\")\n",
    "    for vertice in vertices:\n",
    "        print(vertice, end=\" \")\n",
    "else:\n",
    "    print(\"No se puede construir la estrella (n,q) con los valores dados.\")\n",
    "\n"
   ]
  }
 ],
 "metadata": {
  "kernelspec": {
   "display_name": "Python 3",
   "language": "python",
   "name": "python3"
  },
  "language_info": {
   "codemirror_mode": {
    "name": "ipython",
    "version": 3
   },
   "file_extension": ".py",
   "mimetype": "text/x-python",
   "name": "python",
   "nbconvert_exporter": "python",
   "pygments_lexer": "ipython3",
   "version": "3.10.6"
  },
  "orig_nbformat": 4
 },
 "nbformat": 4,
 "nbformat_minor": 2
}
