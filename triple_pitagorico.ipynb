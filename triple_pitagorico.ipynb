{
 "cells": [
  {
   "attachments": {},
   "cell_type": "markdown",
   "metadata": {},
   "source": [
    "Un triple pitagórico es un triple de enteros que satisfacen la igualdad x²+y²=z².\n",
    "Un triple pitagórico es primitivo si (m²-n², 2mn, m²+n²) donde (m, n) verifican que son primos relativos, uno de ellos es par y el otro impar y m>n>0.\n",
    "\n",
    "Dada una lista de triples pitagóricos (tupla de 3 números enteros) obtener la lista de los generadores (tupla de dos números enteros) de esos triples."
   ]
  },
  {
   "cell_type": "code",
   "execution_count": null,
   "metadata": {},
   "outputs": [],
   "source": [
    "import math\n",
    "\n",
    "triples_pitagoricos = [(3, 4, 5), (5, 12, 13), (8, 15, 17), (7, 24, 25)]\n",
    "generadores = []\n",
    "\n",
    "for triple in triples_pitagoricos:\n",
    "    x, y, z = triple\n",
    "    m = int(math.sqrt((x + z) / 2))\n",
    "    n = int(math.sqrt((z - x) / 2))\n",
    "\n",
    "    if m > n:\n",
    "        #\n",
    "        a, b = m, n\n",
    "        while b != 0:\n",
    "            a, b = b, a % b\n",
    "        if a == 1:\n",
    "           \n",
    "            if m % 2 == 0 or n % 2 == 0:\n",
    "                generadores.append((m, n))\n",
    "\n",
    "print(generadores)"
   ]
  }
 ],
 "metadata": {
  "kernelspec": {
   "display_name": "Python 3",
   "language": "python",
   "name": "python3"
  },
  "language_info": {
   "codemirror_mode": {
    "name": "ipython",
    "version": 3
   },
   "file_extension": ".py",
   "mimetype": "text/x-python",
   "name": "python",
   "nbconvert_exporter": "python",
   "pygments_lexer": "ipython3",
   "version": "3.10.6"
  },
  "orig_nbformat": 4
 },
 "nbformat": 4,
 "nbformat_minor": 2
}
